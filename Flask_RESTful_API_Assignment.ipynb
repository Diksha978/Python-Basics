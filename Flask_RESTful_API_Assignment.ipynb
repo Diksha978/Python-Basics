{
 "cells": [
  {
   "cell_type": "markdown",
   "id": "b6712af7",
   "metadata": {},
   "source": [
    "# Flask & RESTful API Assignment"
   ]
  },
  {
   "cell_type": "markdown",
   "id": "2365464e",
   "metadata": {},
   "source": [
    "1. What is a RESTful API\n",
    "  -> A RESTful API (Representational State Transfer API) is a web service architecture that follows REST principles, using standard HTTP methods like GET, POST, PUT, and DELETE to interact with resources identified by URLs. It enables stateless client-server communication and is widely used in web and mobile applications due to its simplicity and scalability."
   ]
  },
  {
   "cell_type": "markdown",
   "id": "6d6a7fe3",
   "metadata": {},
   "source": [
    "2. Explain the concept of API specification\n",
    "  -> API specification defines how software components interact, outlining the available endpoints, request/response formats, authentication methods, and expected behavior. It serves as a blueprint for developers to understand and implement API functionality, ensuring consistency and interoperability."
   ]
  },
  {
   "cell_type": "markdown",
   "id": "a2debfc8",
   "metadata": {},
   "source": [
    "3. What is Flask, and why is it popular for building APIs\n",
    "  -> Flask is a lightweight Python web framework known for its simplicity and flexibility. It allows developers to build web applications and APIs quickly, with minimal setup. Its modular design, built-in development server, and large ecosystem of extensions make it a popular choice for RESTful API development."
   ]
  },
  {
   "cell_type": "markdown",
   "id": "25100ee5",
   "metadata": {},
   "source": [
    "4. What is routing in Flask\n",
    "  -> Routing in Flask refers to the mapping of URLs to specific functions (view functions). When a user accesses a specific route, the associated function is executed. Flask uses the @app.route() decorator to define these routes, allowing developers to create custom paths and handle different HTTP methods."
   ]
  },
  {
   "cell_type": "markdown",
   "id": "7afefff9",
   "metadata": {},
   "source": [
    "5. How do you create a simple Flask application\n",
    "  -> To create a simple Flask application, install Flask, import it, initialize the app using `Flask(__name__)`, define a route using @app.route(), and run the app with `app.run()`. This minimal setup starts a development server and handles incoming web requests."
   ]
  }
 ],
 "metadata": {},
 "nbformat": 4,
 "nbformat_minor": 5
}
