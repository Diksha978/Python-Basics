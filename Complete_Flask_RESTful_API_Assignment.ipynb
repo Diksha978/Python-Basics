{
 "cells": [
  {
   "cell_type": "markdown",
   "id": "b6712af7",
   "metadata": {},
   "source": [
    "# Flask & RESTful API Assignment"
   ]
  },
  {
   "cell_type": "markdown",
   "id": "2365464e",
   "metadata": {},
   "source": [
    "1. What is a RESTful API\n",
    "  -> A RESTful API (Representational State Transfer API) is a web service architecture that follows REST principles, using standard HTTP methods like GET, POST, PUT, and DELETE to interact with resources identified by URLs. It enables stateless client-server communication and is widely used in web and mobile applications due to its simplicity and scalability."
   ]
  },
  {
   "cell_type": "markdown",
   "id": "6d6a7fe3",
   "metadata": {},
   "source": [
    "2. Explain the concept of API specification\n",
    "  -> API specification defines how software components interact, outlining the available endpoints, request/response formats, authentication methods, and expected behavior. It serves as a blueprint for developers to understand and implement API functionality, ensuring consistency and interoperability."
   ]
  },
  {
   "cell_type": "markdown",
   "id": "a2debfc8",
   "metadata": {},
   "source": [
    "3. What is Flask, and why is it popular for building APIs\n",
    "  -> Flask is a lightweight Python web framework known for its simplicity and flexibility. It allows developers to build web applications and APIs quickly, with minimal setup. Its modular design, built-in development server, and large ecosystem of extensions make it a popular choice for RESTful API development."
   ]
  },
  {
   "cell_type": "markdown",
   "id": "25100ee5",
   "metadata": {},
   "source": [
    "4. What is routing in Flask\n",
    "  -> Routing in Flask refers to the mapping of URLs to specific functions (view functions). When a user accesses a specific route, the associated function is executed. Flask uses the @app.route() decorator to define these routes, allowing developers to create custom paths and handle different HTTP methods."
   ]
  },
  {
   "cell_type": "markdown",
   "id": "7afefff9",
   "metadata": {},
   "source": [
    "5. How do you create a simple Flask application\n",
    "  -> To create a simple Flask application, install Flask, import it, initialize the app using `Flask(__name__)`, define a route using @app.route(), and run the app with `app.run()`. This minimal setup starts a development server and handles incoming web requests."
   ]
  },
  {
   "cell_type": "markdown",
   "id": "0018ec71",
   "metadata": {},
   "source": [
    "6. What are HTTP methods used in RESTful APIs\n",
    "  -> HTTP methods used in RESTful APIs include GET (retrieve data), POST (create data), PUT (update data), DELETE (remove data), PATCH (partially update data), and OPTIONS (describe communication options). These methods correspond to CRUD operations and define how clients interact with server resources."
   ]
  },
  {
   "cell_type": "markdown",
   "id": "18605905",
   "metadata": {},
   "source": [
    "7. What is the purpose of the @app.route() decorator in Flask\n",
    "  -> The @app.route() decorator in Flask binds a function to a specific URL path. It tells Flask which URL should trigger the function, enabling developers to define custom routes and handle specific HTTP methods for each route."
   ]
  },
  {
   "cell_type": "markdown",
   "id": "ab9774ed",
   "metadata": {},
   "source": [
    "8. What is the difference between GET and POST HTTP methods\n",
    "  -> GET is used to request data from a server and should not change server state, while POST is used to submit data to be processed, typically causing a change in server state or database. GET appends data to the URL, while POST sends data in the request body, making POST more secure for sensitive data."
   ]
  },
  {
   "cell_type": "markdown",
   "id": "d956a566",
   "metadata": {},
   "source": [
    "9. How do you handle errors in Flask APIs\n",
    "  -> Errors in Flask APIs can be handled using error handlers defined with the @app.errorhandler() decorator. Developers can return custom responses for common errors like 404 (Not Found) or 500 (Internal Server Error), improving user experience and debugging."
   ]
  },
  {
   "cell_type": "markdown",
   "id": "d0ef4882",
   "metadata": {},
   "source": [
    "10. How do you connect Flask to a SQL database\n",
    "  -> Flask can connect to SQL databases using extensions like Flask-SQLAlchemy. Developers define a database URI, initialize SQLAlchemy with the Flask app, and use models to interact with the database through object-relational mapping (ORM)."
   ]
  },
  {
   "cell_type": "markdown",
   "id": "f615c0ef",
   "metadata": {},
   "source": [
    "11. What is the role of Flask-SQLAlchemy\n",
    "  -> Flask-SQLAlchemy is an ORM extension that integrates SQLAlchemy with Flask, simplifying database interactions. It allows developers to define Python classes as database models and perform operations using Python code instead of raw SQL."
   ]
  },
  {
   "cell_type": "markdown",
   "id": "d2ea57ca",
   "metadata": {},
   "source": [
    "12. What are Flask blueprints, and how are they useful\n",
    "  -> Flask blueprints allow developers to organize application components into reusable modules. Each blueprint can contain its own routes, templates, and static files, promoting cleaner code and modular design in larger applications."
   ]
  },
  {
   "cell_type": "markdown",
   "id": "687da185",
   "metadata": {},
   "source": [
    "13. What is the purpose of Flask's request object\n",
    "  -> The request object in Flask provides access to incoming request data, including form data, JSON payloads, headers, and query parameters. It allows the application to process input from the client and respond accordingly."
   ]
  },
  {
   "cell_type": "markdown",
   "id": "204ed894",
   "metadata": {},
   "source": [
    "14. How do you create a RESTful API endpoint using Flask\n",
    "  -> To create a RESTful API endpoint, define a route using @app.route() and specify the allowed HTTP methods. In the view function, handle logic like reading request data and returning JSON responses using Flask’s jsonify()."
   ]
  },
  {
   "cell_type": "markdown",
   "id": "b7419fdd",
   "metadata": {},
   "source": [
    "15. What is the purpose of Flask's jsonify() function\n",
    "  -> The jsonify() function in Flask converts Python dictionaries into JSON responses. It also sets the correct content type (application/json), making it easier to return structured data in API responses."
   ]
  },
  {
   "cell_type": "markdown",
   "id": "97698fa1",
   "metadata": {},
   "source": [
    "16. Explain Flask’s url_for() function\n",
    "  -> Flask’s url_for() function dynamically generates URLs for view functions using their name. It ensures links remain valid even if route paths change, making it easier to maintain applications with multiple routes and templates."
   ]
  },
  {
   "cell_type": "markdown",
   "id": "94e517f1",
   "metadata": {},
   "source": [
    "17. How does Flask handle static files (CSS, JavaScript, etc.)\n",
    "  -> Flask serves static files from the 'static' folder by default. Developers can reference these files using the url_for('static', filename='path/to/file') function in templates."
   ]
  },
  {
   "cell_type": "markdown",
   "id": "8b5db05b",
   "metadata": {},
   "source": [
    "18. What is an API specification, and how does it help in building a Flask API\n",
    "  -> An API specification outlines the structure and behavior of an API, including endpoints, methods, request formats, and responses. It guides development and ensures consistency, especially when multiple teams or tools interact with the API."
   ]
  },
  {
   "cell_type": "markdown",
   "id": "56b39963",
   "metadata": {},
   "source": [
    "19. What are HTTP status codes, and why are they important in a Flask API\n",
    "  -> HTTP status codes indicate the result of an HTTP request. Codes like 200 (OK), 404 (Not Found), and 500 (Internal Server Error) inform clients about success or failure, improving debugging and communication between client and server."
   ]
  },
  {
   "cell_type": "markdown",
   "id": "92ce402b",
   "metadata": {},
   "source": [
    "20. How do you handle POST requests in Flask\n",
    "  -> To handle POST requests in Flask, define a route with the POST method and access incoming data using request.form or request.get_json(). This allows processing of form submissions or JSON payloads from clients."
   ]
  },
  {
   "cell_type": "markdown",
   "id": "3f36e81d",
   "metadata": {},
   "source": [
    "21. How would you secure a Flask API\n",
    "  -> To secure a Flask API, implement authentication (e.g., API keys, OAuth), validate input data, use HTTPS, handle errors properly, and limit access to sensitive endpoints. Extensions like Flask-JWT-Extended can help manage token-based authentication."
   ]
  },
  {
   "cell_type": "markdown",
   "id": "dda070b3",
   "metadata": {},
   "source": [
    "22. What is the significance of the Flask-RESTful extension\n",
    "  -> Flask-RESTful is an extension that simplifies building REST APIs with Flask. It provides resource-based routing, automatic request parsing, and built-in support for common HTTP methods, making API development faster and more structured."
   ]
  },
  {
   "cell_type": "markdown",
   "id": "63e5ba04",
   "metadata": {},
   "source": [
    "23. What is the role of Flask’s session object\n",
    "  -> Flask’s session object stores data across requests for individual users using secure cookies. It is useful for persisting login states, preferences, and temporary user data between page visits."
   ]
  },
  {
   "cell_type": "markdown",
   "id": "e7d65a35",
   "metadata": {},
   "source": [
    "24. How do you create a basic Flask application\n",
    "  -> To create a basic Flask application, install Flask, import it, instantiate an app using Flask(__name__), define a route with @app.route(), and call app.run(). This creates a minimal server ready to respond to HTTP requests."
   ]
  },
  {
   "cell_type": "markdown",
   "id": "dad55d77",
   "metadata": {},
   "source": [
    "25. How do you serve static files like images or CSS in Flask\n",
    "  -> Flask serves static files from a folder named 'static'. You can link to these files in HTML using url_for('static', filename='file.css'). Flask automatically maps the /static/ path to the contents of the static folder."
   ]
  },
  {
   "cell_type": "markdown",
   "id": "df8b7ec5",
   "metadata": {},
   "source": [
    "26. How do you define different routes with different HTTP methods in Flask\n",
    "  -> In Flask, you can define different routes with specific HTTP methods by setting the 'methods' parameter in @app.route(). For example, @app.route('/submit', methods=['POST']) allows handling only POST requests at that route."
   ]
  },
  {
   "cell_type": "markdown",
   "id": "c20d2754",
   "metadata": {},
   "source": [
    "27. How do you render HTML templates in Flask\n",
    "  -> To render HTML templates in Flask, use the render_template() function with templates stored in the 'templates' folder. Flask uses the Jinja2 templating engine to dynamically generate HTML pages based on Python data."
   ]
  },
  {
   "cell_type": "markdown",
   "id": "1661a191",
   "metadata": {},
   "source": [
    "28. How can you generate URLs for routes in Flask using url_for\n",
    "  -> You can generate URLs using url_for('function_name', param=value). This helps avoid hardcoding URLs and ensures correct linking across the application, even if route paths change later."
   ]
  },
  {
   "cell_type": "markdown",
   "id": "8e1c3959",
   "metadata": {},
   "source": [
    "29. How do you handle forms in Flask\n",
    "  -> In Flask, handle forms by defining HTML form elements and processing submitted data in view functions using request.form. Use Flask-WTF for easier validation and CSRF protection."
   ]
  },
  {
   "cell_type": "markdown",
   "id": "1bebffa9",
   "metadata": {},
   "source": [
    "30. How can you validate form data in Flask\n",
    "  -> Form data in Flask can be validated manually by checking required fields or using Flask-WTF, which provides built-in validators, CSRF protection, and integration with Jinja2 templates."
   ]
  },
  {
   "cell_type": "markdown",
   "id": "c8a96536",
   "metadata": {},
   "source": [
    "31. How do you manage sessions in Flask\n",
    "  -> Flask manages sessions using the session object, which stores user data in cookies. The data is signed and encrypted, allowing persistence across requests while maintaining security."
   ]
  },
  {
   "cell_type": "markdown",
   "id": "6901b2a2",
   "metadata": {},
   "source": [
    "32. How do you redirect to a different route in Flask\n",
    "  -> Use Flask’s redirect() function along with url_for() to redirect users to another route. For example, return redirect(url_for('home')) sends the user to the 'home' route."
   ]
  },
  {
   "cell_type": "markdown",
   "id": "c0bf9ced",
   "metadata": {},
   "source": [
    "33. How do you handle errors in Flask (e.g., 404)\n",
    "  -> Flask allows defining custom error handlers using @app.errorhandler(). You can return a custom response or template when specific errors like 404 (Not Found) or 500 (Server Error) occur."
   ]
  },
  {
   "cell_type": "markdown",
   "id": "5f99434e",
   "metadata": {},
   "source": [
    "34. How do you structure a Flask app using Blueprints\n",
    "  -> Use Blueprints to separate concerns in large Flask apps. Create a blueprint with Blueprint(), register routes to it, and register the blueprint with the main app using app.register_blueprint()."
   ]
  },
  {
   "cell_type": "markdown",
   "id": "4909afcc",
   "metadata": {},
   "source": [
    "35. How do you define a custom Jinja filter in Flask\n",
    "  -> To define a custom Jinja filter, create a Python function and register it with app.template_filter(). This allows you to use the function as a filter in Jinja2 templates for custom formatting."
   ]
  },
  {
   "cell_type": "markdown",
   "id": "57b9c7a7",
   "metadata": {},
   "source": [
    "36. How can you redirect with query parameters in Flask\n",
    "  -> Redirect with query parameters using redirect(url_for('route', param=value)). This appends the parameters to the URL, allowing dynamic redirection based on conditions or user input."
   ]
  },
  {
   "cell_type": "markdown",
   "id": "68b97ca6",
   "metadata": {},
   "source": [
    "37. How do you return JSON responses in Flask\n",
    "  -> Use Flask’s jsonify() function to return JSON responses. It automatically sets the correct content type and converts Python dictionaries into valid JSON for API clients."
   ]
  },
  {
   "cell_type": "markdown",
   "id": "6fb79442",
   "metadata": {},
   "source": [
    "38. How do you capture URL parameters in Flask\n",
    "  -> Capture URL parameters in Flask by defining them in the route path like /user/<username>. The parameter value is then passed to the view function as an argument."
   ]
  }
 ],
 "metadata": {},
 "nbformat": 4,
 "nbformat_minor": 5
}
