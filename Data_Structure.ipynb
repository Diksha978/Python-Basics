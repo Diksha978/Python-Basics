{
  "nbformat": 4,
  "nbformat_minor": 0,
  "metadata": {
    "colab": {
      "provenance": []
    },
    "kernelspec": {
      "name": "python3",
      "display_name": "Python 3"
    },
    "language_info": {
      "name": "python"
    }
  },
  "cells": [
    {
      "cell_type": "markdown",
      "source": [
        "# Theory question"
      ],
      "metadata": {
        "id": "JLNomloMMSKc"
      }
    },
    {
      "cell_type": "markdown",
      "source": [
        "1.What are data structures, and why are they important?\n",
        " -> Data structure is a way pf organizing sorting data so that it canbe accessed and manipulated efficiently. It's important because it provides an organized way of storing and managing data, enalbing efficent algoriths. Data structures provide abstraction, allowing programmers to focus on the logical organization of data rather than the low-level details of memory management."
      ],
      "metadata": {
        "id": "QmwWcJFNMaug"
      }
    },
    {
      "cell_type": "markdown",
      "source": [
        "2.Explain the difference between mutable and immutable data types with examples.\n",
        " -> Mutable data types are types of objects that can be changed or modified after they are created.\n",
        "Example Data Types: Lists, Dictionaries, Sets, etc.\n",
        " Immutable data types are types of objects whose values cannot be changed after they are created. If you attempt to modify them, a new object is created.\n",
        "Example Data Types: Tuples, Strings, Integers, etc.\n",
        "Mutuable data example: my_list = [1, 2, 3]\n",
        "my_list[0] = 10  # You can modify the list\n",
        "print(my_list)  \n",
        "Immutable data exmaple: my_string = \"Hello\"\n",
        "my_string = \"Good Morning\"\n",
        "Print(mystring) this will through an error."
      ],
      "metadata": {
        "id": "NfuDrxXkNcfk"
      }
    },
    {
      "cell_type": "markdown",
      "source": [
        "3.What are the main differences between lists and tuples in Python?\n",
        " -> List are mutable while tuples are immutable.\n",
        "  List uses square brackets[] while tuple uses parentheses().\n",
        "  List is bit slower but tuples are copmaritively faster.\n",
        "  List have more no. of inbuilt function as compared to tuples."
      ],
      "metadata": {
        "id": "dr-55Qn4OPG9"
      }
    },
    {
      "cell_type": "markdown",
      "source": [
        "4.Describe how dictionaries store data.\n",
        " -> A dictionary is an unordered collection of items that are stored as key-value pairs. Each item in a dictionary is a combination of a key and its associated value.\n",
        " my_dict = {\"apple\": 1, \"banana\": 2, \"cherry\": 3}\n",
        " In the above example apple banana and cherry are keys and 1,2 and 3 are the values associated with these key respectively. When a key-value pair is inserted, Python hashes the key to find a location in memory where the value will be stored.If the same key is used again, Python reuses the hashed location and updates the value.If a new key is inserted, it assigns a new location based on the hash.\n"
      ],
      "metadata": {
        "id": "R8aVs2ORPLbE"
      }
    },
    {
      "cell_type": "markdown",
      "source": [
        " 5.Why might you use a set instead of a list in Python?\n",
        " -> Sets are unordered and unique collection of element, it doesn't allow duplicate items.Sets support mathematical set operations like union, intersection, difference, and symmetric difference. These operations are very useful for tasks like comparing two collections.Sets are typically more memory-efficient than lists when it comes to storing a large number of items, particularly if you need to ensure uniqueness."
      ],
      "metadata": {
        "id": "LFjxOxKYQHeH"
      }
    },
    {
      "cell_type": "markdown",
      "source": [
        "6.What is a string in Python, and how is it different from a list?\n",
        " -> String is a sequence of characters that represents and manipulate textual data. Characters are represented using numerical values and each character is assigned a unique value. String is different from list as list is mutable while string is immutable. string only contains textual data whereas list can contain an type of data.Strings are ideal for handling and manipulating text (e.g., names, messages, or sentences).Lists are ideal for storing collections of multiple items that can vary in type, and that you may need to modify or update."
      ],
      "metadata": {
        "id": "iuZClSxXQzBT"
      }
    },
    {
      "cell_type": "markdown",
      "source": [
        "7.How do tuples ensure data integrity in Python?\n",
        " -> uples help ensure data integrity primarily because they are immutable, meaning once a tuple is created, its elements cannot be changed, added, or removed. This immutability provides several benefits that contribute to ensuring the integrity of the data stored in tuples."
      ],
      "metadata": {
        "id": "EafhBGv_SGcJ"
      }
    },
    {
      "cell_type": "markdown",
      "source": [
        "8. What is a hash table, and how does it relate to dictionaries in Python?\n",
        " -> A hash table is a data structure used to store key-value pairs, allowing for fast data retrieval. It works by using a hash function to compute an index (also called a hash code) that determines where the value associated with a key should be stored in memory. It is similar to dictornary as dictonary also uses key pair value for storing data. A dictionary is implemented using a hash table. When you create a dictionary and perform operations like adding, retrieving, or removing items, Python internally uses a hash table to map the keys to their corresponding values."
      ],
      "metadata": {
        "id": "Pm3c3-IdSbeL"
      }
    },
    {
      "cell_type": "markdown",
      "source": [
        "9.Can lists contain different data types in Python?\n",
        " -> Yes list can store any type of data whether it's integers, strings, floats, booleans, other lists, and even complex objects.Python lists are heterogeneous.\n"
      ],
      "metadata": {
        "id": "WZGylehHTBYl"
      }
    },
    {
      "cell_type": "markdown",
      "source": [
        "10. Explain why strings are immutable in Python.\n",
        " -> strings are immutable, meaning once a string is created, its value cannot be changed. The immutability of strings in Python is a design decision that offers several benefits related to performance, security, and simplicity.It's more memory efficient, It ensures that strings cannot be accidentally modified, leading to more predictable behavior."
      ],
      "metadata": {
        "id": "JWZRvbYxWGaf"
      }
    },
    {
      "cell_type": "markdown",
      "source": [
        "11. What advantages do dictionaries offer over lists for certain tasks?\n",
        "  -> Dictionaries offer several advantages over lists, especially for tasks involving fast lookups and key-value mapping. They provide O(1) average-time lookups, making data retrieval faster than lists, which require O(n) for searching by value. Dictionaries store unique key-value pairs, making them ideal for tasks where you need to associate a key with a value, while lists can only store values. Insertion and deletion in dictionaries are efficient (O(1)), unlike lists, which can be slower due to shifting elements. Dictionaries also handle missing keys gracefully with methods like .get(), while lists don’t. Overall, dictionaries are better for fast data access, ensuring key uniqueness, and handling dynamic data efficiently."
      ],
      "metadata": {
        "id": "-Pm3ThqhW35X"
      }
    },
    {
      "cell_type": "markdown",
      "source": [
        "12. Describe a scenario where using a tuple would be preferable over a list.\n",
        "  -> when you need to store data that should remain constant throughout the lifetime of the program, ensuring that it cannot be accidentally modified, we should use tuple not list.Tuple ensures data intregity. Suppose you want to store employess aadhar no. then you should use tuples.\n"
      ],
      "metadata": {
        "id": "IRCQOy8zXvCm"
      }
    },
    {
      "cell_type": "markdown",
      "source": [
        "13.How do sets handle duplicate values in Python?\n",
        " -> sets automatically remove duplicate values. A set is an unordered collection of unique elements, so if you try to add an element that already exists in the set, it will simply be ignored, and no error will be raised."
      ],
      "metadata": {
        "id": "PebOazXTYWU6"
      }
    },
    {
      "cell_type": "markdown",
      "source": [
        "14.How does the “in” keyword work differently for lists and dictionaries?\n",
        " -> When used with a list, the in keyword checks if a specific value is present in the list. It returns True if the value exists and False if it doesn’t.\n",
        " my_list = [1, 2, 3, 4]\n",
        " print(3 in my_list)  # Output: True\n",
        " print(5 in my_list)  # Output: False\n",
        " When used with a dictionary, the in keyword checks for the presence of a key in the dictionary, not the value. It returns True if the specified key exists in the dictionary, and False if it doesn't.\n",
        " my_dict = {\"apple\": 1, \"banana\": 2, \"cherry\": 3}\n",
        "print(\"apple\" in my_dict)  # Output: True\n",
        "print(\"orange\" in my_dict)  # Output: False"
      ],
      "metadata": {
        "id": "C3cjrH62Y5Lc"
      }
    },
    {
      "cell_type": "markdown",
      "source": [
        "15.Can you modify the elements of a tuple? Explain why or why not?\n",
        " -> No, you cannot modify the elements of a tuple in Python. This is because tuples are immutable. Once a tuple is created, its elements cannot be changed, added, or removed. This immutability is a fundamental property of tuples in Python."
      ],
      "metadata": {
        "id": "x-h3ap1mkXc5"
      }
    },
    {
      "cell_type": "markdown",
      "source": [
        " 16.What is a nested dictionary, and give an example of its use case?\n",
        "  -> A nested dictionary in Python is a dictionary where the values themselves are dictionaries. This allows you to store more complex, hierarchical data structures where each key points to another dictionary, which may contain its own keys and values. Nested dictionaries are useful when you need to represent multi-level or structured data in an easily accessible way.in simple language its dictionary inside dictionary.\n",
        "  example: students = {\n",
        "    \"Diksha\": {\n",
        "        \"age\": 15,\n",
        "        \"grades\": {\"math\": 90, \"science\": 88, \"english\": 95},\n",
        "        \"contact\": {\"email\": \"diksha@gmail.com\", \"phone\": \"123-456-7890\"}\n",
        "    },"
      ],
      "metadata": {
        "id": "hDygJhN9kwvq"
      }
    },
    {
      "cell_type": "markdown",
      "source": [
        "17.Describe the time complexity of accessing elements in a dictionary.\n",
        "-> In Python, the time complexity for accessing elements in a dictionary is O(1) on average, meaning it takes constant time regardless of the dictionary's size. This efficiency is due to the use of hash tables, where a key is hashed to directly retrieve its corresponding value. In rare cases of hash collisions, the time complexity can degrade to O(n), but Python's implementation handles collisions efficiently, making this worst-case scenario uncommon."
      ],
      "metadata": {
        "id": "tKCrqwS-lY_Y"
      }
    },
    {
      "cell_type": "markdown",
      "source": [
        " 18.In what situations are lists preferred over dictionaries?\n",
        "  -> Lists are preferred over dictionaries in situations where you need to maintain the order of elements or perform operations like sorting, lists are better because they are ordered collections. Dictionaries, while they now maintain insertion order in Python 3.7 and above, are primarily designed for key-value mapping, not for ordered data storage.Lists allow you to access elements by their index, when you have a collection of similar items (e.g., all integers or strings) and don’t need key-value pairs, lists are simpler and more appropriate since they are optimized for storing a sequence of elements of the same type.If you just need to add, remove, or update elements based on their position rather than a key, lists are easier to work with. Operations like appending, inserting, or removing items at specific positions are simple with lists."
      ],
      "metadata": {
        "id": "fRnFUH-ZmGdV"
      }
    },
    {
      "cell_type": "markdown",
      "source": [
        "19.Why are dictionaries considered unordered, and how does that affect data retrieval?\n",
        "-> Dictionaries in Python were traditionally considered unordered because they were implemented using hash tables, which focus on fast key-value lookups (O(1) time complexity) and don't guarantee any specific order of elements. However, starting with Python 3.7, dictionaries preserve insertion order, meaning the order in which items are added is maintained during iteration. This change doesn't affect the efficiency of data retrieval by key, which remains fast, but it allows for more predictable iteration. Despite this, dictionaries are still not intended for maintaining an order like lists or tuples. Their primary function is efficient key-based access."
      ],
      "metadata": {
        "id": "xbGWO7FSm1lo"
      }
    },
    {
      "cell_type": "markdown",
      "source": [
        "20.Explain the difference between a list and a dictionary in terms of data retrieval.\n",
        "-> Lists access elements by their numerical index (starting from 0), while dictionaries access elements (values) by their unique keys, offering faster lookup for specific data based on those keys.\n",
        "my_list = [10, 20, 30]\n",
        "print(my_list[1])  # Output: 20 (O(1) time)\n",
        "y_dict = {\"apple\": 1, \"banana\": 2}\n",
        "print(my_dict[\"banana\"])  # Output: 2 (O(1) time)"
      ],
      "metadata": {
        "id": "QbV6fGgDoKIj"
      }
    },
    {
      "cell_type": "markdown",
      "source": [
        "# Practical Question.\n"
      ],
      "metadata": {
        "id": "ywhDcgZdq6Xj"
      }
    },
    {
      "cell_type": "markdown",
      "source": [
        "1.Write a code to create a string with your name and print it."
      ],
      "metadata": {
        "id": "n-j2hQ-5rE-N"
      }
    },
    {
      "cell_type": "code",
      "source": [
        "my_name = \"Diksha\"\n",
        "print(my_name)"
      ],
      "metadata": {
        "colab": {
          "base_uri": "https://localhost:8080/"
        },
        "id": "EJntCRrIrIIX",
        "outputId": "bb9dd52d-cfd7-47b8-c271-1d602c614255"
      },
      "execution_count": 1,
      "outputs": [
        {
          "output_type": "stream",
          "name": "stdout",
          "text": [
            "Diksha\n"
          ]
        }
      ]
    },
    {
      "cell_type": "markdown",
      "source": [
        "2.Write a code to find the length of the string \"Hello World\"."
      ],
      "metadata": {
        "id": "FxpVhCRDrjOG"
      }
    },
    {
      "cell_type": "code",
      "source": [
        "my_string = \"Hello World\"\n",
        "length_of_string = len(my_string)\n",
        "print(length_of_string)"
      ],
      "metadata": {
        "colab": {
          "base_uri": "https://localhost:8080/"
        },
        "id": "sY57cyg6rm-V",
        "outputId": "cf17a867-1ee5-4507-ac0b-c4e2d7538f59"
      },
      "execution_count": 3,
      "outputs": [
        {
          "output_type": "stream",
          "name": "stdout",
          "text": [
            "11\n"
          ]
        }
      ]
    },
    {
      "cell_type": "markdown",
      "source": [
        "3.Write a code to slice the first 3 characters from the string \"Python Programming\""
      ],
      "metadata": {
        "id": "UcyLi-xFr44s"
      }
    },
    {
      "cell_type": "code",
      "source": [
        "my_string = \"Python Programming\"\n",
        "sliced_string = my_string[:3]\n",
        "print(sliced_string)"
      ],
      "metadata": {
        "colab": {
          "base_uri": "https://localhost:8080/"
        },
        "id": "9WJKRs4Cr8Im",
        "outputId": "1d747038-bb2b-4ca8-cf00-0a97d488a0d6"
      },
      "execution_count": 4,
      "outputs": [
        {
          "output_type": "stream",
          "name": "stdout",
          "text": [
            "Pyt\n"
          ]
        }
      ]
    },
    {
      "cell_type": "markdown",
      "source": [
        "4.Write a code to convert the string \"hello\" to uppercase"
      ],
      "metadata": {
        "id": "cgV3vCtdsGAT"
      }
    },
    {
      "cell_type": "code",
      "source": [
        "my_string = \"hello\"\n",
        "my_string = my_string.upper()\n",
        "print(my_string)"
      ],
      "metadata": {
        "colab": {
          "base_uri": "https://localhost:8080/"
        },
        "id": "I-h1_AVEsJMt",
        "outputId": "f64d6307-17d3-4df0-ab3c-4fbefc47e535"
      },
      "execution_count": 5,
      "outputs": [
        {
          "output_type": "stream",
          "name": "stdout",
          "text": [
            "HELLO\n"
          ]
        }
      ]
    },
    {
      "cell_type": "markdown",
      "source": [
        " 5.Write a code to replace the word \"apple\" with \"orange\" in the string \"I like apple\"."
      ],
      "metadata": {
        "id": "39QPqmoRsQ9W"
      }
    },
    {
      "cell_type": "code",
      "source": [
        "my_string = \"I like apple\"\n",
        "new_string = my_string.replace(\"apple\", \"orange\")\n",
        "print(new_string)"
      ],
      "metadata": {
        "colab": {
          "base_uri": "https://localhost:8080/"
        },
        "id": "PvJp4dfPsWI1",
        "outputId": "6205a451-254c-47da-bd9f-b43c8c1fbf83"
      },
      "execution_count": 6,
      "outputs": [
        {
          "output_type": "stream",
          "name": "stdout",
          "text": [
            "I like orange\n"
          ]
        }
      ]
    },
    {
      "cell_type": "markdown",
      "source": [
        "6.Write a code to create a list with numbers 1 to 5 and print it."
      ],
      "metadata": {
        "id": "-W-caRYCsjm2"
      }
    },
    {
      "cell_type": "code",
      "source": [
        "my_list = [1,2,3,4,5]\n",
        "print(my_list)"
      ],
      "metadata": {
        "colab": {
          "base_uri": "https://localhost:8080/"
        },
        "id": "dCxwd5HwsqLD",
        "outputId": "ca00c18a-3285-4c1d-dbf4-09c7678dc723"
      },
      "execution_count": 7,
      "outputs": [
        {
          "output_type": "stream",
          "name": "stdout",
          "text": [
            "[1, 2, 3, 4, 5]\n"
          ]
        }
      ]
    },
    {
      "cell_type": "markdown",
      "source": [
        "7.Write a code to append the number 10 to the list [1, 2, 3, 4]"
      ],
      "metadata": {
        "id": "d4rkvnUktARl"
      }
    },
    {
      "cell_type": "code",
      "source": [
        "my_list = [1,2,3,4]\n",
        "my_list.append(10)\n",
        "print(my_list)"
      ],
      "metadata": {
        "colab": {
          "base_uri": "https://localhost:8080/"
        },
        "id": "CbCOcCwStD5d",
        "outputId": "f6c60207-1ce3-4fcb-9b5c-bf508cb4107c"
      },
      "execution_count": 8,
      "outputs": [
        {
          "output_type": "stream",
          "name": "stdout",
          "text": [
            "[1, 2, 3, 4, 10]\n"
          ]
        }
      ]
    },
    {
      "cell_type": "markdown",
      "source": [
        "8.Write a code to remove the number 3 from the list [1, 2, 3, 4, 5]"
      ],
      "metadata": {
        "id": "sJZi0ioxtL81"
      }
    },
    {
      "cell_type": "code",
      "source": [
        "my_list = [1,2,3,4,5 ]\n",
        "my_list.remove(3)\n",
        "print(my_list)"
      ],
      "metadata": {
        "colab": {
          "base_uri": "https://localhost:8080/"
        },
        "id": "f39xyrDytgp0",
        "outputId": "55553c10-b141-48af-b92f-db02787012b4"
      },
      "execution_count": 9,
      "outputs": [
        {
          "output_type": "stream",
          "name": "stdout",
          "text": [
            "[1, 2, 4, 5]\n"
          ]
        }
      ]
    },
    {
      "cell_type": "markdown",
      "source": [
        "9.Write a code to access the second element in the list ['a', 'b', 'c', 'd']."
      ],
      "metadata": {
        "id": "O-ZPxqXjtvS1"
      }
    },
    {
      "cell_type": "code",
      "source": [
        "my_list = ['a', 'b', 'c', 'd']\n",
        "print(my_list[1])"
      ],
      "metadata": {
        "colab": {
          "base_uri": "https://localhost:8080/"
        },
        "id": "qh040zZGt0Qk",
        "outputId": "65b8532e-5dd0-4e22-b837-f3503657bbfa"
      },
      "execution_count": 10,
      "outputs": [
        {
          "output_type": "stream",
          "name": "stdout",
          "text": [
            "b\n"
          ]
        }
      ]
    },
    {
      "cell_type": "markdown",
      "source": [
        "10.Write a code to reverse the list [10, 20, 30, 40, 50]"
      ],
      "metadata": {
        "id": "zQJj-bsvuFFS"
      }
    },
    {
      "cell_type": "code",
      "source": [
        "my_list = [10, 20, 30, 40, 50]\n",
        "reversed_list = my_list[::-1]\n",
        "print(reversed_list)"
      ],
      "metadata": {
        "colab": {
          "base_uri": "https://localhost:8080/"
        },
        "id": "AAbJ6Nn5uHoN",
        "outputId": "d2f1a7aa-defc-4f43-80ec-762d7680557e"
      },
      "execution_count": 14,
      "outputs": [
        {
          "output_type": "stream",
          "name": "stdout",
          "text": [
            "[50, 40, 30, 20, 10]\n"
          ]
        }
      ]
    },
    {
      "cell_type": "markdown",
      "source": [
        "11.Write a code to create a tuple with the elements 100, 200, 300 and print it."
      ],
      "metadata": {
        "id": "3w729awzuv1r"
      }
    },
    {
      "cell_type": "code",
      "source": [
        "my_tuple = (100, 200, 300)\n",
        "print(my_tuple)"
      ],
      "metadata": {
        "colab": {
          "base_uri": "https://localhost:8080/"
        },
        "id": "n0rBhK9xuz-7",
        "outputId": "09377f16-64ea-40c0-a0a3-038209589eec"
      },
      "execution_count": 15,
      "outputs": [
        {
          "output_type": "stream",
          "name": "stdout",
          "text": [
            "(100, 200, 300)\n"
          ]
        }
      ]
    },
    {
      "cell_type": "markdown",
      "source": [
        "12.Write a code to access the second-to-last element of the tuple ('red', 'green', 'blue', 'yellow')."
      ],
      "metadata": {
        "id": "HSxoIhaeu-lz"
      }
    },
    {
      "cell_type": "code",
      "source": [
        "my_tuple = ('red', 'green', 'blue', 'yellow')\n",
        "print(my_tuple[-2])"
      ],
      "metadata": {
        "colab": {
          "base_uri": "https://localhost:8080/"
        },
        "id": "Xm27Wt7UvDW7",
        "outputId": "13a9966d-0e47-40b1-d88b-b1ed0f59abeb"
      },
      "execution_count": 16,
      "outputs": [
        {
          "output_type": "stream",
          "name": "stdout",
          "text": [
            "blue\n"
          ]
        }
      ]
    },
    {
      "cell_type": "markdown",
      "source": [
        "13.Write a code to find the minimum number in the tuple (10, 20, 5, 15)."
      ],
      "metadata": {
        "id": "62EHGpU4vKO7"
      }
    },
    {
      "cell_type": "code",
      "source": [
        "my_tuple = (10, 20, 5, 15)\n",
        "min_number = min(my_tuple)\n",
        "print(min_number)"
      ],
      "metadata": {
        "colab": {
          "base_uri": "https://localhost:8080/"
        },
        "id": "EkOvIAtHvN46",
        "outputId": "a377f315-a7ab-4322-9066-8815f14ab603"
      },
      "execution_count": 19,
      "outputs": [
        {
          "output_type": "stream",
          "name": "stdout",
          "text": [
            "5\n"
          ]
        }
      ]
    },
    {
      "cell_type": "markdown",
      "source": [
        "14.Write a code to find the index of the element \"cat\" in the tuple ('dog', 'cat', 'rabbit')."
      ],
      "metadata": {
        "id": "CsfV8eoqvaO4"
      }
    },
    {
      "cell_type": "code",
      "source": [
        "my_tuple = ('dog', 'cat', 'rabbit')\n",
        "index_of_cat = my_tuple.index('cat')\n",
        "print(index_of_cat)"
      ],
      "metadata": {
        "colab": {
          "base_uri": "https://localhost:8080/"
        },
        "id": "WCtQecS6vcm3",
        "outputId": "c4a5e903-9bfd-4414-e1c1-83629e64b1b6"
      },
      "execution_count": 20,
      "outputs": [
        {
          "output_type": "stream",
          "name": "stdout",
          "text": [
            "1\n"
          ]
        }
      ]
    },
    {
      "cell_type": "markdown",
      "source": [
        "15. Write a code to create a tuple containing three different fruits and check if \"kiwi\" is in it."
      ],
      "metadata": {
        "id": "tKkKcY_kvlGk"
      }
    },
    {
      "cell_type": "code",
      "source": [
        "my_tuple = (\"apple\", \"banana\", \"cherry\")\n",
        "if \"kiwi\" in my_tuple:\n",
        "    print(\"kiwi is in the tuple\")\n",
        "else:\n",
        "    print(\"kiwi is not in the tuple\")"
      ],
      "metadata": {
        "colab": {
          "base_uri": "https://localhost:8080/"
        },
        "id": "7WiXNdQSvnz3",
        "outputId": "204a66e5-7b8e-4ac4-caa0-4a0285daab75"
      },
      "execution_count": 21,
      "outputs": [
        {
          "output_type": "stream",
          "name": "stdout",
          "text": [
            "kiwi is not in the tuple\n"
          ]
        }
      ]
    },
    {
      "cell_type": "markdown",
      "source": [
        "16.Write a code to create a set with the elements 'a', 'b', 'c' and print it"
      ],
      "metadata": {
        "id": "4p9mmkUKv4jk"
      }
    },
    {
      "cell_type": "code",
      "source": [
        "my_set = {'a', 'b', 'c'}\n",
        "print(my_set)"
      ],
      "metadata": {
        "colab": {
          "base_uri": "https://localhost:8080/"
        },
        "id": "waGI7Hk5v7Ms",
        "outputId": "abbe12c1-8209-4805-9c3f-b6717d9107f8"
      },
      "execution_count": 22,
      "outputs": [
        {
          "output_type": "stream",
          "name": "stdout",
          "text": [
            "{'c', 'b', 'a'}\n"
          ]
        }
      ]
    },
    {
      "cell_type": "markdown",
      "source": [
        "17. Write a code to clear all elements from the set {1, 2, 3, 4, 5}."
      ],
      "metadata": {
        "id": "ERep2tC_yktx"
      }
    },
    {
      "cell_type": "code",
      "source": [
        "my_set= {1,2,3,4,5}\n",
        "my_set.clear()\n",
        "print(my_set)"
      ],
      "metadata": {
        "colab": {
          "base_uri": "https://localhost:8080/"
        },
        "id": "FRpoMgNmynqh",
        "outputId": "f6649171-7765-47ae-e19c-4cb59fb90335"
      },
      "execution_count": 25,
      "outputs": [
        {
          "output_type": "stream",
          "name": "stdout",
          "text": [
            "set()\n"
          ]
        }
      ]
    },
    {
      "cell_type": "markdown",
      "source": [
        "18.Write a code to remove the element 4 from the set {1, 2, 3, 4}."
      ],
      "metadata": {
        "id": "LoTo3Xzzy2cu"
      }
    },
    {
      "cell_type": "code",
      "source": [
        "my_set = {1, 2, 3, 4}\n",
        "my_set.remove(4)\n",
        "print(my_set)"
      ],
      "metadata": {
        "colab": {
          "base_uri": "https://localhost:8080/"
        },
        "id": "XxcYUqptzFnJ",
        "outputId": "3d5f3db4-be79-42c8-8abd-e269edc2c0a1"
      },
      "execution_count": 29,
      "outputs": [
        {
          "output_type": "stream",
          "name": "stdout",
          "text": [
            "{1, 2, 3}\n"
          ]
        }
      ]
    },
    {
      "cell_type": "markdown",
      "source": [
        " 19.Write a code to find the union of two sets {1, 2, 3} and {3, 4, 5}"
      ],
      "metadata": {
        "id": "d48LneYOzrQb"
      }
    },
    {
      "cell_type": "code",
      "source": [
        "my_set1 = {1, 2, 3}\n",
        "my_set2 = {3, 4, 5}\n",
        "union_set = my_set1.union(my_set2)\n",
        "print(union_set)"
      ],
      "metadata": {
        "colab": {
          "base_uri": "https://localhost:8080/"
        },
        "id": "XtCzDAqBzujK",
        "outputId": "65ed23c7-71a0-4ea2-a735-7885577ac4c5"
      },
      "execution_count": 30,
      "outputs": [
        {
          "output_type": "stream",
          "name": "stdout",
          "text": [
            "{1, 2, 3, 4, 5}\n"
          ]
        }
      ]
    },
    {
      "cell_type": "markdown",
      "source": [
        "20. Write a code to find the intersection of two sets {1, 2, 3} and {2, 3, 4}"
      ],
      "metadata": {
        "id": "vM1zAKmlz5Ro"
      }
    },
    {
      "cell_type": "code",
      "source": [
        "my_set1 = {1, 2, 3}\n",
        "my_set2 = {2, 3, 4}\n",
        "intersection_set = my_set1.intersection(my_set2)\n",
        "print(intersection_set)"
      ],
      "metadata": {
        "colab": {
          "base_uri": "https://localhost:8080/"
        },
        "id": "YzynRCmW0XYK",
        "outputId": "0e2ff8ff-cd48-498f-e1bb-5b7876c2531c"
      },
      "execution_count": 31,
      "outputs": [
        {
          "output_type": "stream",
          "name": "stdout",
          "text": [
            "{2, 3}\n"
          ]
        }
      ]
    },
    {
      "cell_type": "markdown",
      "source": [
        "21.Write a code to create a dictionary with the keys \"name\", \"age\", and \"city\", and print it."
      ],
      "metadata": {
        "id": "tIZ6Qfpw0ehc"
      }
    },
    {
      "cell_type": "code",
      "source": [
        "my_dic = {\"name\": \"Diksha\", \"age\": 24, \"city\": \"Delhi\"}\n",
        "print(my_dic)"
      ],
      "metadata": {
        "colab": {
          "base_uri": "https://localhost:8080/"
        },
        "id": "KS0zYUCP0tnp",
        "outputId": "3df08b0d-c46e-4885-fbb4-e36f6b159c67"
      },
      "execution_count": 33,
      "outputs": [
        {
          "output_type": "stream",
          "name": "stdout",
          "text": [
            "{'name': 'Diksha', 'age': 24, 'city': 'Delhi'}\n"
          ]
        }
      ]
    },
    {
      "cell_type": "markdown",
      "source": [
        "22.Write a code to add a new key-value pair \"country\": \"USA\" to the dictionary {'name': 'John', 'age': 25}."
      ],
      "metadata": {
        "id": "N7z79DlU02FR"
      }
    },
    {
      "cell_type": "code",
      "source": [
        "my_dict = {'name': 'John', 'age': 25}\n",
        "my_dict['country'] = 'USA'\n",
        "print(my_dict)"
      ],
      "metadata": {
        "colab": {
          "base_uri": "https://localhost:8080/"
        },
        "id": "bf23rvm006Bi",
        "outputId": "57a90b3a-f682-4f8b-9501-5395b3199819"
      },
      "execution_count": 34,
      "outputs": [
        {
          "output_type": "stream",
          "name": "stdout",
          "text": [
            "{'name': 'John', 'age': 25, 'country': 'USA'}\n"
          ]
        }
      ]
    },
    {
      "cell_type": "markdown",
      "source": [
        " 23. Write a code to access the value associated with the key \"name\" in the dictionary {'name': 'Alice', 'age': 30}."
      ],
      "metadata": {
        "id": "qhSBdB5c1Kmp"
      }
    },
    {
      "cell_type": "code",
      "source": [
        "my_dic = {'name': 'Alice', 'age': 30}\n",
        "name_value = my_dict['name']\n",
        "print(name_value)"
      ],
      "metadata": {
        "colab": {
          "base_uri": "https://localhost:8080/"
        },
        "id": "0XNjpnWu1SM0",
        "outputId": "6f3ac9b2-7f8f-45eb-ca99-574ed8452425"
      },
      "execution_count": 36,
      "outputs": [
        {
          "output_type": "stream",
          "name": "stdout",
          "text": [
            "John\n"
          ]
        }
      ]
    },
    {
      "cell_type": "markdown",
      "source": [
        "24.Write a code to remove the key \"age\" from the dictionary {'name': 'Bob', 'age': 22, 'city': 'New York'}."
      ],
      "metadata": {
        "id": "TQkq86CN1uLa"
      }
    },
    {
      "cell_type": "code",
      "source": [
        "my_dic = {'name': 'Bob', 'age': 22, 'city': 'New York'}\n",
        "del my_dic['age']\n",
        "print(my_dic)"
      ],
      "metadata": {
        "colab": {
          "base_uri": "https://localhost:8080/"
        },
        "id": "nYAEJI-e16pZ",
        "outputId": "4870b7fc-60bd-46d0-9941-23b61223f8ee"
      },
      "execution_count": 37,
      "outputs": [
        {
          "output_type": "stream",
          "name": "stdout",
          "text": [
            "{'name': 'Bob', 'city': 'New York'}\n"
          ]
        }
      ]
    },
    {
      "cell_type": "markdown",
      "source": [
        "25. Write a code to check if the key \"city\" exists in the dictionary {'name': 'Alice', 'city': 'Paris'}."
      ],
      "metadata": {
        "id": "c9-IQIu42EWq"
      }
    },
    {
      "cell_type": "code",
      "source": [
        "my_dic = {'name': 'Alice', 'city': 'Paris'}\n",
        "if 'city' in my_dic:\n",
        "    print(\"city is in the dictionary\")\n",
        "else:\n",
        "    print(\"city is not in the dictionary\")"
      ],
      "metadata": {
        "colab": {
          "base_uri": "https://localhost:8080/"
        },
        "id": "N5fyuNJb2H6Q",
        "outputId": "46bbfbf4-2b18-4776-a56d-77cf1284d604"
      },
      "execution_count": 40,
      "outputs": [
        {
          "output_type": "stream",
          "name": "stdout",
          "text": [
            "city is in the dictionary\n"
          ]
        }
      ]
    },
    {
      "cell_type": "markdown",
      "source": [
        "26. Write a code to create a list, a tuple, and a dictionary, and print them all."
      ],
      "metadata": {
        "id": "IbrNfynJ2keM"
      }
    },
    {
      "cell_type": "code",
      "source": [
        "my_list = [1, 2, 3, 4, 5]\n",
        "my_tuple = (10, 20, 30, 40, 50)\n",
        "my_dict = {\"apple\": 1, \"banana\": 2, \"cherry\": 3}\n",
        "print(my_list)\n",
        "print(my_tuple)\n",
        "print(my_dict)"
      ],
      "metadata": {
        "colab": {
          "base_uri": "https://localhost:8080/"
        },
        "id": "2KJV-Wb-2nUK",
        "outputId": "ea7d96e5-f433-45c1-b651-d295e8c2eaa6"
      },
      "execution_count": 42,
      "outputs": [
        {
          "output_type": "stream",
          "name": "stdout",
          "text": [
            "[1, 2, 3, 4, 5]\n",
            "(10, 20, 30, 40, 50)\n",
            "{'apple': 1, 'banana': 2, 'cherry': 3}\n"
          ]
        }
      ]
    },
    {
      "cell_type": "markdown",
      "source": [
        " 27.Write a code to create a list of 5 random numbers between 1 and 100, sort it in ascending order, and print the result.(replaced)"
      ],
      "metadata": {
        "id": "xqDoT3XN2x8g"
      }
    },
    {
      "cell_type": "code",
      "source": [
        "import random\n",
        "random_numbers = [random.randint(1, 100) for _ in range(5)]\n",
        "random_numbers.sort()\n",
        "print(random_numbers)"
      ],
      "metadata": {
        "colab": {
          "base_uri": "https://localhost:8080/"
        },
        "id": "g6eFRYfz25vY",
        "outputId": "2475833d-c6b7-4505-d993-54290cb2031e"
      },
      "execution_count": 43,
      "outputs": [
        {
          "output_type": "stream",
          "name": "stdout",
          "text": [
            "[9, 14, 20, 60, 87]\n"
          ]
        }
      ]
    },
    {
      "cell_type": "markdown",
      "source": [
        "28.Write a code to create a list with strings and print the element at the third index."
      ],
      "metadata": {
        "id": "jR52tSVv3vFL"
      }
    },
    {
      "cell_type": "code",
      "source": [
        "my_list = [\"first\", \"second\", \"third\", \"fourth\", \"fifth\"]\n",
        "print(my_list[2])"
      ],
      "metadata": {
        "colab": {
          "base_uri": "https://localhost:8080/"
        },
        "id": "f9uhFE353yXI",
        "outputId": "c6855da1-1c77-45a2-e576-13feff5cef00"
      },
      "execution_count": 44,
      "outputs": [
        {
          "output_type": "stream",
          "name": "stdout",
          "text": [
            "third\n"
          ]
        }
      ]
    },
    {
      "cell_type": "markdown",
      "source": [
        " 29.Write a code to combine two dictionaries into one and print the result"
      ],
      "metadata": {
        "id": "XCsyfmp34BGM"
      }
    },
    {
      "cell_type": "code",
      "source": [
        "my_dic1 = {\"apple\": 1, \"banana\": 2}\n",
        "my_dic2 = {\"cherry\": 3, \"date\": 4}\n",
        "combined_dic = {**my_dic1, **my_dic2}\n",
        "print(combined_dic)"
      ],
      "metadata": {
        "colab": {
          "base_uri": "https://localhost:8080/"
        },
        "id": "uzqGnf4F4D3o",
        "outputId": "d6c0386b-358f-4072-b163-0a85ef3e759d"
      },
      "execution_count": 45,
      "outputs": [
        {
          "output_type": "stream",
          "name": "stdout",
          "text": [
            "{'apple': 1, 'banana': 2, 'cherry': 3, 'date': 4}\n"
          ]
        }
      ]
    },
    {
      "cell_type": "markdown",
      "source": [
        " 30.Write a code to convert a list of strings into a set."
      ],
      "metadata": {
        "id": "bd88Dgm34I-w"
      }
    },
    {
      "cell_type": "code",
      "source": [
        "my_list = ['apple', 'banana', 'grapes', 'orange' ]\n",
        "my_set = set(my_list)\n",
        "print(my_set)\n"
      ],
      "metadata": {
        "colab": {
          "base_uri": "https://localhost:8080/"
        },
        "id": "XFy5xGeF4LVp",
        "outputId": "7a3ca0d3-fd6b-4af0-8450-be2bf2f37c01"
      },
      "execution_count": 48,
      "outputs": [
        {
          "output_type": "stream",
          "name": "stdout",
          "text": [
            "{'banana', 'grapes', 'apple', 'orange'}\n"
          ]
        }
      ]
    }
  ]
}