{
  "nbformat": 4,
  "nbformat_minor": 0,
  "metadata": {
    "colab": {
      "provenance": []
    },
    "kernelspec": {
      "name": "python3",
      "display_name": "Python 3"
    },
    "language_info": {
      "name": "python"
    }
  },
  "cells": [
    {
      "cell_type": "markdown",
      "source": [
        "Python OOPs Questions"
      ],
      "metadata": {
        "id": "Po0Uytm_6G4k"
      }
    },
    {
      "cell_type": "markdown",
      "source": [
        " 1. What is Object-Oriented Programming (OOP)? -> Object-Oriented Programming (OOP) is a programming paradigm based on the concept of \"objects\". These objects are instances of classes, which can contain both data (attributes or properties) and methods (functions or behaviors).OOP is a way of writing computer programs by thinking about real-world things (like cars, animals, or people) as objects in your code.Class = A blueprint or plan for creating something."
      ],
      "metadata": {
        "id": "AGYLcLw16qME"
      }
    },
    {
      "cell_type": "markdown",
      "source": [
        "2. What is a class in OOP?\n",
        "-> a class is a template definition of the methods and variables in a particular kind of object.The user-defined objects are created using the class keyword. he class is a blueprint that defines a nature of a future object. An instance is a specific object created from a particular class. Classes are used to create and manage new objects and support inheritance—a key ingredient in object-oriented programming and a mechanism of reusing code."
      ],
      "metadata": {
        "id": "i088d3al8-Za"
      }
    },
    {
      "cell_type": "markdown",
      "source": [
        "3. What is an object in OOP?\n",
        "-> In Object-Oriented Programming (OOP), an object is an instance of a class. It represents a real-world entity and contains both data (called attributes) and functions (called methods) that work on that data.\n",
        "Each object has its own values for the properties defined in the class.\n",
        "\n"
      ],
      "metadata": {
        "id": "s0ttDENX-CHm"
      }
    },
    {
      "cell_type": "markdown",
      "source": [
        " 4. What is the difference between abstraction and encapsulation?\n",
        " -> Abstartion means hiding unnecessary details and showing only the important part, it foucs on what an object does and its used to simplify complex steps by oly showing whats needed, its done using abstract classes and interfaces.\n",
        " on the other hand encapsulation means Hiding the internal data and protecting it from outside access, it focuses on how the object’s data is protected, its used to keep data safe and prevent it from unauthorised access."
      ],
      "metadata": {
        "id": "6OwhO3xyBMLF"
      }
    },
    {
      "cell_type": "markdown",
      "source": [
        "5. What are dunder methods in Python?\n",
        "->Dunder methods in Python are special methods that start and end with double underscores — that’s why they’re called “dunder” (short for double underscore). It's also known as magic method. __init__() → Called when an object is created (like a constructor)\n",
        "\n",
        "__str__() → Called when we use print() on an object\n",
        "\n",
        "__len__() → Called when we use the len() function\n",
        "\n",
        "__add__() → Used for adding two objects using +"
      ],
      "metadata": {
        "id": "eszHQUpRDIbY"
      }
    },
    {
      "cell_type": "markdown",
      "source": [
        "6. Explain the concept of inheritance in OOP?\n",
        "-> Inheritance is a concept in Object-Oriented Programming (OOP) that allows one class (called the child class or subclass) to use the properties and methods of another class (called the parent class or superclass).\n",
        "It helps in code reusability and makes the code easier to manage and update.Inheritance means a class can get features from another class, just like a child inherits traits from parents.class Animal:\n",
        "    def sound(self):\n",
        "        print(\"Animal makes a sound\")\n",
        "\n",
        "class Dog(Animal):\n",
        "    def bark(self):\n",
        "        print(\"Dog barks\")"
      ],
      "metadata": {
        "id": "ge6tZHPtD8uY"
      }
    },
    {
      "cell_type": "markdown",
      "source": [
        "7. What is polymorphism in OOP?\n",
        "-> Polymorphism is a concept in Object-Oriented Programming (OOP) that means “many forms.” It allows the same method or function to behave differently based on the object that is calling it.\n",
        "In simple words, polymorphism lets different classes use the same method name, but each class can have its own version of how that method works."
      ],
      "metadata": {
        "id": "J70NBtUYERWG"
      }
    },
    {
      "cell_type": "markdown",
      "source": [
        "8. How is encapsulation achieved in Python?\n",
        "-> Encapsulation in Python is done by hiding the internal data of an object (making attributes private) and allowing access only through methods (getters/setters). This helps to protect the data from unauthorized changes.\n",
        "class BankAccount:\n",
        "  class Student:\n",
        "    def __init__(self, name, age):\n",
        "        self.name = name            # public attribute\n",
        "        self.__age = age            # private attribute\n",
        "\n",
        "    def get_age(self):             # getter method\n",
        "        return self.__age\n",
        "\n",
        "    def set_age(self, age):        # setter method\n",
        "        if age > 0:\n",
        "            self.__age = age"
      ],
      "metadata": {
        "id": "HEB6NxBPFAb9"
      }
    },
    {
      "cell_type": "markdown",
      "source": [
        " 9. What is a constructor in Python?\n",
        " ->A constructor in Python is a special method that is automatically called when an object of a class is created. It is used to initialize the object’s attributes (set initial values).\n",
        "\n",
        "In Python, the constructor method is named __init__().\n"
      ],
      "metadata": {
        "id": "dTkPoGmlMrmP"
      }
    },
    {
      "cell_type": "markdown",
      "source": [
        "10. What are class and static methods in Python?\n",
        "-> class methods are bound to the class itself (not instances) and can access class attributes, while static methods are functions within a class that don't have access to either class or instance data, serving as utility functions."
      ],
      "metadata": {
        "id": "OGyE0_q4M2sY"
      }
    },
    {
      "cell_type": "markdown",
      "source": [
        "11. What is method overloading in Python?\n",
        "-> Method overloading means having multiple methods with the same name but different number or types of arguments.Method overloading means having multiple methods with the same name but different number or types of arguments.We can simulate method overloading by using default arguments or *args and **kwargs.Method overloading means creating one method that works in different ways, depending on the input."
      ],
      "metadata": {
        "id": "5AvB2PmsOOKA"
      }
    },
    {
      "cell_type": "markdown",
      "source": [
        " 12. What is method overriding in OOP?\n",
        " -> Method overriding is a feature in Object-Oriented Programming where a child class provides its own version of a method that is already defined in the parent class.\n",
        " This allows the child class to change or customize the behavior of the method.Method overriding means replacing a parent class method with a new version in the child class.\n",
        " class Animal:\n",
        "    def speak(self):\n",
        "        print(\"Animal speaks\")\n",
        "\n",
        "class Dog(Animal):\n",
        "    def speak(self):  # Overriding the parent class method\n",
        "        print(\"Dog barks\")\n",
        "\n",
        "d = Dog()\n",
        "d.speak()  # Output: Dog barks"
      ],
      "metadata": {
        "id": "-ayI2zx1PyEZ"
      }
    },
    {
      "cell_type": "markdown",
      "source": [
        "13. What is a property decorator in Python?\n",
        "-> The property decorator in Python is used to make a method act like an attribute.\n",
        "It allows you to access a method like a variable, without adding parentheses ().\n",
        "It is commonly used for encapsulation, especially when you want to control access to private attributes.\n",
        "class Student:\n",
        "    def __init__(self, name):\n",
        "        self.__name = name\n",
        "\n",
        "    @property\n",
        "    def name(self):\n",
        "        return self.__name\n",
        "\n",
        "s1 = Student(\"Diskha\")\n",
        "print(s1.name)  # Output: Diskha"
      ],
      "metadata": {
        "id": "_AxCcwtbQtN-"
      }
    },
    {
      "cell_type": "markdown",
      "source": [
        "14. Why is polymorphism important in OOP?\n",
        "Polymorphism is important in Object-Oriented Programming because it allows the same method or function to behave differently based on the object that is calling it. This makes the code more flexible, reusable, and easier to manage. It helps programmers write one piece of code that works for different types of objects, reducing repetition. Polymorphism also supports method overriding, which means a child class can have its own version of a method defined in the parent class. This makes it easier to build scalable and maintainable programs by following real-world behavior where the same action can have different results depending on the context.\n",
        "\n",
        "\n",
        "\n"
      ],
      "metadata": {
        "id": "zhvis_59RTOF"
      }
    },
    {
      "cell_type": "markdown",
      "source": [
        "15. What is an abstract class in Python?\n",
        "-> An abstract class in Python is a class that cannot be used to create objects directly. It is meant to be inherited by other classes, and it often contains one or more abstract methods—methods that are declared but not implemented.Abstract classes are used when you want to set a common structure for all child classes but want the actual implementation to be done in the child classes.we create abstract classes using the abc module and the @abstractmethod decorator."
      ],
      "metadata": {
        "id": "OpN93sagRwPl"
      }
    },
    {
      "cell_type": "markdown",
      "source": [
        "16. What are the advantages of OOP?\n",
        "-> Object-Oriented Programming (OOP) has many advantages that make programming easier and more efficient. One of the main benefits is modularity, which means the code is organized into classes and objects, making it easy to manage. It also supports reusability, allowing the same code (classes) to be used in different programs. With inheritance, child classes can use and extend features of parent classes, reducing code duplication. Encapsulation helps to hide data and protect it from unwanted changes, while polymorphism allows the same method to work differently for different objects, adding flexibility. OOP also makes programs more scalable and maintainable, and it helps developers model real-world problems more naturally."
      ],
      "metadata": {
        "id": "Pd3RhxGHSfbL"
      }
    },
    {
      "cell_type": "markdown",
      "source": [
        "17. What is the difference between a class variable and an instance variable?\n",
        "-> Instance variables are unique to each instance of a class. They are defined within methods and are prefixed with the self keyword. These variables store data that is specific to an instance, making them essential for object-oriented programming (OOP) principles like encapsulation.In contrast, class variables are shared among all instances of a class. They are defined within the class but outside of any methods, typically near the top of the class definition. Class variables store data that is common to all instances, making them a powerful tool for managing shared state and settings."
      ],
      "metadata": {
        "id": "E_hVIt5XTF-2"
      }
    },
    {
      "cell_type": "markdown",
      "source": [
        "18. What is multiple inheritance in Python?\n",
        "-> Multiple inheritance in Python is a feature where a class can inherit attributes and methods from more than one parent class. This allows the child class to combine functionality from multiple classes, making it more versatile. In Python, a class can inherit from multiple classes by listing them in parentheses, separated by commas."
      ],
      "metadata": {
        "id": "rCrqf41nUB0X"
      }
    },
    {
      "cell_type": "markdown",
      "source": [
        "19. Explain the purpose of ‘’__str__’ and ‘__repr__’ ‘ methods in Python\n",
        "-> In Python, both __str__ and __repr__ are special methods used to define how an object is represented as a string, but they serve different purposes. The __str__ method is intended to provide a human-readable string representation of an object, which is displayed when you print the object or convert it to a string. It should return a user-friendly description of the object. On the other hand, the __repr__ method is meant for the developer or debugging purposes. It should return a formal string representation of the object, ideally one that, when passed to eval(), would recreate the object (if possible). If you don't define __str__, Python will use __repr__ as a fallback for printing the object."
      ],
      "metadata": {
        "id": "2CvwRrCUUPsT"
      }
    },
    {
      "cell_type": "markdown",
      "source": [
        " 20. What is the significance of the ‘super()’ function in Python?\n",
        " -> The super() function in Python is used to call methods from a parent class in a child class, allowing you to extend or modify the functionality of inherited methods. It is particularly useful in inheritance to ensure that the method of the parent class is properly invoked, without having to explicitly refer to the parent class by name. super() helps to avoid hardcoding the parent class name, which makes the code more flexible and maintainable. It also supports multiple inheritance by following the Method Resolution Order (MRO), ensuring that the method from the correct class is called in complex class hierarchies."
      ],
      "metadata": {
        "id": "Vu6-9JGGUd1y"
      }
    },
    {
      "cell_type": "markdown",
      "source": [
        "21. What is the significance of the __del__ method in Python?\n",
        "-> The __del__ method in Python is a special method used to define the destructor behavior of an object. It is automatically called when an object is about to be destroyed, i.e., when it is no longer referenced, and Python's garbage collector decides to free up memory. The __del__ method allows you to perform any necessary cleanup tasks, such as closing files, network connections, or releasing resources that were acquired during the lifetime of the object. However, it should be used cautiously, as the timing of its execution is not always predictable, and it can sometimes cause issues with circular references or delayed resource cleanup in certain situations."
      ],
      "metadata": {
        "id": "X3zVB-dcYenY"
      }
    },
    {
      "cell_type": "markdown",
      "source": [
        "22. What is the difference between @staticmethod and @classmethod in Python?\n",
        "-> In Python, both @staticmethod and @classmethod are decorators that define methods bound to a class, but they serve different purposes. A @staticmethod does not take the instance (self) or the class (cls) as its first parameter. It behaves like a regular function but belongs to the class, making it useful for utility functions that don’t depend on instance or class data. You can call it using the class name or an instance. On the other hand, a @classmethod takes cls as its first parameter, which refers to the class itself, not an instance. This allows the method to access and modify class-level data, making it useful for methods that operate on class attributes rather than instance-specific data. Both types of methods can be called using either the class name or an instance, but the key difference lies in whether they operate on the class itself (@classmethod) or don't interact with the class or instance at all (@staticmethod)."
      ],
      "metadata": {
        "id": "56l3iiC5Yt-Y"
      }
    },
    {
      "cell_type": "markdown",
      "source": [
        " 23. How does polymorphism work in Python with inheritance?\n",
        " -> In Python, polymorphism refers to the ability to use the same method name to perform different tasks, depending on the object that is calling it. When combined with inheritance, polymorphism allows a child class to provide its own implementation of a method that is already defined in the parent class. This is achieved through method overriding, where the child class can \"override\" the parent class's method. When you call the method on an object, Python will use the version of the method that corresponds to the actual type of the object, not the type of the reference variable. This enables the same method name to work in different ways based on the object’s class, providing flexibility in how methods are used in different contexts. Polymorphism simplifies the code, allowing you to write more generic functions that work with any class, while still supporting class-specific behavior."
      ],
      "metadata": {
        "id": "4E3gP6zAZMp5"
      }
    },
    {
      "cell_type": "markdown",
      "source": [
        "24. What is method chaining in Python OOP?\n",
        "-> Method chaining in Python is a programming technique where multiple methods are called on the same object in a single line of code. This is possible because each method returns the object itself (self), allowing you to call another method directly on the same object. Method chaining is commonly used in object-oriented programming (OOP) to make the code more compact, readable, and expressive. It allows you to perform a series of actions on an object without needing to write separate lines for each method call. This technique is often used in classes that modify their own attributes, where each method call modifies the object and then returns it, enabling subsequent method calls to act on the updated state.\n",
        "\n"
      ],
      "metadata": {
        "id": "xvNxY-3KZUAJ"
      }
    },
    {
      "cell_type": "markdown",
      "source": [
        " 25. What is the purpose of the __call__ method in Python?\n",
        " -> The __call__ method in Python is a special method that allows an instance of a class to be called as if it were a function. This means that you can use parentheses to invoke an object, just like you would call a regular function. When you define a __call__ method in a class, you make the class instances callable, enabling the object itself to handle the function call. This feature is useful in situations where you want to create objects that behave like functions, allowing for more flexible and dynamic code. For example, you could use the __call__ method to define objects that execute different behaviors based on the input they receive when called."
      ],
      "metadata": {
        "id": "e0wbl2KQZb5h"
      }
    },
    {
      "cell_type": "markdown",
      "source": [
        "# Practical Questions"
      ],
      "metadata": {
        "id": "zqU5caElZnfh"
      }
    },
    {
      "cell_type": "code",
      "source": [
        " #1. Create a parent class Animal with a method speak() that prints a generic message. Create a child class Dog\n",
        "#that overrides the speak() method to print \"Bark!\"\n",
        "class Animal:\n",
        "    def speak(self):\n",
        "        print(\"The animal makes a sound\")\n",
        "class Dog(Animal):\n",
        "    def speak(self):  # Overriding the parent class method\n",
        "        print(\"Bark!\")\n",
        "dog = Dog()\n",
        "dog.speak()"
      ],
      "metadata": {
        "colab": {
          "base_uri": "https://localhost:8080/"
        },
        "id": "1TBOtg5BZtrv",
        "outputId": "c6b230c7-5b23-499b-f289-42eee3e0aa8d"
      },
      "execution_count": 1,
      "outputs": [
        {
          "output_type": "stream",
          "name": "stdout",
          "text": [
            "Bark!\n"
          ]
        }
      ]
    },
    {
      "cell_type": "code",
      "source": [
        "#2.Write a program to create an abstract class Shape with a method area(). Derive classes Circle and Rectangle\n",
        "#from it and implement the area() method in bothfrom abc import ABC, abstractmethod\n",
        "import math\n",
        "class Shape(ABC):\n",
        "    @abstractmethod\n",
        "    def area(self):\n",
        "        pass\n",
        "class Circle(Shape):\n",
        "    def __init__(self, radius):\n",
        "        self.radius = radius\n",
        "    def area(self):\n",
        "        return math.pi * self.radius * self.radius\n",
        "class Rectangle(Shape):\n",
        "    def __init__(self, length, width):\n",
        "        self.length = length\n",
        "        self.width = width\n",
        "\n",
        "    def area(self):\n",
        "        return self.length * self.width\n",
        "circle = Circle(5)\n",
        "rectangle = Rectangle(4, 6)\n",
        "print(\"Area of Circle:\", circle.area())\n",
        "print(\"Area of Rectangle:\", rectangle.area())"
      ],
      "metadata": {
        "colab": {
          "base_uri": "https://localhost:8080/"
        },
        "id": "CSLpB1Fwq2ur",
        "outputId": "d8e8e953-3398-452c-f1c4-b658f50a27cb"
      },
      "execution_count": 11,
      "outputs": [
        {
          "output_type": "stream",
          "name": "stdout",
          "text": [
            "Area of Circle: 78.53981633974483\n",
            "Area of Rectangle: 24\n"
          ]
        }
      ]
    },
    {
      "cell_type": "code",
      "source": [
        "#3.Implement a multi-level inheritance scenario where a class Vehicle has an attribute type. Derive a class Car\n",
        "#and further derive a class ElectricCar that adds a battery attribute.\n",
        "class Vehicle:\n",
        "    def __init__(self, type):\n",
        "        self.type = type\n",
        "class Car(Vehicle):\n",
        "    def __init__(self, type, model):\n",
        "        super().__init__(type)\n",
        "        self.model = model\n",
        "class ElectricCar(Car):\n",
        "    def __init__(self, type, model, battery):\n",
        "        super().__init__(type, model)\n",
        "        self.battery = battery\n",
        "electric_car = ElectricCar(\"Electric\", \"Model S\", \"Li-ion\")\n",
        "print(\"Type:\", electric_car.type)\n",
        "print(\"Model:\", electric_car.model)\n",
        "print(\"Battery:\", electric_car.battery)\n"
      ],
      "metadata": {
        "colab": {
          "base_uri": "https://localhost:8080/"
        },
        "id": "G-bsjNYjq8po",
        "outputId": "28b5c3be-7285-4264-8112-4b50ca42a38e"
      },
      "execution_count": 16,
      "outputs": [
        {
          "output_type": "stream",
          "name": "stdout",
          "text": [
            "Type: Electric\n",
            "Model: Model S\n",
            "Battery: Li-ion\n"
          ]
        }
      ]
    },
    {
      "cell_type": "code",
      "source": [
        "#4. Demonstrate polymorphism by creating a base class Bird with a method fly(). Create two derived classes\n",
        "#Sparrow and Penguin that override the fly() method.\n",
        "class Bird:\n",
        "    def fly(self):\n",
        "        print(\"The bird is flying\")\n",
        "class Sparrow(Bird):\n",
        "    def fly(self):\n",
        "        print(\"The sparrow is flying\")\n",
        "class Penguin(Bird):\n",
        "    def fly(self):\n",
        "        print(\"The penguin is not flying\")\n",
        "bird=Bird()\n",
        "bird.fly()\n",
        "sparrow=Sparrow()\n",
        "sparrow.fly()\n",
        "penguin=Penguin()\n",
        "penguin.fly()"
      ],
      "metadata": {
        "colab": {
          "base_uri": "https://localhost:8080/"
        },
        "id": "wTdVxs8Irhjp",
        "outputId": "0ee91834-eecb-481c-c2a7-9a4c299444fd"
      },
      "execution_count": 18,
      "outputs": [
        {
          "output_type": "stream",
          "name": "stdout",
          "text": [
            "The bird is flying\n",
            "The sparrow is flying\n",
            "The penguin is not flying\n"
          ]
        }
      ]
    },
    {
      "cell_type": "code",
      "source": [
        "#5. Write a program to demonstrate encapsulation by creating a class BankAccount with private attributes\n",
        "#balance and methods to deposit, withdraw, and check balance.\n",
        "class BankAccount:\n",
        "    def __init__(self, initial_balance=0):\n",
        "        self.__balance = initial_balance  # Private attribute\n",
        "\n",
        "    def deposit(self, amount):\n",
        "        if amount > 0:\n",
        "            self.__balance += amount\n",
        "            print(f\"Deposited: {amount}\")\n",
        "        else:\n",
        "            print(\"Invalid deposit amount\")\n",
        "\n",
        "    def withdraw(self, amount):\n",
        "        if 0 < amount <= self.__balance:\n",
        "            self.__balance -= amount\n",
        "            print(f\"Withdrawn: {amount}\")\n",
        "        else:\n",
        "            print(\"Insufficient balance or invalid amount\")\n",
        "\n",
        "    def check_balance(self):\n",
        "        print(f\"Current Balance: {self.__balance}\")\n",
        "account = BankAccount(1000)\n",
        "account.check_balance()\n",
        "account.deposit(500)\n",
        "account.check_balance()\n",
        "account.withdraw(200)\n",
        "account.check_balance()\n",
        "account.withdraw(1500)"
      ],
      "metadata": {
        "colab": {
          "base_uri": "https://localhost:8080/"
        },
        "id": "T5Y-kbf3sI7D",
        "outputId": "c4745353-e7c4-4195-ac9c-4327421b2a8b"
      },
      "execution_count": 23,
      "outputs": [
        {
          "output_type": "stream",
          "name": "stdout",
          "text": [
            "Current Balance: 1000\n",
            "Deposited: 500\n",
            "Current Balance: 1500\n",
            "Withdrawn: 200\n",
            "Current Balance: 1300\n",
            "Insufficient balance or invalid amount\n"
          ]
        }
      ]
    },
    {
      "cell_type": "code",
      "source": [
        "#6. Demonstrate runtime polymorphism using a method play() in a base class Instrument. Derive classes Guitar\n",
        "#and Piano that implement their own version of play().\n",
        "\n",
        "class Instrument:\n",
        "    def play(self):\n",
        "        pass\n",
        "class Guitar(Instrument):\n",
        "    def play(self):\n",
        "        print(\"Playing Guitar\")\n",
        "class Piano(Instrument):\n",
        "    def play(self):\n",
        "        print(\"Playing Piano\")\n",
        "\n",
        "guitar = Guitar()\n",
        "piano = Piano()\n",
        "guitar.play()\n",
        "piano.play()"
      ],
      "metadata": {
        "colab": {
          "base_uri": "https://localhost:8080/"
        },
        "id": "4V4-Hkc_AmJy",
        "outputId": "d16ffd6a-bbcf-4609-b3fb-b666708420ee"
      },
      "execution_count": 9,
      "outputs": [
        {
          "output_type": "stream",
          "name": "stdout",
          "text": [
            "Playing Guitar\n",
            "Playing Piano\n"
          ]
        }
      ]
    },
    {
      "cell_type": "code",
      "source": [
        "#7.Create a class MathOperations with a class method add_numbers() to add two numbers and a static\n",
        "#method subtract_numbers() to subtract two numbers.\n",
        "class MathOperations:\n",
        "    @classmethod\n",
        "    def add_numbers(cls, a, b):\n",
        "        return a + b\n",
        "    @staticmethod\n",
        "    def subtract_numbers(a, b):\n",
        "        return a - b\n",
        "print(\"Addition:\", MathOperations.add_numbers(10, 5))\n",
        "print(\"Subtraction:\", MathOperations.subtract_numbers(10, 5))"
      ],
      "metadata": {
        "colab": {
          "base_uri": "https://localhost:8080/"
        },
        "id": "qWx2oghfBFtj",
        "outputId": "7a27459a-8015-43bf-fcc0-39ef190d5e9c"
      },
      "execution_count": 1,
      "outputs": [
        {
          "output_type": "stream",
          "name": "stdout",
          "text": [
            "Addition: 15\n",
            "Subtraction: 5\n"
          ]
        }
      ]
    },
    {
      "cell_type": "code",
      "source": [
        "#8.  Implement a class Person with a class method to count the total number of persons created.\n",
        "class Person:\n",
        "    count = 0\n",
        "    def __init__(self):\n",
        "        Person.count += 1\n",
        "    @classmethod\n",
        "    def get_count(cls):\n",
        "        return cls.count\n",
        "person1 = Person()\n",
        "person2 = Person()\n",
        "person3 = Person()\n",
        "print(\"Total persons created:\", Person.get_count())"
      ],
      "metadata": {
        "colab": {
          "base_uri": "https://localhost:8080/"
        },
        "id": "P5zK-t2w2_DE",
        "outputId": "54bcf2b5-ba92-4ffd-8f7d-fb1c245f815d"
      },
      "execution_count": 3,
      "outputs": [
        {
          "output_type": "stream",
          "name": "stdout",
          "text": [
            "Total persons created: 3\n"
          ]
        }
      ]
    },
    {
      "cell_type": "code",
      "source": [
        "'''9.Write a class Fraction with attributes numerator and denominator. Override the str method to display the\n",
        "fraction as \"numerator/denominator\".'''\n",
        "class Fraction:\n",
        "    def __init__(self, numerator, denominator):\n",
        "        self.numerator = numerator\n",
        "        self.denominator = denominator\n",
        "    def __str__(self):\n",
        "        return f\"{self.numerator}/{self.denominator}\"\n",
        "fraction = Fraction(3, 4)\n",
        "print(fraction)"
      ],
      "metadata": {
        "colab": {
          "base_uri": "https://localhost:8080/"
        },
        "id": "XOfi8NtB3b4x",
        "outputId": "6c43366d-8405-41d1-d409-f40b5db151e7"
      },
      "execution_count": 6,
      "outputs": [
        {
          "output_type": "stream",
          "name": "stdout",
          "text": [
            "3/4\n"
          ]
        }
      ]
    },
    {
      "cell_type": "code",
      "source": [
        "'''10. Demonstrate operator overloading by creating a class Vector and overriding the add method to add two\n",
        "vectors.'''\n",
        "class Vector:\n",
        "    def __init__(self, x, y):\n",
        "        self.x = x\n",
        "        self.y = y\n",
        "    def __add__(self, other):\n",
        "        return Vector(self.x + other.x, self.y + other.y)\n",
        "x = Vector(1, 2)\n",
        "y = Vector(3, 4)\n",
        "result = x + y\n",
        "print(result.x, result.y)"
      ],
      "metadata": {
        "colab": {
          "base_uri": "https://localhost:8080/"
        },
        "id": "t0BHxcVo3n-y",
        "outputId": "34f4b4c4-0c5f-44a1-d9ff-6d88060bc3e5"
      },
      "execution_count": 8,
      "outputs": [
        {
          "output_type": "stream",
          "name": "stdout",
          "text": [
            "4 6\n"
          ]
        }
      ]
    },
    {
      "cell_type": "code",
      "source": [
        "#Create a class Person with attributes name and age. Add a method greet() that prints \"Hello, my name is\n",
        "#{name} and I am {age} years old.\"\n",
        "class Person:\n",
        "    def __init__(self, name, age):\n",
        "        self.name = name\n",
        "        self.age = age\n",
        "    def greet(self):\n",
        "        print(f\"Hello, my name is {self.name} and I am {self.age} years old.\")\n",
        "name = input(\"Enter your name: \")\n",
        "age = input(\"Enter your age: \")\n",
        "person = Person(name, age)\n",
        "person.greet()"
      ],
      "metadata": {
        "colab": {
          "base_uri": "https://localhost:8080/"
        },
        "id": "HgVHxDqU4R0c",
        "outputId": "295d1126-a406-4f4e-8e95-6d0c8a3296ef"
      },
      "execution_count": 11,
      "outputs": [
        {
          "output_type": "stream",
          "name": "stdout",
          "text": [
            "Enter your name: Diksha\n",
            "Enter your age: 24\n",
            "Hello, my name is Diksha and I am 24 years old.\n"
          ]
        }
      ]
    },
    {
      "cell_type": "code",
      "source": [
        "#12 Implement a class Student with attributes name and grades. Create a method average_grade() to compute\n",
        "#the average of the grades\n",
        "class Student:\n",
        "    def __init__(self, name, grades):\n",
        "        self.name = name\n",
        "        self.grades = grades\n",
        "    def average_grade(self):\n",
        "        total = sum(self.grades)\n",
        "        average = total / len(self.grades)\n",
        "        return average\n",
        "name = input(\"Enter your name: \")\n",
        "grades = [float(x) for x in input(\"Enter your grades separated by spaces: \").split()]\n",
        "student = Student(name, grades)\n",
        "average = student.average_grade()\n",
        "print(f\"{student.name}'s average grade is: {average:.2f}\")"
      ],
      "metadata": {
        "colab": {
          "base_uri": "https://localhost:8080/"
        },
        "id": "m8BYiwQl4W5v",
        "outputId": "b26cadd9-5b7c-402d-e169-cae4cf45426f"
      },
      "execution_count": 16,
      "outputs": [
        {
          "output_type": "stream",
          "name": "stdout",
          "text": [
            "Enter your name: DIKSHA\n",
            "Enter your grades separated by spaces: 88 94 72 75 66\n",
            "DIKSHA's average grade is: 79.00\n"
          ]
        }
      ]
    },
    {
      "cell_type": "code",
      "source": [
        "#13.Create a class Rectangle with methods set_dimensions() to set the dimensions and area() to calculate the\n",
        "#area\n",
        "class Rectangle:\n",
        "    def __init__(self):\n",
        "        self.width = 0\n",
        "        self.height = 0\n",
        "\n",
        "    def set_dimensions(self, width, height):\n",
        "        self.width = width\n",
        "        self.height = height\n",
        "\n",
        "    def area(self):\n",
        "        return self.width * self.height\n",
        "\n",
        "# Example usage\n",
        "rect = Rectangle()\n",
        "rect.set_dimensions(5, 10)\n",
        "print(\"Area of the rectangle:\", rect.area())\n"
      ],
      "metadata": {
        "colab": {
          "base_uri": "https://localhost:8080/"
        },
        "id": "6tzNZScJ5S_S",
        "outputId": "fb398ea6-904f-44ac-a0d9-15c21e79fcbe"
      },
      "execution_count": 17,
      "outputs": [
        {
          "output_type": "stream",
          "name": "stdout",
          "text": [
            "Area of the rectangle: 50\n"
          ]
        }
      ]
    },
    {
      "cell_type": "code",
      "source": [
        "#14.Create a class Employee with a method calculate_salary() that computes the salary based on hours worked\n",
        "#and hourly rate. Create a derived class Manager that adds a bonus to the salary\n",
        "class Employee:\n",
        "    def calculate_salary(self, hours_worked, hourly_rate):\n",
        "        return hours_worked * hourly_rate\n",
        "class Manager(Employee):\n",
        "    def calculate_salary(self, hours_worked, hourly_rate):\n",
        "        base_salary = super().calculate_salary(hours_worked, hourly_rate)\n",
        "        bonus = 0.1 * base_salary\n",
        "        return base_salary + bonus\n",
        "employee = Employee()\n",
        "manager = Manager()\n",
        "print(\"Employee salary:\", employee.calculate_salary(40, 15))\n",
        "print(\"Manager salary:\", manager.calculate_salary(40, 15))"
      ],
      "metadata": {
        "colab": {
          "base_uri": "https://localhost:8080/"
        },
        "id": "aJUueRPG52mx",
        "outputId": "9a4f737d-9cc7-48ed-f44a-4745c32abae7"
      },
      "execution_count": 20,
      "outputs": [
        {
          "output_type": "stream",
          "name": "stdout",
          "text": [
            "Employee salary: 600\n",
            "Manager salary: 660.0\n"
          ]
        }
      ]
    },
    {
      "cell_type": "code",
      "source": [
        "#15.Create a class Product with attributes name, price, and quantity. Implement a method total_price() that\n",
        "#calculates the total price of the product.\n",
        "class Product:\n",
        "    def __init__(self, name, price, quantity):\n",
        "        self.name = name\n",
        "        self.price = price\n",
        "        self.quantity = quantity\n",
        "    def total_price(self):\n",
        "        return self.price * self.quantity\n",
        "product = Product(\"Laptop\", 1000, 2)\n",
        "total = product.total_price()\n",
        "print(\"Total price:\", total)"
      ],
      "metadata": {
        "colab": {
          "base_uri": "https://localhost:8080/"
        },
        "id": "Bx2fFzjS7Lm6",
        "outputId": "43810292-ea91-41ff-cf66-d5de39f50fa0"
      },
      "execution_count": 22,
      "outputs": [
        {
          "output_type": "stream",
          "name": "stdout",
          "text": [
            "Total price: 2000\n"
          ]
        }
      ]
    },
    {
      "cell_type": "code",
      "source": [
        "#16.  Create a class Animal with an abstract method sound(). Create two derived classes Cow and Sheep that\n",
        "#implement the sound() method.\n",
        "from abc import ABC, abstractmethod\n",
        "class Animal(ABC):\n",
        "    @abstractmethod\n",
        "    def sound(self):\n",
        "        pass\n",
        "class Cow(Animal):\n",
        "    def sound(self):\n",
        "        print(\"Moo!\")\n",
        "class Sheep(Animal):\n",
        "    def sound(self):\n",
        "        print(\"Baa!\")\n",
        "cow = Cow()\n",
        "sheep = Sheep()\n",
        "cow.sound()\n",
        "sheep.sound()"
      ],
      "metadata": {
        "colab": {
          "base_uri": "https://localhost:8080/"
        },
        "id": "E6vLgzRx7Sgh",
        "outputId": "1e1d5f6a-34b8-438e-9ae6-6e28f3bdcdda"
      },
      "execution_count": 23,
      "outputs": [
        {
          "output_type": "stream",
          "name": "stdout",
          "text": [
            "Moo!\n",
            "Baa!\n"
          ]
        }
      ]
    },
    {
      "cell_type": "code",
      "source": [
        "#17.Create a class Book with attributes title, author, and year_published. Add a method get_book_info() that\n",
        "#returns a formatted string with the book's details\n",
        "class Book:\n",
        "    def __init__(self, title, author, year_published):\n",
        "        self.title = title\n",
        "        self.author = author\n",
        "        self.year_published = year_published\n",
        "    def get_book_info(self):\n",
        "        return f\"Title: {self.title}\\nAuthor: {self.author}\\nYear Published: {self.year_published}\"\n",
        "book = Book(\"Python Programming\", \"John Doe\", 2022)\n",
        "print(book.get_book_info())"
      ],
      "metadata": {
        "colab": {
          "base_uri": "https://localhost:8080/"
        },
        "id": "-HSLqY3r79pB",
        "outputId": "841bfb5f-e646-41d7-8f4a-58c1c9db4cf7"
      },
      "execution_count": 27,
      "outputs": [
        {
          "output_type": "stream",
          "name": "stdout",
          "text": [
            "Title: Python Programming\n",
            "Author: John Doe\n",
            "Year Published: 2022\n"
          ]
        }
      ]
    },
    {
      "cell_type": "code",
      "source": [
        "#18. Create a class House with attributes address and price. Create a derived class Mansion that adds an\n",
        "#attribute number_of_rooms.\n",
        "class House:\n",
        "    def __init__(self, address, price):\n",
        "        self.address = address\n",
        "        self.price = price\n",
        "\n",
        "    def display_info(self):\n",
        "        print(f\"Address: {self.address}\")\n",
        "        print(f\"Price: ${self.price}\")\n",
        "class Mansion(House):\n",
        "    def __init__(self, address, price, number_of_rooms):\n",
        "        super().__init__(address, price)  # Call base class constructor\n",
        "        self.number_of_rooms = number_of_rooms\n",
        "\n",
        "    def display_info(self):\n",
        "        super().display_info()\n",
        "        print(f\"Number of rooms: {self.number_of_rooms}\")\n",
        "mansion = Mansion(\"123 Beverly Hills\", 5000000, 12)\n",
        "mansion.display_info()"
      ],
      "metadata": {
        "colab": {
          "base_uri": "https://localhost:8080/"
        },
        "id": "dton0iSV8AQh",
        "outputId": "be2e4ae8-3f5a-4ef8-c23c-b29b356db84b"
      },
      "execution_count": 30,
      "outputs": [
        {
          "output_type": "stream",
          "name": "stdout",
          "text": [
            "Address: 123 Beverly Hills\n",
            "Price: $5000000\n",
            "Number of rooms: 12\n"
          ]
        }
      ]
    }
  ]
}