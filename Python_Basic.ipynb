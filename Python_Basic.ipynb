{
  "nbformat": 4,
  "nbformat_minor": 0,
  "metadata": {
    "colab": {
      "provenance": []
    },
    "kernelspec": {
      "name": "python3",
      "display_name": "Python 3"
    },
    "language_info": {
      "name": "python"
    }
  },
  "cells": [
    {
      "cell_type": "markdown",
      "source": [
        "# Theoretical Questions\n",
        "\n",
        " 1. What is Python, and why is it popular?\n",
        "  -> Python is a programming language that was created by Guido Van Rossum in the year 1980. Python is very popular because it is easy to learn, beginner friendly and widly used in industries. Python is a very versatile and its used in alomost every were.\n",
        "\n",
        " 2. What is an interpreter in Python?\n",
        "   -> An interpreter in python is a program that can read codes and excecute it.whenever we write and run a code, interpreter reads the code translates it into machine language and then excutes it.\n",
        "\n",
        " 3. What are pre-defined keywords in Python?\n",
        "   -> Keywords in python is predefined words that holds a special meaning and have specified purpose. They are used to define the syntax of the coding.\n",
        "\n",
        " 4. Can keywords be used as variable names?\n",
        "   -> No, We can not use keyword as variables as they are already been defined and have specified purpose.\n",
        "\n",
        " 5. What is mutability in Python?\n",
        "   -> Mutability in pyhton means the ability to change it's value after being created. If we are able to change or modify any data then it is called as mutable.\n",
        "\n",
        " 6. Why are lists mutable, but tuples are immutable?\n",
        "   -> List are designed in a way so that it can be modified, changed or updated as per the requirement so they are mutable but tuples are meant to be fixed, they cannot be modified after being created that why list are mutable and tupples are immutable.\n",
        " 7. What is the difference between “==” and “is” operators in Python?\n",
        "   -> \"==\" is used to check if two objects have the same value or not and \"is\" operator is used to if two objects refers to the extact same value or not thats already stored in memory. == compare value and is compares memory addresses of two objects.\n",
        "  \n",
        "  8. What are logical operators in Python?\n",
        "  -> And, or and not are logical operators in python which is used to evaluate multiple conditions and determine an expression as a single boolean expression as true or false.\n",
        "  \n",
        "  9. What is type casting in Python?\n",
        "  -> Type casting in python means the process through which variables data type is changed to another data type for performing operations. for example if an integer is changed into float then this will be called as type casting.\n",
        "\n",
        "  10. What is the difference between implicit and explicit type casting?\n",
        "  -> Implicit Type Casting automatically changes one data type to another data type without manual intervention wherein Explicit type casting requires manual intervention for changing the data type.\n",
        "  \n",
        "  11.What is the purpose of conditional statements in Python?\n",
        "   -> Conditional statement are used to control the flow of executions. By the help of conditional statement we give Python's code some condition based on which it determines which code needs to be excecuted if that condition is satisfied and which one when it's not satisfied. \"If\" statement excutes when condition is true else if used when condition is false and elif if there are mutiliple condition provided.\n",
        "\n",
        "  12. How does the elif statement work?\n",
        "   -> Elif statement is a short form of else if, it is used to check on multiple conditional statement provided of a particular block of code before exceution. It first checks \"If\" statement, if that is flase it moves to \"elif\" statement and if that is also false then it finally moves to \"else\".\n",
        "\n",
        "  13. What is the difference between for and while loops?\n",
        "  -> We use \"for\" Loop when we already know the no. of iterations well in advance.It Iterates over a sequence(List, range, string). It automatically stops after iterating through the sequence provided. \"While\" loop is used when we don't know the no. of iteration that needs to be performed or when it depends upon certain condition. it continues the loop until its true and requires a manuall conndition to stop.\n",
        "\n",
        "  14. Describe a scenario where a while loop is more suitable than a for loop\n",
        "  -> we use while loop in situations where the number of iterations is not predetermined and depends on some dynamic condition. Use while when looping until a condition is met (like user input or an unknown stopping point)."
      ],
      "metadata": {
        "id": "yuii7y4n3zXQ"
      }
    },
    {
      "cell_type": "code",
      "execution_count": null,
      "metadata": {
        "id": "iDG9y7N93x43"
      },
      "outputs": [],
      "source": [
        "#Practical Questions"
      ]
    },
    {
      "cell_type": "code",
      "source": [
        "print(\"Hello, World!\")"
      ],
      "metadata": {
        "colab": {
          "base_uri": "https://localhost:8080/"
        },
        "id": "Oa85C0gLLa7T",
        "outputId": "e493baa0-ad06-4fe8-e49b-5cc71aa80078"
      },
      "execution_count": 6,
      "outputs": [
        {
          "output_type": "stream",
          "name": "stdout",
          "text": [
            "Hello, World!\n"
          ]
        }
      ]
    },
    {
      "cell_type": "code",
      "source": [
        "#2.Write a Python program that displays your name and age\n",
        "Name = \"Diksha\"\n",
        "Age = 24\n",
        "print(Name)\n",
        "print(Age)\n"
      ],
      "metadata": {
        "colab": {
          "base_uri": "https://localhost:8080/"
        },
        "id": "xS178W8vL9KJ",
        "outputId": "f8fec68b-25e7-40f3-e6ac-fb3d55ffcd19"
      },
      "execution_count": 8,
      "outputs": [
        {
          "output_type": "stream",
          "name": "stdout",
          "text": [
            "Diksha\n",
            "24\n"
          ]
        }
      ]
    },
    {
      "cell_type": "code",
      "source": [
        "#3 Write code to print all the pre-defined keywords in Python using the keyword libray\n",
        "import keyword\n",
        "print(keyword.kwlist)\n"
      ],
      "metadata": {
        "colab": {
          "base_uri": "https://localhost:8080/"
        },
        "id": "BAwFmgRQMxvC",
        "outputId": "e4647187-a67f-40be-8230-db4f66e20edd"
      },
      "execution_count": 9,
      "outputs": [
        {
          "output_type": "stream",
          "name": "stdout",
          "text": [
            "['False', 'None', 'True', 'and', 'as', 'assert', 'async', 'await', 'break', 'class', 'continue', 'def', 'del', 'elif', 'else', 'except', 'finally', 'for', 'from', 'global', 'if', 'import', 'in', 'is', 'lambda', 'nonlocal', 'not', 'or', 'pass', 'raise', 'return', 'try', 'while', 'with', 'yield']\n"
          ]
        }
      ]
    },
    {
      "cell_type": "code",
      "source": [
        "#4 Write a program that checks if a given word is a Python keyword\n",
        "import keyword\n",
        "#Write a program that checks if a given word is a Python keyword\n",
        "import keyword\n",
        "word = input(\"Enter a word: \")\n",
        "if keyword.iskeyword(word):\n",
        "    print(f\"'{word}' is a Python keyword.\")\n",
        "else:\n",
        "    print(f\"'{word}' is NOT a Python keyword.\")\n"
      ],
      "metadata": {
        "colab": {
          "base_uri": "https://localhost:8080/"
        },
        "id": "JQIp_1p7NOCo",
        "outputId": "b10bed61-f831-4a08-f054-0b2936180ba6"
      },
      "execution_count": 13,
      "outputs": [
        {
          "output_type": "stream",
          "name": "stdout",
          "text": [
            "Enter a word: def\n",
            "'def' is a Python keyword.\n"
          ]
        }
      ]
    },
    {
      "cell_type": "code",
      "source": [
        "#5.Create a list and tuple in Python, and demonstrate how attempting to change an element works differently\n",
        "#for each\n",
        "my_list = [1, 2, 3, 4]\n",
        "print(\"Original List:\", my_list)\n",
        "\n",
        "# Modifying an element in the list\n",
        "my_list[1] = 99  # Changing the second element\n",
        "print(\"Modified List:\", my_list)\n",
        "\n",
        "# Creating a tuple (immutable)\n",
        "my_tuple = (1, 2, 3, 4)\n",
        "print(\"\\nOriginal Tuple:\", my_tuple)\n",
        "\n",
        "# Attempting to modify an element in the tuple\n",
        "try:\n",
        "    my_tuple[1] = 99  # This will raise an error\n",
        "except TypeError as e:\n",
        "    print(\"Error:\", e)"
      ],
      "metadata": {
        "colab": {
          "base_uri": "https://localhost:8080/"
        },
        "id": "96aHhJPkR3LE",
        "outputId": "9d99e7ae-5d58-43c3-ac27-f3f64b00cf6c"
      },
      "execution_count": 23,
      "outputs": [
        {
          "output_type": "stream",
          "name": "stdout",
          "text": [
            "Original List: [1, 2, 3, 4]\n",
            "Modified List: [1, 99, 3, 4]\n",
            "\n",
            "Original Tuple: (1, 2, 3, 4)\n",
            "Error: 'tuple' object does not support item assignment\n"
          ]
        }
      ]
    },
    {
      "cell_type": "code",
      "source": [
        "# 6.Write a function to demonstrate the behavior of mutable and immutable arguments\n",
        "my_list = [1, 2, 3]\n",
        "my_list.append(4)\n",
        "print(my_list)\n",
        "\n",
        "tuple1 = (0, 1, 2, 3)\n",
        "tuple1[0] = 4\n",
        "print(tuple1)\n",
        "#Here list is mutable because we can modify it and Tuples are immutable as odification is not possible."
      ],
      "metadata": {
        "colab": {
          "base_uri": "https://localhost:8080/",
          "height": 211
        },
        "id": "w96BSjbfTpQm",
        "outputId": "2dd14cf5-ed56-4ddb-e049-ff3682602b36"
      },
      "execution_count": 24,
      "outputs": [
        {
          "output_type": "stream",
          "name": "stdout",
          "text": [
            "[1, 2, 3, 4]\n"
          ]
        },
        {
          "output_type": "error",
          "ename": "TypeError",
          "evalue": "'tuple' object does not support item assignment",
          "traceback": [
            "\u001b[0;31m---------------------------------------------------------------------------\u001b[0m",
            "\u001b[0;31mTypeError\u001b[0m                                 Traceback (most recent call last)",
            "\u001b[0;32m<ipython-input-24-0ed272f49eea>\u001b[0m in \u001b[0;36m<cell line: 0>\u001b[0;34m()\u001b[0m\n\u001b[1;32m      5\u001b[0m \u001b[0;34m\u001b[0m\u001b[0m\n\u001b[1;32m      6\u001b[0m \u001b[0mtuple1\u001b[0m \u001b[0;34m=\u001b[0m \u001b[0;34m(\u001b[0m\u001b[0;36m0\u001b[0m\u001b[0;34m,\u001b[0m \u001b[0;36m1\u001b[0m\u001b[0;34m,\u001b[0m \u001b[0;36m2\u001b[0m\u001b[0;34m,\u001b[0m \u001b[0;36m3\u001b[0m\u001b[0;34m)\u001b[0m\u001b[0;34m\u001b[0m\u001b[0;34m\u001b[0m\u001b[0m\n\u001b[0;32m----> 7\u001b[0;31m \u001b[0mtuple1\u001b[0m\u001b[0;34m[\u001b[0m\u001b[0;36m0\u001b[0m\u001b[0;34m]\u001b[0m \u001b[0;34m=\u001b[0m \u001b[0;36m4\u001b[0m\u001b[0;34m\u001b[0m\u001b[0;34m\u001b[0m\u001b[0m\n\u001b[0m\u001b[1;32m      8\u001b[0m \u001b[0mprint\u001b[0m\u001b[0;34m(\u001b[0m\u001b[0mtuple1\u001b[0m\u001b[0;34m)\u001b[0m\u001b[0;34m\u001b[0m\u001b[0;34m\u001b[0m\u001b[0m\n",
            "\u001b[0;31mTypeError\u001b[0m: 'tuple' object does not support item assignment"
          ]
        }
      ]
    },
    {
      "cell_type": "code",
      "source": [
        "#7. Question 6 and 7 is same."
      ],
      "metadata": {
        "id": "-kYx3KIXV9m3"
      },
      "execution_count": null,
      "outputs": []
    },
    {
      "cell_type": "code",
      "source": [
        "#8.Write a program to demonstrate the use of logical operators\n",
        "a, b, c = 5, 7, 5\n",
        "\n",
        "# AND: Both conditions must be True\n",
        "if a and c:\n",
        "    print(\"Both a and c are True (AND condition).\")\n",
        "\n",
        "# OR: At least one condition must be True\n",
        "if b or c:\n",
        "    print(\"Either b or c is True (OR condition).\")\n",
        "\n",
        "# NOT: Reverses the condition\n",
        "if not b:\n",
        "    print(\"b is False (NOT condition).\")"
      ],
      "metadata": {
        "colab": {
          "base_uri": "https://localhost:8080/"
        },
        "id": "R55ruvH7WIlK",
        "outputId": "a439b3ca-e1fd-43c4-bf2a-4f228ab35f49"
      },
      "execution_count": 26,
      "outputs": [
        {
          "output_type": "stream",
          "name": "stdout",
          "text": [
            "Both a and c are True (AND condition).\n",
            "Either b or c is True (OR condition).\n"
          ]
        }
      ]
    },
    {
      "cell_type": "code",
      "source": [
        "#9.Write a Python program to convert user input from string to integer, float, and boolean types\n",
        "a=input(\"Enter a number\")\n",
        "print(int(a))\n",
        "print(float(a))\n",
        "print(bool(a))"
      ],
      "metadata": {
        "colab": {
          "base_uri": "https://localhost:8080/"
        },
        "id": "ytSVIliqXqfo",
        "outputId": "ec514fc3-c84f-47e9-fb72-7edda361c151"
      },
      "execution_count": 30,
      "outputs": [
        {
          "output_type": "stream",
          "name": "stdout",
          "text": [
            "Enter a number5\n",
            "5\n",
            "5.0\n",
            "True\n"
          ]
        }
      ]
    },
    {
      "cell_type": "code",
      "source": [
        "#10.Write code to demonstrate type casting with list elements.\n",
        "a = [1,2,3,4,],[5,6,7,8,]\n",
        "print(list(a))\n"
      ],
      "metadata": {
        "colab": {
          "base_uri": "https://localhost:8080/"
        },
        "id": "zaThr5FbYHsA",
        "outputId": "5137491e-8f0e-43f0-a1bc-bc72bb838a14"
      },
      "execution_count": 31,
      "outputs": [
        {
          "output_type": "stream",
          "name": "stdout",
          "text": [
            "[[1, 2, 3, 4], [5, 6, 7, 8]]\n"
          ]
        }
      ]
    },
    {
      "cell_type": "code",
      "source": [
        " #11.Write a program that checks if a number is positive, negative, or zero\n",
        "a=int(input(\"Enter a number\"))\n",
        "if a<0:\n",
        "  print(\"the no. is negative\")\n",
        "elif a>0:\n",
        "    print(\"the no. is positive\")\n",
        "else:\n",
        "    print(\"the no. is zero\")\n"
      ],
      "metadata": {
        "colab": {
          "base_uri": "https://localhost:8080/"
        },
        "id": "U_p91p3Ka0-y",
        "outputId": "50a631cb-1ffb-4f25-86f9-9a5494611626"
      },
      "execution_count": 39,
      "outputs": [
        {
          "output_type": "stream",
          "name": "stdout",
          "text": [
            "Enter a number5\n",
            "the no. is positive\n"
          ]
        }
      ]
    },
    {
      "cell_type": "code",
      "source": [
        " #12.Write a for loop to print numbers from 1 to 10\n",
        " count= 11\n",
        " i = 1\n",
        " while i < count:\n",
        "    print(i)\n",
        "    i += 1"
      ],
      "metadata": {
        "colab": {
          "base_uri": "https://localhost:8080/"
        },
        "id": "y24RX01LdOXC",
        "outputId": "7ce17b16-a1fd-478c-f09d-0be342a6850e"
      },
      "execution_count": 40,
      "outputs": [
        {
          "output_type": "stream",
          "name": "stdout",
          "text": [
            "1\n",
            "2\n",
            "3\n",
            "4\n",
            "5\n",
            "6\n",
            "7\n",
            "8\n",
            "9\n",
            "10\n"
          ]
        }
      ]
    },
    {
      "cell_type": "code",
      "source": [
        " #13.Write a Python program to find the sum of all even numbers between 1 and 50.\n",
        " sum_even = 0\n",
        "for num in range(2, 51,2):\n",
        "    sum_even += num\n",
        "\n",
        "print(sum_even)"
      ],
      "metadata": {
        "colab": {
          "base_uri": "https://localhost:8080/"
        },
        "id": "yNv85swfdvru",
        "outputId": "b70c88fa-f1a4-4411-d142-d51697491734"
      },
      "execution_count": 56,
      "outputs": [
        {
          "output_type": "stream",
          "name": "stdout",
          "text": [
            "650\n"
          ]
        }
      ]
    },
    {
      "cell_type": "code",
      "source": [
        "#14.Write a program to reverse a string using a while loop.\n",
        "string = input(\"Enter a string: \")\n",
        "reversed_string = \"\"\n",
        "index = len(string) - 1\n",
        "\n",
        "while index >= 0:\n",
        "    reversed_string += string[index]\n",
        "    index -= 1\n",
        "\n",
        "print(\"Reversed string:\", reversed_string)"
      ],
      "metadata": {
        "colab": {
          "base_uri": "https://localhost:8080/"
        },
        "id": "3QI-t1usfvxI",
        "outputId": "40207060-1df4-4dcc-b8a9-246f88c0b6bc"
      },
      "execution_count": 60,
      "outputs": [
        {
          "output_type": "stream",
          "name": "stdout",
          "text": [
            "Enter a string: 6\n",
            "Reversed string: 6\n"
          ]
        }
      ]
    },
    {
      "cell_type": "code",
      "source": [
        "#15.Write a Python program to calculate the factorial of a number provided by the user using a while loop\n",
        "n = int(input(\"Enter a number: \"))\n",
        "factorial = 1\n",
        "current = 1\n",
        "\n",
        "while current <= n:\n",
        "    factorial *= current\n",
        "    current += 1\n",
        "\n",
        "print(f\"The factorial of {n} is {factorial}\")"
      ],
      "metadata": {
        "colab": {
          "base_uri": "https://localhost:8080/"
        },
        "id": "6YAjxJ62pP8e",
        "outputId": "82d44356-440b-4bfb-baed-d2e4b4393752"
      },
      "execution_count": 62,
      "outputs": [
        {
          "output_type": "stream",
          "name": "stdout",
          "text": [
            "Enter a number: 5\n",
            "The factorial of 5 is 120\n"
          ]
        }
      ]
    }
  ]
}