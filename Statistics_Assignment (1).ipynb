{
  "nbformat": 4,
  "nbformat_minor": 0,
  "metadata": {
    "colab": {
      "provenance": []
    },
    "kernelspec": {
      "name": "python3",
      "display_name": "Python 3"
    },
    "language_info": {
      "name": "python"
    }
  },
  "cells": [
    {
      "cell_type": "markdown",
      "source": [
        "Theory Question"
      ],
      "metadata": {
        "id": "84jj9BxBoFwV"
      }
    },
    {
      "cell_type": "markdown",
      "source": [
        "1. What is statistics, and why is it important?\n",
        "Statistics is the science of collecting, organizing, analyzing, interpreting, and presenting data. It’s important because it helps in making informed decisions, understanding data patterns, and drawing conclusions from data in various fields like business, healthcare, and social sciences."
      ],
      "metadata": {
        "id": "1MuIzT22eEBP"
      }
    },
    {
      "cell_type": "markdown",
      "source": [
        "2. What are the two main types of statistics?\n",
        "\n",
        "Descriptive statistics → summarize and describe data (mean, median, standard deviation).\n",
        "\n",
        "Inferential statistics → draw conclusions and make predictions from a sample (hypothesis testing, confidence intervals)."
      ],
      "metadata": {
        "id": "HZGVyc6KeJvw"
      }
    },
    {
      "cell_type": "markdown",
      "source": [
        "3. What are descriptive statistics?\n",
        "Descriptive statistics summarize features of a dataset using measures like central tendency (mean, median, mode) and dispersion (variance, range, standard deviation)."
      ],
      "metadata": {
        "id": "GjD1UiJ3eRa7"
      }
    },
    {
      "cell_type": "markdown",
      "source": [
        " 4. What is inferential statistics?\n",
        "Inferential statistics involve methods to infer or predict characteristics about a population based on a sample, using techniques like hypothesis testing, regression, and estimation."
      ],
      "metadata": {
        "id": "hqp1D0AIeXPv"
      }
    },
    {
      "cell_type": "markdown",
      "source": [
        "5. What is sampling in statistics?\n",
        "Sampling is the process of selecting a subset (sample) from a larger population to analyze and make inferences about the whole population."
      ],
      "metadata": {
        "id": "qwdz3co9eaZj"
      }
    },
    {
      "cell_type": "markdown",
      "source": [
        "6. What are the different types of sampling methods?\n",
        "\n",
        "Simple random sampling → Each item has an equal chance.\n",
        "\n",
        "Stratified sampling → Population divided into subgroups (strata), then sampled.\n",
        "\n",
        "Systematic sampling → Select every nth item.\n",
        "\n",
        "Cluster sampling → Select random groups, not individuals.\n",
        "\n",
        "Convenience sampling → Use data that’s easy to access."
      ],
      "metadata": {
        "id": "8P9v6aeqedRI"
      }
    },
    {
      "cell_type": "markdown",
      "source": [
        "7. What is the difference between random and non-random sampling?\n",
        "\n",
        "Random sampling → every individual has an equal chance of being selected (reduces bias).\n",
        "\n",
        "Non-random sampling → selection based on convenience or judgment, increasing bias risk."
      ],
      "metadata": {
        "id": "qA90a0nXehEw"
      }
    },
    {
      "cell_type": "markdown",
      "source": [
        "8. Define and give examples of qualitative and quantitative data.\n",
        "\n",
        "Qualitative (categorical) → non-numeric (colors, gender, brand names).\n",
        "\n",
        "Quantitative (numerical) → numeric (height, age, income)."
      ],
      "metadata": {
        "id": "cBojvxLOej1w"
      }
    },
    {
      "cell_type": "markdown",
      "source": [
        " What are the different types of data in statistics?\n",
        "\n",
        "Nominal → Categories with no order (blood type).\n",
        "\n",
        "Ordinal → Ordered categories (education level).\n",
        "\n",
        "Interval → Numeric, equal spacing, no true zero (temperature °C).\n",
        "\n",
        "Ratio → Numeric, equal spacing, true zero (weight, height)."
      ],
      "metadata": {
        "id": "MGf9jgikemHa"
      }
    },
    {
      "cell_type": "markdown",
      "source": [
        "10. Explain nominal, ordinal, interval, and ratio levels of measurement.\n",
        "\n",
        "Nominal → categories without order (gender, nationality).\n",
        "\n",
        "Ordinal → categories with order (rankings, satisfaction levels).\n",
        "\n",
        "Interval → numeric, equal intervals, no true zero (temperature in Celsius).\n",
        "\n",
        "Ratio → numeric, equal intervals, true zero (weight, height)."
      ],
      "metadata": {
        "id": "c2_9P3lwepAv"
      }
    },
    {
      "cell_type": "markdown",
      "source": [
        "11. What is the measure of central tendency?\n",
        "It identifies the center point or typical value of a dataset (mean, median, mode)."
      ],
      "metadata": {
        "id": "Z6eeBblIerX3"
      }
    },
    {
      "cell_type": "markdown",
      "source": [
        " 12. Define mean, median, and mode.\n",
        "\n",
        "Mean → average.\n",
        "\n",
        "Median → middle value.\n",
        "\n",
        "Mode → most frequent value."
      ],
      "metadata": {
        "id": "ybStZoNFet2b"
      }
    },
    {
      "cell_type": "markdown",
      "source": [
        "13. What is the significance of the measure of central tendency?\n",
        "It provides a summary number to represent a dataset, making comparison and analysis easier.\n"
      ],
      "metadata": {
        "id": "uReNpB1eewR_"
      }
    },
    {
      "cell_type": "markdown",
      "source": [
        "14. 14. What is variance, and how is it calculated?\n",
        "Variance measures how spread out the data is around the mean, calculated by averaging squared deviations from the mean."
      ],
      "metadata": {
        "id": "SjK7Xk2Xezeo"
      }
    },
    {
      "cell_type": "markdown",
      "source": [
        "15. What is standard deviation, and why is it important?\n",
        "Standard deviation is the square root of variance; it indicates data dispersion and variability."
      ],
      "metadata": {
        "id": "fFQuHI48e1fp"
      }
    },
    {
      "cell_type": "markdown",
      "source": [
        "16. Define and explain the term range in statistics.\n",
        "Range = maximum value − minimum value; it shows the spread between the smallest and largest values."
      ],
      "metadata": {
        "id": "7HlOkcJWe3fA"
      }
    },
    {
      "cell_type": "markdown",
      "source": [
        "17. What is the difference between variance and standard deviation?\n",
        "Variance is in squared units; standard deviation brings it back to original units."
      ],
      "metadata": {
        "id": "AAnY7zvSe8Bv"
      }
    },
    {
      "cell_type": "markdown",
      "source": [
        "What is skewness in a dataset?\n",
        "Skewness measures the asymmetry of a distribution:\n",
        "\n",
        "Positive skew → Tail on right.\n",
        "\n",
        "Negative skew → Tail on left."
      ],
      "metadata": {
        "id": "X8rzxIP2e9ug"
      }
    },
    {
      "cell_type": "markdown",
      "source": [
        " 19. What does it mean if a dataset is positively or negatively skewed?\n",
        "\n",
        "Positively skewed → More small values, few large outliers.\n",
        "\n",
        "Negatively skewed → More large values, few small outliers."
      ],
      "metadata": {
        "id": "WDuwYHwMfHUr"
      }
    },
    {
      "cell_type": "markdown",
      "source": [
        "20. Define and explain kurtosis.\n",
        "Kurtosis measures the “tailedness” of a distribution — how extreme the outliers are:\n",
        "\n",
        "High kurtosis → Heavy tails, more outliers.\n",
        "\n",
        "Low kurtosis → Light tails, fewer outliers.\n"
      ],
      "metadata": {
        "id": "9j8jtqkJfJJw"
      }
    },
    {
      "cell_type": "markdown",
      "source": [
        "21. What is the purpose of covariance?\n",
        "Covariance measures the direction of the relationship between two variables — whether they increase together (positive) or move inversely (negative)."
      ],
      "metadata": {
        "id": "h81JKRI_f0nI"
      }
    },
    {
      "cell_type": "markdown",
      "source": [
        " 22. What does correlation measure in statistics?\n",
        "Correlation measures both the strength and direction of a linear relationship between two variables, ranging from −1 to +1."
      ],
      "metadata": {
        "id": "udJcHgr6f1K4"
      }
    },
    {
      "cell_type": "markdown",
      "source": [
        "23. What is the difference between covariance and correlation?\n",
        "Covariance is unstandardized and depends on units, while correlation is standardized and unitless, making it easier to interpret.\n",
        "\n"
      ],
      "metadata": {
        "id": "4GxXTyJMf25A"
      }
    },
    {
      "cell_type": "markdown",
      "source": [
        "24. What are some real-world applications of statistics?\n",
        "\n",
        "Marketing → Customer insights.\n",
        "\n",
        "Healthcare → Drug effectiveness studies.\n",
        "\n",
        "Sports → Player performance analysis.\n",
        "\n",
        "Manufacturing → Quality control.\n",
        "\n",
        "Finance → Stock market predictions."
      ],
      "metadata": {
        "id": "KZvVQDYmf4m4"
      }
    },
    {
      "cell_type": "markdown",
      "source": [
        "Practical Questions\n"
      ],
      "metadata": {
        "id": "vY84XKdQf8pY"
      }
    },
    {
      "cell_type": "code",
      "source": [
        " #1.How do you calculate the mean, median, and mode of a dataset?\n",
        "import numpy as np\n",
        "from scipy import stats\n",
        "\n",
        "data = [2, 4, 4, 6, 8, 8, 8, 10]\n",
        "\n",
        "mean = np.mean(data)\n",
        "median = np.median(data)\n",
        "mode = stats.mode(data, keepdims=True).mode[0]\n",
        "\n",
        "print(\"Mean:\", mean)\n",
        "print(\"Median:\", median)\n",
        "print(\"Mode:\", mode)"
      ],
      "metadata": {
        "colab": {
          "base_uri": "https://localhost:8080/"
        },
        "id": "3BThxN0ng34I",
        "outputId": "61365e6f-f75e-4b16-8201-845352280ac3"
      },
      "execution_count": 2,
      "outputs": [
        {
          "output_type": "stream",
          "name": "stdout",
          "text": [
            "Mean: 6.25\n",
            "Median: 7.0\n",
            "Mode: 8\n"
          ]
        }
      ]
    },
    {
      "cell_type": "code",
      "source": [
        " #2.Write a Python program to compute the variance and standard deviation of a dataset.\n",
        " variance = np.var(data)\n",
        "std_dev = np.std(data)\n",
        "\n",
        "print(\"Variance:\", variance)\n",
        "print(\"Standard Deviation:\", std_dev)\n"
      ],
      "metadata": {
        "colab": {
          "base_uri": "https://localhost:8080/"
        },
        "id": "g1yoOfRxhWLo",
        "outputId": "cd1e03bb-9c60-4dc1-99ba-b7f71d9b3726"
      },
      "execution_count": 3,
      "outputs": [
        {
          "output_type": "stream",
          "name": "stdout",
          "text": [
            "Variance: 6.4375\n",
            "Standard Deviation: 2.537222891273055\n"
          ]
        }
      ]
    },
    {
      "cell_type": "code",
      "source": [
        " #3.Create a dataset and classify it into nominal, ordinal, interval, and ratio types.\n",
        " dataset = {\n",
        "    'nominal': ['red', 'blue', 'green'],\n",
        "    'ordinal': ['low', 'medium', 'high'],\n",
        "    'interval': [20, 30, 40],\n",
        "    'ratio': [5, 10, 15]\n",
        "}\n",
        "\n",
        "print(dataset)\n"
      ],
      "metadata": {
        "id": "noSoGhdCido8"
      },
      "execution_count": null,
      "outputs": []
    },
    {
      "cell_type": "code",
      "source": [
        " #4.Implement sampling techniques like random sampling and stratified sampling\n",
        " import pandas as pd\n",
        "\n",
        "df = pd.DataFrame({\n",
        "    'id': range(1, 101),\n",
        "    'group': ['A']*50 + ['B']*50\n",
        "})\n",
        "\n",
        "random_sample = df.sample(n=10)\n",
        "\n",
        "stratified_sample = df.groupby('group', group_keys=False).apply(lambda x: x.sample(5))\n",
        "\n",
        "print(\"Random Sample:\\n\", random_sample)\n",
        "print(\"Stratified Sample:\\n\", stratified_sample)"
      ],
      "metadata": {
        "id": "dmGvSjQCimFg"
      },
      "execution_count": null,
      "outputs": []
    },
    {
      "cell_type": "code",
      "source": [
        "#5.Write a Python function to calculate the range of a dataset.\n",
        "def calculate_range(data):\n",
        "    return max(data) - min(data)\n",
        "\n",
        "print(\"Range:\", calculate_range(data))"
      ],
      "metadata": {
        "id": "rRGkXcSziwSY"
      },
      "execution_count": null,
      "outputs": []
    },
    {
      "cell_type": "code",
      "source": [
        "#6.Create a dataset and plot its histogram to visualize skewness.\n",
        "import matplotlib.pyplot as plt\n",
        "\n",
        "plt.hist(data, bins=5)\n",
        "plt.title('Histogram')\n",
        "plt.show()"
      ],
      "metadata": {
        "colab": {
          "base_uri": "https://localhost:8080/",
          "height": 452
        },
        "id": "dDr5cbUyi5pC",
        "outputId": "6562b93a-26ef-4e8a-fa23-bfd475e36240"
      },
      "execution_count": 4,
      "outputs": [
        {
          "output_type": "display_data",
          "data": {
            "text/plain": [
              "<Figure size 640x480 with 1 Axes>"
            ],
            "image/png": "[encoded data removed]"
          },
          "metadata": {}
        }
      ]
    },
    {
      "cell_type": "code",
      "source": [
        "#7.Calculate skewness and kurtosis of a dataset using Python libraries\n",
        "skewness = stats.skew(data)\n",
        "kurtosis = stats.kurtosis(data)\n",
        "\n",
        "print(\"Skewness:\", skewness)\n",
        "print(\"Kurtosis:\", kurtosis)"
      ],
      "metadata": {
        "colab": {
          "base_uri": "https://localhost:8080/"
        },
        "id": "SySHUTE9jGVR",
        "outputId": "2b1e1976-ad89-4955-ccfd-a21520c938b4"
      },
      "execution_count": 5,
      "outputs": [
        {
          "output_type": "stream",
          "name": "stdout",
          "text": [
            "Skewness: -0.2353310703188506\n",
            "Kurtosis: -1.1799415590536337\n"
          ]
        }
      ]
    },
    {
      "cell_type": "code",
      "source": [
        " #8.Generate a dataset and demonstrate positive and negative skewness\n",
        " import seaborn as sns\n",
        "\n",
        "pos_skew = np.random.exponential(scale=2, size=1000)\n",
        "neg_skew = np.random.beta(a=2, b=5, size=1000)\n",
        "\n",
        "sns.histplot(pos_skew, kde=True)\n",
        "plt.title('Positive Skew')\n",
        "plt.show()\n",
        "\n",
        "sns.histplot(neg_skew, kde=True)\n",
        "plt.title('Negative Skew')\n",
        "plt.show()\n"
      ],
      "metadata": {
        "id": "wr3dlc5tjOcX"
      },
      "execution_count": null,
      "outputs": []
    },
    {
      "cell_type": "code",
      "source": [
        "#9.Write a Python script to calculate covariance between two datasets.\n",
        "x = np.random.rand(100)\n",
        "y = np.random.rand(100)\n",
        "\n",
        "cov_matrix = np.cov(x, y)\n",
        "covariance = cov_matrix[0, 1]\n",
        "\n",
        "print(\"Covariance:\", covariance)\n"
      ],
      "metadata": {
        "id": "u6a3O_DLjTfQ"
      },
      "execution_count": null,
      "outputs": []
    },
    {
      "cell_type": "code",
      "source": [
        " #10.Write a Python script to calculate the correlation coefficient between two datasets.\n",
        " x = np.random.rand(100)\n",
        "y = np.random.rand(100)\n",
        "\n",
        "correlation = np.corrcoef(x, y)[0, 1]\n",
        "\n",
        "print(\"Correlation Coefficient:\", correlation)\n"
      ],
      "metadata": {
        "colab": {
          "base_uri": "https://localhost:8080/"
        },
        "id": "EmuvJrSgjnDJ",
        "outputId": "a5a6a5d8-e94c-45ef-df43-8e38c044df3e"
      },
      "execution_count": 10,
      "outputs": [
        {
          "output_type": "stream",
          "name": "stdout",
          "text": [
            "Correlation Coefficient: -0.016592172398992595\n"
          ]
        }
      ]
    },
    {
      "cell_type": "code",
      "source": [
        "#11. Create a scatter plot to visualize the relationship between two variablesplt.scatter(x, y)\n",
        "plt.xlabel('X')\n",
        "plt.ylabel('Y')\n",
        "plt.title('Scatter Plot')\n",
        "plt.show()"
      ],
      "metadata": {
        "id": "IM71TtRkjpnD"
      },
      "execution_count": null,
      "outputs": []
    },
    {
      "cell_type": "code",
      "source": [
        " #12.Implement and compare simple random sampling and systematic sampling.\n",
        " import random\n",
        "\n",
        "random_sample = random.sample(range(1, 101), 10)\n",
        "print(\"Random Sample:\", random_sample)\n",
        "\n",
        "step = 10\n",
        "systematic_sample = [i for i in range(1, 101) if i % step == 0]\n",
        "print(\"Systematic Sample:\", systematic_sample)\n"
      ],
      "metadata": {
        "colab": {
          "base_uri": "https://localhost:8080/"
        },
        "id": "632ouSWRjrVh",
        "outputId": "bd313995-609e-4136-bf05-604aa4ce51c9"
      },
      "execution_count": 29,
      "outputs": [
        {
          "output_type": "stream",
          "name": "stdout",
          "text": [
            "Random Sample: [89, 54, 75, 86, 15, 31, 93, 87, 81, 98]\n",
            "Systematic Sample: [10, 20, 30, 40, 50, 60, 70, 80, 90, 100]\n"
          ]
        }
      ]
    },
    {
      "cell_type": "code",
      "source": [
        " #13.Calculate the mean, median, and mode of grouped data\n",
        " grouped_data = {\n",
        "    'class': ['0-10', '10-20', '20-30'],\n",
        "    'frequency': [5, 8, 7]\n",
        "}\n",
        "\n",
        "mean_grouped = np.average([5, 15, 25], weights=[5, 8, 7])\n",
        "print(\"Mean of Grouped Data:\", mean_grouped)\n"
      ],
      "metadata": {
        "colab": {
          "base_uri": "https://localhost:8080/"
        },
        "id": "XbKTovuRjvth",
        "outputId": "9bfa444c-4453-4ada-eb9c-f2ebbf65f019"
      },
      "execution_count": 30,
      "outputs": [
        {
          "output_type": "stream",
          "name": "stdout",
          "text": [
            "Mean of Grouped Data: 16.0\n"
          ]
        }
      ]
    },
    {
      "cell_type": "code",
      "source": [
        "#14.Simulate data using Python and calculate its central tendency and dispersion.\n",
        "\n",
        "sim_data = np.random.normal(loc=50, scale=10, size=100)\n",
        "\n",
        "print(\"Mean:\", np.mean(sim_data))\n",
        "print(\"Median:\", np.median(sim_data))\n",
        "print(\"Std Dev:\", np.std(sim_data))\n",
        "print(\"Variance:\", np.var(sim_data))\n"
      ],
      "metadata": {
        "colab": {
          "base_uri": "https://localhost:8080/"
        },
        "id": "QKDcCbgvjwUR",
        "outputId": "c30f43fd-5641-4145-cdf8-1fa5f2d5a0c3"
      },
      "execution_count": 33,
      "outputs": [
        {
          "output_type": "stream",
          "name": "stdout",
          "text": [
            "Mean: 50.67778231115488\n",
            "Median: 51.35105566177539\n",
            "Std Dev: 9.5584232019093\n",
            "Variance: 91.36345410679803\n"
          ]
        }
      ]
    },
    {
      "cell_type": "code",
      "source": [
        "#15Use NumPy or pandas to summarize a dataset’s descriptive statistics\n",
        "\n",
        "df = pd.DataFrame({'values': sim_data})\n",
        "print(df.describe())\n"
      ],
      "metadata": {
        "colab": {
          "base_uri": "https://localhost:8080/"
        },
        "id": "pEa7g1aYjyJx",
        "outputId": "85d9f74f-d877-4cc4-9745-7683b844cb8b"
      },
      "execution_count": 37,
      "outputs": [
        {
          "output_type": "stream",
          "name": "stdout",
          "text": [
            "           values\n",
            "count  100.000000\n",
            "mean    50.677782\n",
            "std      9.606577\n",
            "min     18.940568\n",
            "25%     45.541231\n",
            "50%     51.351056\n",
            "75%     57.337306\n",
            "max     72.065477\n"
          ]
        }
      ]
    },
    {
      "cell_type": "code",
      "source": [
        "#16Plot a boxplot to understand the spread and identify outliers\n",
        "import seaborn as sns\n",
        "sns.boxplot(x=df['values'])\n",
        "plt.show()\n"
      ],
      "metadata": {
        "colab": {
          "base_uri": "https://localhost:8080/",
          "height": 449
        },
        "id": "qK8MI8qVjz4C",
        "outputId": "a575077c-b1ad-48f7-c124-088ba15c9e5b"
      },
      "execution_count": 39,
      "outputs": [
        {
          "output_type": "display_data",
          "data": {
            "text/plain": [
              "<Figure size 640x480 with 1 Axes>"
            ],
            "image/png": "[encoded data removed]"
          },
          "metadata": {}
        }
      ]
    },
    {
      "cell_type": "code",
      "source": [
        "#17. Calculate the interquartile range (IQR) of a dataset\n",
        "\n",
        "q1 = np.percentile(sim_data, 25)\n",
        "q3 = np.percentile(sim_data, 75)\n",
        "iqr = q3 - q1\n",
        "\n",
        "print(\"IQR:\", iqr)\n"
      ],
      "metadata": {
        "colab": {
          "base_uri": "https://localhost:8080/"
        },
        "id": "fvXi9_JAj1Ya",
        "outputId": "5d8bcc4b-199f-4e1b-8a79-f5449c01b219"
      },
      "execution_count": 40,
      "outputs": [
        {
          "output_type": "stream",
          "name": "stdout",
          "text": [
            "IQR: 11.796074799353356\n"
          ]
        }
      ]
    },
    {
      "cell_type": "code",
      "source": [
        "#18.Implement Z-score normalization and explain its significance.\n",
        "#It makes data more comparable and easier to analyze, especially when different features have varying scales or units.\n",
        "\n",
        "z_scores = (sim_data - np.mean(sim_data)) / np.std(sim_data)\n",
        "print(\"First 5 Z-scores:\", z_scores[:5])\n"
      ],
      "metadata": {
        "colab": {
          "base_uri": "https://localhost:8080/"
        },
        "id": "68xo1RlJj23y",
        "outputId": "8f92307e-c2b9-4264-dc90-d8e18f4fb16f"
      },
      "execution_count": 42,
      "outputs": [
        {
          "output_type": "stream",
          "name": "stdout",
          "text": [
            "First 5 Z-scores: [ 0.25564688  0.97809294 -3.32033992  0.85295763 -0.78821365]\n"
          ]
        }
      ]
    },
    {
      "cell_type": "code",
      "source": [
        "#19.Compare two datasets using their standard deviations.\n",
        "data1 = np.random.normal(0, 1, 100)\n",
        "data2 = np.random.normal(0, 5, 100)\n",
        "\n",
        "print(\"Std Dev Data1:\", np.std(data1))\n",
        "print(\"Std Dev Data2:\", np.std(data2))"
      ],
      "metadata": {
        "colab": {
          "base_uri": "https://localhost:8080/"
        },
        "id": "wkhSToldj4rq",
        "outputId": "e3822a0e-b60f-4426-db80-2d182cfb2c77"
      },
      "execution_count": 43,
      "outputs": [
        {
          "output_type": "stream",
          "name": "stdout",
          "text": [
            "Std Dev Data1: 0.8970198972098539\n",
            "Std Dev Data2: 5.668660455415713\n"
          ]
        }
      ]
    },
    {
      "cell_type": "code",
      "source": [
        "#20.Write a Python program to visualize covariance using a heatmap.\n",
        "cov_matrix = np.cov(data1, data2)\n",
        "sns.heatmap(cov_matrix, annot=True, fmt=\".2f\")\n",
        "plt.title('Covariance Heatmap')\n",
        "plt.show()\n"
      ],
      "metadata": {
        "colab": {
          "base_uri": "https://localhost:8080/",
          "height": 452
        },
        "id": "AgWnO54rj6Ry",
        "outputId": "c3232dab-6344-46bc-c812-ab505b90e316"
      },
      "execution_count": 44,
      "outputs": [
        {
          "output_type": "display_data",
          "data": {
            "text/plain": [
              "<Figure size 640x480 with 2 Axes>"
            ],
            "image/png": "[encoded data removed]"
          },
          "metadata": {}
        }
      ]
    },
    {
      "cell_type": "code",
      "source": [
        "#21.Use seaborn to create a correlation matrix for a dataset\n",
        "corr_matrix = df.corr()\n",
        "sns.heatmap(corr_matrix, annot=True, cmap='coolwarm')\n",
        "plt.title('Correlation Matrix')\n",
        "plt.show()"
      ],
      "metadata": {
        "colab": {
          "base_uri": "https://localhost:8080/",
          "height": 452
        },
        "id": "_QI_CuB2nl8i",
        "outputId": "6b18e1d3-4eec-44ac-a1aa-47cee5199553"
      },
      "execution_count": 45,
      "outputs": [
        {
          "output_type": "display_data",
          "data": {
            "text/plain": [
              "<Figure size 640x480 with 2 Axes>"
            ],
            "image/png": "[encoded data removed]"
          },
          "metadata": {}
        }
      ]
    },
    {
      "cell_type": "code",
      "source": [
        " #22.Generate a dataset and implement both variance and standard deviation computations\n",
        " data = np.random.normal(loc=50, scale=10, size=100)\n",
        "\n",
        "variance = np.var(data)\n",
        "std_dev = np.std(data)\n",
        "\n",
        "print(\"Variance:\", variance)\n",
        "print(\"Standard Deviation:\", std_dev)"
      ],
      "metadata": {
        "colab": {
          "base_uri": "https://localhost:8080/"
        },
        "id": "lj9eadLBnr-a",
        "outputId": "db9e5057-b853-4371-826a-7d61b2c5d6c3"
      },
      "execution_count": 46,
      "outputs": [
        {
          "output_type": "stream",
          "name": "stdout",
          "text": [
            "Variance: 106.56312840310778\n",
            "Standard Deviation: 10.32294184828665\n"
          ]
        }
      ]
    },
    {
      "cell_type": "code",
      "source": [
        "#23.Visualize skewness and kurtosis using Python libraries like matplotlib or seaborn\n",
        "sns.histplot(sim_data, kde=True)\n",
        "plt.title('Histogram with KDE')\n",
        "plt.show()\n",
        "\n",
        "print(\"Skewness:\", stats.skew(sim_data))\n",
        "print(\"Kurtosis:\", stats.kurtosis(sim_data))\n"
      ],
      "metadata": {
        "colab": {
          "base_uri": "https://localhost:8080/",
          "height": 487
        },
        "id": "APx4OxDMnyOJ",
        "outputId": "f429c9f9-6023-4a16-ebfd-11b4a3b621c8"
      },
      "execution_count": 47,
      "outputs": [
        {
          "output_type": "display_data",
          "data": {
            "text/plain": [
              "<Figure size 640x480 with 1 Axes>"
            ],
            "image/png": "[encoded data removed]"
          },
          "metadata": {}
        },
        {
          "output_type": "stream",
          "name": "stdout",
          "text": [
            "Skewness: -0.46991555723956524\n",
            "Kurtosis: 0.4591256600825395\n"
          ]
        }
      ]
    },
    {
      "cell_type": "code",
      "source": [
        "#23.Implement the Pearson and Spearman correlation coefficients for a dataset.\n",
        "pearson_corr = stats.pearsonr(data1, data2)[0]\n",
        "spearman_corr = stats.spearmanr(data1, data2)[0]\n",
        "\n",
        "print(\"Pearson Correlation:\", pearson_corr)\n",
        "print(\"Spearman Correlation:\", spearman_corr)"
      ],
      "metadata": {
        "colab": {
          "base_uri": "https://localhost:8080/"
        },
        "id": "64SxB91Xn7Z5",
        "outputId": "a8ef7955-3ba2-45ce-ddf6-880b5e3dc8fc"
      },
      "execution_count": 48,
      "outputs": [
        {
          "output_type": "stream",
          "name": "stdout",
          "text": [
            "Pearson Correlation: -0.17230510009446304\n",
            "Spearman Correlation: -0.17293729372937292\n"
          ]
        }
      ]
    }
  ]
}