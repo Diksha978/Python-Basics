{
 "cells": [
  {
   "cell_type": "markdown",
   "id": "a78b0b6a",
   "metadata": {},
   "source": [
    "### Calculate mean, median, mode"
   ]
  },
  {
   "cell_type": "code",
   "execution_count": null,
   "id": "2d0fd5db",
   "metadata": {},
   "outputs": [],
   "source": [
    "\n",
    "import numpy as np\n",
    "from scipy import stats\n",
    "\n",
    "data = [10, 15, 20, 20, 25, 30]\n",
    "\n",
    "mean = np.mean(data)\n",
    "median = np.median(data)\n",
    "mode = stats.mode(data, keepdims=True).mode[0]\n",
    "\n",
    "print(\"Mean:\", mean)\n",
    "print(\"Median:\", median)\n",
    "print(\"Mode:\", mode)\n"
   ]
  },
  {
   "cell_type": "markdown",
   "id": "52cd77b7",
   "metadata": {},
   "source": [
    "### Compute variance and standard deviation"
   ]
  },
  {
   "cell_type": "code",
   "execution_count": null,
   "id": "3bbe6587",
   "metadata": {},
   "outputs": [],
   "source": [
    "\n",
    "variance = np.var(data)\n",
    "std_dev = np.std(data)\n",
    "\n",
    "print(\"Variance:\", variance)\n",
    "print(\"Standard Deviation:\", std_dev)\n"
   ]
  },
  {
   "cell_type": "markdown",
   "id": "d50248c7",
   "metadata": {},
   "source": [
    "### Create dataset and classify levels"
   ]
  },
  {
   "cell_type": "code",
   "execution_count": null,
   "id": "cb824d98",
   "metadata": {},
   "outputs": [],
   "source": [
    "\n",
    "dataset = {\n",
    "    'nominal': ['red', 'blue', 'green'],\n",
    "    'ordinal': ['low', 'medium', 'high'],\n",
    "    'interval': [20, 30, 40],\n",
    "    'ratio': [5, 10, 15]\n",
    "}\n",
    "\n",
    "print(dataset)\n"
   ]
  },
  {
   "cell_type": "markdown",
   "id": "613da727",
   "metadata": {},
   "source": [
    "### Implement random and stratified sampling"
   ]
  },
  {
   "cell_type": "code",
   "execution_count": null,
   "id": "ffd1782d",
   "metadata": {},
   "outputs": [],
   "source": [
    "\n",
    "import pandas as pd\n",
    "\n",
    "df = pd.DataFrame({\n",
    "    'id': range(1, 101),\n",
    "    'group': ['A']*50 + ['B']*50\n",
    "})\n",
    "\n",
    "random_sample = df.sample(n=10)\n",
    "\n",
    "stratified_sample = df.groupby('group', group_keys=False).apply(lambda x: x.sample(5))\n",
    "\n",
    "print(\"Random Sample:\\n\", random_sample)\n",
    "print(\"Stratified Sample:\\n\", stratified_sample)\n"
   ]
  },
  {
   "cell_type": "markdown",
   "id": "f2bc5e2d",
   "metadata": {},
   "source": [
    "### Calculate range of dataset"
   ]
  },
  {
   "cell_type": "code",
   "execution_count": null,
   "id": "ef9a4b38",
   "metadata": {},
   "outputs": [],
   "source": [
    "\n",
    "def calculate_range(data):\n",
    "    return max(data) - min(data)\n",
    "\n",
    "print(\"Range:\", calculate_range(data))\n"
   ]
  },
  {
   "cell_type": "markdown",
   "id": "65a71378",
   "metadata": {},
   "source": [
    "### Plot histogram to visualize skewness"
   ]
  },
  {
   "cell_type": "code",
   "execution_count": null,
   "id": "c38718d7",
   "metadata": {},
   "outputs": [],
   "source": [
    "\n",
    "import matplotlib.pyplot as plt\n",
    "\n",
    "plt.hist(data, bins=5)\n",
    "plt.title('Histogram')\n",
    "plt.show()\n"
   ]
  },
  {
   "cell_type": "markdown",
   "id": "f48d760a",
   "metadata": {},
   "source": [
    "### Calculate skewness and kurtosis"
   ]
  },
  {
   "cell_type": "code",
   "execution_count": null,
   "id": "b3b14fb1",
   "metadata": {},
   "outputs": [],
   "source": [
    "\n",
    "skewness = stats.skew(data)\n",
    "kurtosis = stats.kurtosis(data)\n",
    "\n",
    "print(\"Skewness:\", skewness)\n",
    "print(\"Kurtosis:\", kurtosis)\n"
   ]
  },
  {
   "cell_type": "markdown",
   "id": "a40fd36a",
   "metadata": {},
   "source": [
    "### Generate positive and negative skewness"
   ]
  },
  {
   "cell_type": "code",
   "execution_count": null,
   "id": "24416541",
   "metadata": {},
   "outputs": [],
   "source": [
    "\n",
    "import seaborn as sns\n",
    "\n",
    "pos_skew = np.random.exponential(scale=2, size=1000)\n",
    "neg_skew = np.random.beta(a=2, b=5, size=1000)\n",
    "\n",
    "sns.histplot(pos_skew, kde=True)\n",
    "plt.title('Positive Skew')\n",
    "plt.show()\n",
    "\n",
    "sns.histplot(neg_skew, kde=True)\n",
    "plt.title('Negative Skew')\n",
    "plt.show()\n"
   ]
  },
  {
   "cell_type": "markdown",
   "id": "8a00b266",
   "metadata": {},
   "source": [
    "### Calculate covariance between two datasets"
   ]
  },
  {
   "cell_type": "code",
   "execution_count": null,
   "id": "33a84e08",
   "metadata": {},
   "outputs": [],
   "source": [
    "\n",
    "x = np.random.rand(100)\n",
    "y = np.random.rand(100)\n",
    "\n",
    "cov_matrix = np.cov(x, y)\n",
    "covariance = cov_matrix[0, 1]\n",
    "\n",
    "print(\"Covariance:\", covariance)\n"
   ]
  },
  {
   "cell_type": "markdown",
   "id": "be769f5c",
   "metadata": {},
   "source": [
    "### Calculate correlation coefficient"
   ]
  },
  {
   "cell_type": "code",
   "execution_count": null,
   "id": "e8057a1c",
   "metadata": {},
   "outputs": [],
   "source": [
    "\n",
    "correlation = np.corrcoef(x, y)[0, 1]\n",
    "\n",
    "print(\"Correlation Coefficient:\", correlation)\n"
   ]
  },
  {
   "cell_type": "markdown",
   "id": "41948e54",
   "metadata": {},
   "source": [
    "### Scatter plot between two variables"
   ]
  },
  {
   "cell_type": "code",
   "execution_count": null,
   "id": "5954de7e",
   "metadata": {},
   "outputs": [],
   "source": [
    "\n",
    "plt.scatter(x, y)\n",
    "plt.xlabel('X')\n",
    "plt.ylabel('Y')\n",
    "plt.title('Scatter Plot')\n",
    "plt.show()\n"
   ]
  },
  {
   "cell_type": "markdown",
   "id": "e9d23967",
   "metadata": {},
   "source": [
    "### Compare simple random and systematic sampling"
   ]
  },
  {
   "cell_type": "code",
   "execution_count": null,
   "id": "9ad7ae96",
   "metadata": {},
   "outputs": [],
   "source": [
    "\n",
    "simple_random = df.sample(n=10)\n",
    "step = 10\n",
    "systematic = df.iloc[::step, :]\n",
    "\n",
    "print(\"Simple Random:\\n\", simple_random)\n",
    "print(\"Systematic:\\n\", systematic)\n"
   ]
  },
  {
   "cell_type": "markdown",
   "id": "75740e01",
   "metadata": {},
   "source": [
    "### Calculate mean of grouped data"
   ]
  },
  {
   "cell_type": "code",
   "execution_count": null,
   "id": "e7b25568",
   "metadata": {},
   "outputs": [],
   "source": [
    "\n",
    "grouped_data = {\n",
    "    'class': ['0-10', '10-20', '20-30'],\n",
    "    'frequency': [5, 8, 7]\n",
    "}\n",
    "\n",
    "mean_grouped = np.average([5, 15, 25], weights=[5, 8, 7])\n",
    "print(\"Mean of Grouped Data:\", mean_grouped)\n"
   ]
  },
  {
   "cell_type": "markdown",
   "id": "d161bd22",
   "metadata": {},
   "source": [
    "### Simulate data and calculate central tendency + dispersion"
   ]
  },
  {
   "cell_type": "code",
   "execution_count": null,
   "id": "666770ef",
   "metadata": {},
   "outputs": [],
   "source": [
    "\n",
    "sim_data = np.random.normal(loc=50, scale=10, size=100)\n",
    "\n",
    "print(\"Mean:\", np.mean(sim_data))\n",
    "print(\"Median:\", np.median(sim_data))\n",
    "print(\"Std Dev:\", np.std(sim_data))\n",
    "print(\"Variance:\", np.var(sim_data))\n"
   ]
  },
  {
   "cell_type": "markdown",
   "id": "fd938237",
   "metadata": {},
   "source": [
    "### Summarize descriptive statistics"
   ]
  },
  {
   "cell_type": "code",
   "execution_count": null,
   "id": "7ff3d36f",
   "metadata": {},
   "outputs": [],
   "source": [
    "\n",
    "df = pd.DataFrame({'values': sim_data})\n",
    "print(df.describe())\n"
   ]
  },
  {
   "cell_type": "markdown",
   "id": "c69c828f",
   "metadata": {},
   "source": [
    "### Plot boxplot to identify outliers"
   ]
  },
  {
   "cell_type": "code",
   "execution_count": null,
   "id": "0d2ec701",
   "metadata": {},
   "outputs": [],
   "source": [
    "\n",
    "sns.boxplot(x=df['values'])\n",
    "plt.show()\n"
   ]
  },
  {
   "cell_type": "markdown",
   "id": "967f4ae5",
   "metadata": {},
   "source": [
    "### Calculate interquartile range (IQR)"
   ]
  },
  {
   "cell_type": "code",
   "execution_count": null,
   "id": "e1da7dcc",
   "metadata": {},
   "outputs": [],
   "source": [
    "\n",
    "q1 = np.percentile(sim_data, 25)\n",
    "q3 = np.percentile(sim_data, 75)\n",
    "iqr = q3 - q1\n",
    "\n",
    "print(\"IQR:\", iqr)\n"
   ]
  },
  {
   "cell_type": "markdown",
   "id": "e2635130",
   "metadata": {},
   "source": [
    "### Implement Z-score normalization"
   ]
  },
  {
   "cell_type": "code",
   "execution_count": null,
   "id": "5375c41a",
   "metadata": {},
   "outputs": [],
   "source": [
    "\n",
    "z_scores = (sim_data - np.mean(sim_data)) / np.std(sim_data)\n",
    "print(\"First 5 Z-scores:\", z_scores[:5])\n"
   ]
  },
  {
   "cell_type": "markdown",
   "id": "9cd93762",
   "metadata": {},
   "source": [
    "### Compare two datasets using standard deviations"
   ]
  },
  {
   "cell_type": "code",
   "execution_count": null,
   "id": "6c33fbf3",
   "metadata": {},
   "outputs": [],
   "source": [
    "\n",
    "data1 = np.random.normal(0, 1, 100)\n",
    "data2 = np.random.normal(0, 5, 100)\n",
    "\n",
    "print(\"Std Dev Data1:\", np.std(data1))\n",
    "print(\"Std Dev Data2:\", np.std(data2))\n"
   ]
  },
  {
   "cell_type": "markdown",
   "id": "bcc8d66c",
   "metadata": {},
   "source": [
    "### Visualize covariance using heatmap"
   ]
  },
  {
   "cell_type": "code",
   "execution_count": null,
   "id": "e3b67b62",
   "metadata": {},
   "outputs": [],
   "source": [
    "\n",
    "cov_matrix = np.cov(data1, data2)\n",
    "sns.heatmap(cov_matrix, annot=True, fmt=\".2f\")\n",
    "plt.title('Covariance Heatmap')\n",
    "plt.show()\n"
   ]
  },
  {
   "cell_type": "markdown",
   "id": "3c8c123a",
   "metadata": {},
   "source": [
    "### Correlation matrix using seaborn"
   ]
  },
  {
   "cell_type": "code",
   "execution_count": null,
   "id": "92ac0fe3",
   "metadata": {},
   "outputs": [],
   "source": [
    "\n",
    "df_corr = pd.DataFrame({'data1': data1, 'data2': data2})\n",
    "corr_matrix = df_corr.corr()\n",
    "sns.heatmap(corr_matrix, annot=True)\n",
    "plt.title('Correlation Matrix')\n",
    "plt.show()\n"
   ]
  },
  {
   "cell_type": "markdown",
   "id": "7fee6d29",
   "metadata": {},
   "source": [
    "### Visualize skewness and kurtosis"
   ]
  },
  {
   "cell_type": "code",
   "execution_count": null,
   "id": "6ff86fb3",
   "metadata": {},
   "outputs": [],
   "source": [
    "\n",
    "sns.histplot(sim_data, kde=True)\n",
    "plt.title('Histogram with KDE')\n",
    "plt.show()\n",
    "\n",
    "print(\"Skewness:\", stats.skew(sim_data))\n",
    "print(\"Kurtosis:\", stats.kurtosis(sim_data))\n"
   ]
  },
  {
   "cell_type": "markdown",
   "id": "a66bf5e3",
   "metadata": {},
   "source": [
    "### Pearson and Spearman correlation coefficients"
   ]
  },
  {
   "cell_type": "code",
   "execution_count": null,
   "id": "4bc10bfa",
   "metadata": {},
   "outputs": [],
   "source": [
    "\n",
    "pearson_corr = stats.pearsonr(data1, data2)[0]\n",
    "spearman_corr = stats.spearmanr(data1, data2)[0]\n",
    "\n",
    "print(\"Pearson Correlation:\", pearson_corr)\n",
    "print(\"Spearman Correlation:\", spearman_corr)\n"
   ]
  }
 ],
 "metadata": {},
 "nbformat": 4,
 "nbformat_minor": 5
}
