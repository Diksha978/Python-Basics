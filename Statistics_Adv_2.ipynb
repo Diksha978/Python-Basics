{
  "nbformat": 4,
  "nbformat_minor": 0,
  "metadata": {
    "colab": {
      "provenance": []
    },
    "kernelspec": {
      "name": "python3",
      "display_name": "Python 3"
    },
    "language_info": {
      "name": "python"
    }
  },
  "cells": [
    {
      "cell_type": "markdown",
      "source": [
        "1. What is hypothesis testing in statistics?\n",
        "Hypothesis testing is a statistical method used to make decisions about a population based on sample data. It involves making an assumption (hypothesis), collecting data, and then determining whether the data supports the assumption or not. For example, a company may test whether a new product improves customer satisfaction compared to the old one."
      ],
      "metadata": {
        "id": "g4UEtSadRxh9"
      }
    },
    {
      "cell_type": "markdown",
      "source": [
        "2. What is the null hypothesis, and how does it differ from the alternative hypothesis?\n",
        "The null hypothesis (denoted h0) is the default assumption that there is no effect or no difference. The alternative hypothesis (denoted by H1 or Ha) is what you aim to support, suggesting that there is an effect or difference. For instance, testing whether a drug has no effect (null) vs. the drug having a positive effect (alternative).\n",
        "\n"
      ],
      "metadata": {
        "id": "LMGFGducR1AW"
      }
    },
    {
      "cell_type": "markdown",
      "source": [
        "3. What is the significance level in hypothesis testing, and why is it important?\n",
        "The significance level (α) is the probability of rejecting the null hypothesis when it is actually true. Common values are 0.05 or 0.01. It sets the threshold for determining statistical significance, balancing the risk of making a Type 1 error."
      ],
      "metadata": {
        "id": "4x3HgIJ4SFnC"
      }
    },
    {
      "cell_type": "markdown",
      "source": [
        "4. What does a P-value represent in hypothesis testing?\n",
        "A P-value indicates the probability of obtaining a result as extreme as, or more extreme than, the observed result, assuming the null hypothesis is true. It helps determine whether the observed data provides enough evidence to reject the null hypothesis."
      ],
      "metadata": {
        "id": "6B-OCX6USHf6"
      }
    },
    {
      "cell_type": "markdown",
      "source": [
        "5. How do you interpret the P-value in hypothesis testing?\n",
        "If the P-value is less than or equal to the significance level (e.g., 0.05), we reject the null hypothesis. If it's greater, we fail to reject it. For example, a P-value of 0.02 suggests strong evidence against the null hypothesis at the 5% level."
      ],
      "metadata": {
        "id": "furmwYuWSI4q"
      }
    },
    {
      "cell_type": "markdown",
      "source": [
        "6. What are Type 1 and Type 2 errors in hypothesis testing?\n",
        "A Type 1 error occurs when we reject a true null hypothesis (false positive), while a Type 2 error happens when we fail to reject a false null hypothesis (false negative). Managing these errors is essential for reliable conclusions."
      ],
      "metadata": {
        "id": "2pG04B2nSKFM"
      }
    },
    {
      "cell_type": "markdown",
      "source": [
        "7. What is the difference between a one-tailed and a two-tailed test in hypothesis testing?\n",
        "A one-tailed test checks for a difference in a specific direction (e.g., greater than), while a two-tailed test checks for any difference (either greater or less). Two-tailed tests are more conservative and commonly used unless a direction is clearly hypothesized.\n",
        "\n"
      ],
      "metadata": {
        "id": "5HWiawR7SLfD"
      }
    },
    {
      "cell_type": "markdown",
      "source": [
        "8. What is the Z-test, and when is it used in hypothesis testing?\n",
        "A Z-test is used when the population standard deviation is known and the sample size is large (n ≥ 30). It tests whether the sample mean differs significantly from the population mean. For example, comparing exam scores to a national average."
      ],
      "metadata": {
        "id": "Fr96tAkPSMve"
      }
    },
    {
      "cell_type": "markdown",
      "source": [
        "9. How do you calculate the Z-score, and what does it represent in hypothesis testing?\n",
        "The Z-score is calculated using:\n",
        "𝑍\n",
        "=\n",
        "𝑋\n",
        "ˉ\n",
        "−\n",
        "𝜇\n",
        "𝜎\n",
        "/\n",
        "𝑛\n",
        "Z=\n",
        "σ/\n",
        "n\n",
        "​\n",
        "\n",
        "X\n",
        "ˉ\n",
        " −μ\n",
        "​\n",
        "\n",
        "It represents how many standard errors the sample mean is from the population mean. A large absolute Z-score suggests a significant difference."
      ],
      "metadata": {
        "id": "rJ3-U0TISN67"
      }
    },
    {
      "cell_type": "markdown",
      "source": [
        "10. What is the T-distribution, and when should it be used instead of the normal distribution?\n",
        "The T-distribution is used when the sample size is small (n < 30) and the population standard deviation is unknown. It is similar to the normal distribution but has heavier tails, accounting for greater uncertainty in smaller samples."
      ],
      "metadata": {
        "id": "N7wN-dldSSAD"
      }
    },
    {
      "cell_type": "markdown",
      "source": [
        "11. What is the difference between a Z-test and a T-test?\n",
        "The Z-test is used when the population variance is known and the sample size is large, while the T-test is used when the population variance is unknown and the sample size is small. The T-test adjusts for additional uncertainty with the sample standard deviation.\n",
        "\n"
      ],
      "metadata": {
        "id": "espbRGKNSUSq"
      }
    },
    {
      "cell_type": "markdown",
      "source": [
        "12. What is the T-test, and how is it used in hypothesis testing?\n",
        "A T-test evaluates whether the means of one or two samples differ significantly. It is used in comparing treatment effects, testing educational outcomes, or comparing averages of different groups when population variance is unknown.\n",
        "\n"
      ],
      "metadata": {
        "id": "xnh_Bbn2SV_S"
      }
    },
    {
      "cell_type": "markdown",
      "source": [
        "13. What is the relationship between Z-test and T-test in hypothesis testing?\n",
        "Both tests assess whether observed data deviate significantly from what we expect under the null hypothesis. The main difference is the known vs. unknown population standard deviation. As sample size increases, the T-distribution approaches the normal distribution, making both tests converge in their results."
      ],
      "metadata": {
        "id": "GnwnUKhRSZhN"
      }
    },
    {
      "cell_type": "markdown",
      "source": [
        "14. What is a confidence interval, and how is it used to interpret statistical results?\n",
        "A confidence interval provides a range of values within which we expect the true population parameter to lie, with a certain level of confidence (e.g., 95%). If the interval does not contain the hypothesized value (e.g., population mean), it suggests a statistically significant result."
      ],
      "metadata": {
        "id": "D5Vv1tUgSbXz"
      }
    },
    {
      "cell_type": "markdown",
      "source": [
        "15. What is the margin of error, and how does it affect the confidence interval?\n",
        "The margin of error is the range above and below the sample estimate, influenced by the standard deviation and sample size. A larger margin of error leads to a wider confidence interval, indicating more uncertainty in the estimate.\n",
        "\n"
      ],
      "metadata": {
        "id": "m9fwYHOhSciD"
      }
    },
    {
      "cell_type": "markdown",
      "source": [
        "16. How is Bayes' Theorem used in statistics, and what is its significance?\n",
        "Bayes' Theorem updates the probability of a hypothesis based on new evidence. It is essential in Bayesian statistics, spam filtering, medical diagnostics, and machine learning. It allows prior beliefs to be updated as new data becomes available.\n",
        "\n"
      ],
      "metadata": {
        "id": "KRKFd4tqSeRT"
      }
    },
    {
      "cell_type": "markdown",
      "source": [
        "17. What is the Chi-square distribution, and when is it used?\n",
        "The Chi-square distribution is used in tests of independence and goodness-of-fit. It deals with categorical data and helps determine whether observed frequencies differ from expected frequencies. For example, it can test whether gender and voting preference are independent.\n",
        "\n"
      ],
      "metadata": {
        "id": "zAx2dvb5SffS"
      }
    },
    {
      "cell_type": "markdown",
      "source": [
        "18. What is the Chi-square goodness of fit test, and how is it applied?\n",
        "This test checks whether observed categorical data matches an expected distribution. For instance, it can verify if a die is fair by comparing observed roll outcomes to expected uniform probabilities. A large Chi-square statistic indicates poor fit.\n",
        "\n"
      ],
      "metadata": {
        "id": "eBKkPHelSgtT"
      }
    },
    {
      "cell_type": "markdown",
      "source": [
        "19. What is the F-distribution, and when is it used in hypothesis testing?\n",
        "The F-distribution is used to compare variances between two or more groups. It forms the basis of the ANOVA test and is right-skewed. It’s especially helpful when testing multiple groups for differences in means.\n",
        "\n"
      ],
      "metadata": {
        "id": "B2rznO7bSoKL"
      }
    },
    {
      "cell_type": "markdown",
      "source": [
        "20. What is an ANOVA test, and what are its assumptions?\n",
        "ANOVA (Analysis of Variance) is used to test differences in means across three or more groups. Its assumptions include independence of observations, normality of data in each group, and homogeneity of variances. It helps identify whether at least one group mean is different.\n",
        "\n"
      ],
      "metadata": {
        "id": "rxZP_NjFSprD"
      }
    },
    {
      "cell_type": "markdown",
      "source": [
        "21. What are the different types of ANOVA tests?\n",
        "There are mainly three types:\n",
        "\n",
        "One-way ANOVA: tests one independent variable with multiple levels.\n",
        "\n",
        "Two-way ANOVA: tests two independent variables.\n",
        "\n",
        "Repeated Measures ANOVA: used when the same subjects are measured multiple times.\n",
        "\n"
      ],
      "metadata": {
        "id": "zHqyI_H_SrCX"
      }
    },
    {
      "cell_type": "markdown",
      "source": [
        "22. What is the F-test, and how does it relate to hypothesis testing?\n",
        "The F-test compares the variances of two populations to test if they are significantly different. It’s also used in ANOVA to evaluate whether group means differ by analyzing the variance between and within groups.\n",
        "\n"
      ],
      "metadata": {
        "id": "IieQcMvrSs9b"
      }
    },
    {
      "cell_type": "code",
      "source": [
        "#Write a Python program to generate a random variable and display its value\n",
        "\n",
        "import numpy as np\n",
        "\n",
        "# Generate a random variable (value between 0 and 1)\n",
        "random_variable = np.random.rand()\n",
        "\n",
        "# Display the value\n",
        "print(\"Generated Random Variable:\", random_variable)"
      ],
      "metadata": {
        "colab": {
          "base_uri": "https://localhost:8080/"
        },
        "id": "o6fsjar4TG4b",
        "outputId": "e821a692-bee2-4d7a-98b1-9cb3f7e8ab70"
      },
      "execution_count": 1,
      "outputs": [
        {
          "output_type": "stream",
          "name": "stdout",
          "text": [
            "Generated Random Variable: 0.5704620510028477\n"
          ]
        }
      ]
    },
    {
      "cell_type": "code",
      "source": [
        "#Generate a discrete uniform distribution using Python and plot the probability mass function (PMF)\n",
        "#Generate a discrete uniform distribution using Python and plot the probability mass function (PMF)\n",
        "import numpy as np\n",
        "import matplotlib.pyplot as plt\n",
        "samples = np.random.randint(1, 7, size=1000)\n",
        "values, counts = np.unique(samples, return_counts=True)\n",
        "pmf = counts / counts.sum()\n",
        "plt.figure(figsize=(6, 4))\n",
        "plt.bar(values, pmf, color='skyblue', edgecolor='black')\n",
        "plt.title(\"Discrete Uniform Distribution - PMF\")\n",
        "plt.xlabel(\"Value\")\n",
        "plt.ylabel(\"Probability\")\n",
        "plt.xticks(values)\n",
        "plt.grid(True, axis='y', linestyle='--', alpha=0.7)\n",
        "plt.tight_layout()\n",
        "plt.show()\n",
        "plt.bar(values, pmf, color='skyblue', edgecolor='black')\n",
        "plt.title(\"Discrete Uniform Distribution - PMF\")\n",
        "plt.xlabel(\"Value\")\n",
        "plt.ylabel(\"Probability\")\n",
        "plt.xticks(values)\n",
        "plt.grid(True, axis='y', linestyle='--', alpha=0.7)\n",
        "plt.tight_layout()\n",
        "plt.show()"
      ],
      "metadata": {
        "collapsed": true,
        "id": "pT8_L_nWTLeq"
      },
      "execution_count": null,
      "outputs": []
    },
    {
      "cell_type": "code",
      "source": [
        "#Write a Python function to calculate the probability distribution function (PDF) of a Bernoulli distribution\n",
        "from scipy.stats import bernoulli\n",
        "\n",
        "def bernoulli_pdf(p, x):\n",
        "    \"\"\"\n",
        "    Calculate the PDF of a Bernoulli distribution.\n",
        "\n",
        "    Parameters:\n",
        "    p (float): Probability of success (0 <= p <= 1)\n",
        "    x (int): Outcome (0 or 1)\n",
        "\n",
        "    Returns:\n",
        "    float: Probability of x occurring\n",
        "    \"\"\"\n",
        "    if x not in [0, 1]:\n",
        "        raise ValueError(\"x must be 0 or 1 for a Bernoulli distribution.\")\n",
        "\n",
        "    return bernoulli.pmf(x, p)\n",
        "\n",
        "p = 0.6\n",
        "print(\"P(X=0):\", bernoulli_pdf(p, 0))\n",
        "print(\"P(X=1):\", bernoulli_pdf(p, 1))"
      ],
      "metadata": {
        "colab": {
          "base_uri": "https://localhost:8080/"
        },
        "id": "Yn5a7KbuTiUf",
        "outputId": "3b2525d8-8112-4a36-b40d-303002e052ba"
      },
      "execution_count": 4,
      "outputs": [
        {
          "output_type": "stream",
          "name": "stdout",
          "text": [
            "P(X=0): 0.4000000000000001\n",
            "P(X=1): 0.6\n"
          ]
        }
      ]
    },
    {
      "cell_type": "code",
      "source": [
        " #Write a Python script to simulate a binomial distribution with n=10 and p=0.5, then plot its histogram?\n",
        " import numpy as np\n",
        "import matplotlib.pyplot as plt\n",
        "from scipy.stats import binom\n",
        "n = 10       # Number of trials\n",
        "p = 0.5      # Probability of success\n",
        "size = 1000  # Number of simulations\n",
        "data = binom.rvs(n=n, p=p, size=size)\n",
        "plt.figure(figsize=(6, 4))\n",
        "plt.hist(data, bins=np.arange(0, n+2)-0.5, edgecolor='black', density=True, color='lightgreen')\n",
        "plt.title(f\"Binomial Distribution Histogram (n={n}, p={p})\")\n",
        "plt.xlabel(\"Number of Successes\")\n",
        "plt.ylabel(\"Probability\")\n",
        "plt.xticks(range(n+1))\n",
        "plt.grid(axis='y', linestyle='--', alpha=0.7)\n",
        "plt.tight_layout()\n",
        "plt.show()"
      ],
      "metadata": {
        "id": "E57RllaSTyZz"
      },
      "execution_count": null,
      "outputs": []
    },
    {
      "cell_type": "code",
      "source": [
        "#Create a Poisson distribution and visualize it using Python.\n",
        "import numpy as np\n",
        "import matplotlib.pyplot as plt\n",
        "from scipy.stats import poisson\n",
        "mu = 5  # Mean of the Poisson distribution\n",
        "data = poisson.rvs(mu=mu, size=1000)\n",
        "plt.figure(figsize=(6, 4))\n",
        "plt.hist(data, bins=range(0, max(data)+2), edgecolor='black', density=True, color='skyblue', align='left')\n",
        "plt.title(f\"Poisson Distribution (mu={mu})\")\n",
        "plt.xlabel(\"Number of Events\")\n",
        "plt.ylabel(\"Probability\")\n",
        "plt.xticks(range(0, max(data)+1))\n",
        "plt.grid(axis='y', linestyle='--', alpha=0.7)\n",
        "plt.tight_layout()\n",
        "plt.show()\n"
      ],
      "metadata": {
        "id": "Eakb0f-FUFXM"
      },
      "execution_count": null,
      "outputs": []
    },
    {
      "cell_type": "code",
      "source": [
        "'''Write a Python program to calculate and plot the cumulative distribution function (CDF) of a discrete\n",
        "uniform distribution'''\n",
        "import numpy as np\n",
        "import matplotlib.pyplot as plt\n",
        "values = np.arange(1, 7)\n",
        "probabilities = np.ones(len(values)) / len(values)\n",
        "cdf = np.cumsum(probabilities)\n",
        "plt.figure(figsize=(6, 4))\n",
        "plt.step(values, cdf, where='mid', color='purple', linewidth=2)\n",
        "plt.scatter(values, cdf, color='red')  # Mark points\n",
        "plt.title(\"CDF of Discrete Uniform Distribution (1 to 6)\")\n",
        "plt.xlabel(\"Value\")\n",
        "plt.ylabel(\"Cumulative Probability\")\n",
        "plt.xticks(values)\n",
        "plt.ylim(0, 1.05)\n",
        "plt.grid(True, linestyle='--', alpha=0.7)\n",
        "plt.tight_layout()\n",
        "plt.show()\n"
      ],
      "metadata": {
        "id": "eBJj8hc1UrDv"
      },
      "execution_count": null,
      "outputs": []
    },
    {
      "cell_type": "code",
      "source": [
        "#Generate a continuous uniform distribution using NumPy and visualize it.\n",
        "import numpy as np\n",
        "import matplotlib.pyplot as plt\n",
        "data = np.random.uniform(low=0.0, high=1.0, size=1000)\n",
        "plt.figure(figsize=(6, 4))\n",
        "plt.hist(data, bins=30, density=True, color='skyblue', edgecolor='black')\n",
        "plt.title(\"Continuous Uniform Distribution (0 to 1)\")\n",
        "plt.xlabel(\"Value\")\n",
        "plt.ylabel(\"Density\")\n",
        "plt.grid(axis='y', linestyle='--', alpha=0.7)\n",
        "plt.tight_layout()\n",
        "plt.show()"
      ],
      "metadata": {
        "id": "DDFysni-U9aL"
      },
      "execution_count": null,
      "outputs": []
    },
    {
      "cell_type": "code",
      "source": [
        "#Simulate data from a normal distribution and plot its histogram\n",
        "import numpy as np\n",
        "import matplotlib.pyplot as plt\n",
        "data = np.random.normal(loc=0.0, scale=1.0, size=1000)\n",
        "plt.figure(figsize=(6, 4))\n",
        "plt\n",
        "plt.figure(figsize=(6, 4))\n",
        "plt.hist(data, bins=30, density=True, color='lightcoral', edgecolor='black')\n",
        "plt.title(\"Histogram of Normal Distribution (mean=0, std=1)\")\n",
        "plt.xlabel(\"Value\")\n",
        "plt.ylabel(\"Density\")\n",
        "plt.grid(axis='y', linestyle='--', alpha=0.7)\n",
        "plt.tight_layout()\n",
        "plt.show()"
      ],
      "metadata": {
        "id": "bsQNJRAvVKEA"
      },
      "execution_count": null,
      "outputs": []
    },
    {
      "cell_type": "code",
      "source": [
        "#Write a Python function to calculate Z-scores from a dataset and plot them\n",
        "import numpy as np\n",
        "import matplotlib.pyplot as plt\n",
        "def calculate_z_scores(data):\n",
        "    mean = np.mean(data)\n",
        "    std = np.std(data)\n",
        "    z_scores = (data - mean) / std\n",
        "    return z_scores\n",
        "    plt.figure(figsize=(8, 4))\n",
        "    plt.stem(range(len(data)), z_scores, use_line_collection=True)\n",
        "    plt.title(\"Z-scores of the Dataset\")\n",
        "    plt.xlabel(\"Data Index\")\n",
        "    plt.ylabel(\"Z-score\")\n",
        "    plt.grid(True, linestyle='--', alpha=0.7)\n",
        "    plt.tight_layout()\n",
        "    plt.show()\n",
        "\n",
        "    return z_scores\n",
        "    sample_data = np.random.normal(loc=50, scale=10, size=30)\n",
        "    zs = calculate_z_scores(sample_data)\n",
        "    print(\"Z-scores:\", zs)"
      ],
      "metadata": {
        "id": "n2zOc3oUVX5P"
      },
      "execution_count": 22,
      "outputs": []
    },
    {
      "cell_type": "code",
      "source": [
        " #Implement the Central Limit Theorem (CLT) using Python for a non-normal distribution.\n",
        " import numpy as np\n",
        "import matplotlib.pyplot as plt\n",
        "import seaborn as sns\n",
        "from scipy.stats import norm\n",
        "sns.set(style=\"whitegrid\")\n",
        "population_size = 100000\n",
        "sample_sizes = [5, 30, 50, 100]  # Different sample sizes\n",
        "num_samples = 1000  # Number of samples to draw for each sample size\n",
        "population = np.random.exponential(scale=1.0, size=population_size)\n",
        "\n",
        "plt.figure(figsize=(12, 8))\n",
        "plt.subplot(2, 3, 1)\n",
        "sns.histplot(population, bins=50, kde=True, color='skyblue')\n",
        "plt.title(\"Population Distribution (Exponential)\")\n",
        "plt.xlabel(\"Value\")\n",
        "for i, n in enumerate(sample_sizes, start=2):\n",
        "    sample_means = [np.mean(np.random.choice(population, n, replace=False)) for _ in range(num_samples)]\n",
        "\n",
        "    plt.subplot(2, 3, i)\n",
        "    sns.histplot(sample_means, bins=30, kde=True, color='lightgreen')\n",
        "    mu = np.mean(sample_means)\n",
        "    sigma = np.std(sample_means)\n",
        "    x = np.linspace(min(sample_means), max(sample_means), 100)\n",
        "    plt.plot(x, norm.pdf(x, mu, sigma)*num_samples*(x[1]-x[0]), 'r--', label='Normal PDF')\n",
        "\n",
        "    plt.title(f\"Sample Means Distribution (n={n})\")\n",
        "    plt.xlabel(\"Sample Mean\")\n",
        "    plt.legend()\n",
        "\n",
        "plt.tight_layout()\n",
        "plt.show()"
      ],
      "metadata": {
        "id": "9BfhyIbzVz45"
      },
      "execution_count": null,
      "outputs": []
    },
    {
      "cell_type": "code",
      "source": [
        "#Simulate multiple samples from a normal distribution and verify the Central Limit Theorem.\n",
        "import numpy as np\n",
        "import matplotlib.pyplot as plt\n",
        "import seaborn as sns\n",
        "from scipy.stats import norm\n",
        "sns.set(style=\"whitegrid\")\n",
        "population_mean = 50\n",
        "population_std = 10\n",
        "population_size = 100000\n",
        "sample_size = 30\n",
        "num_samples = 1000\n",
        "population = np.random.normal(loc=population_mean, scale=population_std, size=population_size)\n",
        "sample_means = [np.mean(np.random.choice(population, sample_size, replace=False)) for _ in range(num_samples)]\n",
        "plt.figure(figsize=(12, 5))\n",
        "\n",
        "plt.subplot(1, 2, 1)\n",
        "sns.histplot(population, bins=50, kde=True, color='skyblue')\n",
        "plt.title(\"Population Distribution (Normal)\")\n",
        "plt.xlabel(\"Value\")\n",
        "plt.ylabel(\"Density\")\n",
        "\n",
        "# Plot histogram of sample means\n",
        "plt.subplot(1, 2, 2)\n",
        "sns.histplot(sample_means, bins=30, kde=True, color='lightgreen')\n",
        "plt.title(f\"Distribution of Sample Means (n={sample_size})\")\n",
        "plt.xlabel(\"Sample Mean\")\n",
        "plt.ylabel(\"Density\")\n",
        "\n",
        "plt.tight_layout()\n",
        "plt.show()"
      ],
      "metadata": {
        "id": "mAcMk_iGWbZk"
      },
      "execution_count": null,
      "outputs": []
    },
    {
      "cell_type": "code",
      "source": [
        "#Write a Python function to calculate and plot the standard normal distribution (mean = 0, std = 1).\n",
        "#Write a Python function to calculate and plot the standard normal distribution (mean = 0, std = 1).\n",
        "import numpy as np\n",
        "import matplotlib.pyplot as plt\n",
        "from scipy.stats import norm\n",
        "\n",
        "def plot_standard_normal():\n",
        "  x = np.linspace(-4, 4, 1000)\n",
        "  pdf = norm.pdf(x, loc=0, scale=1)\n",
        "  plt.figure(figsize=(8, 4))\n",
        "  # Correctly indent the plotting code to be inside the function\n",
        "  plt.plot(x, pdf, color='blue', lw=2)\n",
        "  plt.title(\"Standard Normal Distribution (mean=0, std=1)\")\n",
        "  plt.xlabel(\"x\")\n",
        "  plt.ylabel(\"Probability Density\")\n",
        "  plt.grid(True, linestyle='--', alpha=0.7)\n",
        "  plt.tight_layout()\n",
        "  plt.show()\n",
        "\n",
        "# Call the function to execute the plotting\n",
        "plot_standard_normal()"
      ],
      "metadata": {
        "id": "PTBtTBBDW7Gk"
      },
      "execution_count": null,
      "outputs": []
    },
    {
      "cell_type": "code",
      "source": [
        "#Generate random variables and calculate their corresponding probabilities using the binomial distribution\n",
        "import numpy as np\n",
        "from scipy.stats import binom\n",
        "import matplotlib.pyplot as plt\n",
        "\n",
        "# Parameters\n",
        "n = 10      # number of trials\n",
        "p = 0.5     # probability of success\n",
        "size = 10   # number of random variables to generate\n",
        "\n",
        "# Generate random variables from a binomial distribution\n",
        "random_vars = binom.rvs(n=n, p=p, size=size)\n",
        "print(\"Random Binomial Variables:\", random_vars)\n",
        "probabilities = [binom.pmf(k, n=n, p=p) for k in random_vars]\n",
        "\n",
        "# Display each variable and its probability\n",
        "for val, prob in zip(random_vars, probabilities):\n",
        "    print(f\"P(X={val}) = {prob:.4f}\")\n",
        "\n",
        "# Plot the PMF for reference\n",
        "x = np.arange(0, n+1)\n",
        "pmf_vals = binom.pmf(x, n=n, p=p)\n",
        "\n",
        "plt.figure(figsize=(6, 4))\n",
        "plt.bar(x, pmf_vals, color='skyblue', edgecolor='black')\n",
        "plt.title(\"Binomial Distribution PMF (n=10, p=0.5)\")\n",
        "plt.xlabel(\"Number of Successes (k)\")\n",
        "plt.ylabel(\"P(X=k)\")\n",
        "plt.grid(axis='y', linestyle='--', alpha=0.7)\n",
        "plt.tight_layout()\n",
        "plt.show()"
      ],
      "metadata": {
        "id": "_hSSi33RXouE"
      },
      "execution_count": null,
      "outputs": []
    },
    {
      "cell_type": "code",
      "source": [
        "'''Write a Python program to calculate the Z-score for a given data point and compare it to a standard normal\n",
        "distribution'''\n",
        "'''Write a Python program to calculate the Z-score for a given data point and compare it to a standard normal\n",
        "distribution'''\n",
        "import numpy as np\n",
        "import matplotlib.pyplot as plt\n",
        "from scipy.stats import norm\n",
        "\n",
        "def calculate_z_score(x, mean, std):\n",
        "    z = (x - mean) / std\n",
        "    return z\n",
        "\n",
        "# These lines were incorrectly indented\n",
        "x = 72        # data point\n",
        "mean = 70     # population mean\n",
        "std = 5       # population standard deviation\n",
        "\n",
        "z_score = calculate_z_score(x, mean, std)\n",
        "print(f\"Z-score for x = {x}: {z_score:.2f}\")\n",
        "\n",
        "x_vals = np.linspace(-4, 4, 1000)\n",
        "pdf_vals = norm.pdf(x_vals, loc=0, scale=1)\n",
        "\n",
        "plt.figure(figsize=(8, 4))\n",
        "plt.plot(x_vals, pdf_vals, label=\"Standard Normal PDF\", color=\"blue\")\n",
        "plt.axvline(z_score, color=\"red\", linestyle=\"--\", label=f\"Z = {z_score:.2f}\")\n",
        "plt.fill_between(x_vals, 0, pdf_vals, where=(x_vals <= z_score), color='skyblue', alpha=0.5)\n",
        "plt.title(\"Z-score Comparison with Standard Normal Distribution\")\n",
        "plt.xlabel(\"Z-score\")\n",
        "plt.ylabel(\"Probability Density\")\n",
        "plt.legend()\n",
        "plt.grid(True, linestyle='--', alpha=0.6)\n",
        "plt.tight_layout()\n",
        "plt.show()\n"
      ],
      "metadata": {
        "id": "B4P8V0L9X0KN"
      },
      "execution_count": null,
      "outputs": []
    },
    {
      "cell_type": "code",
      "source": [
        " #Implement hypothesis testing using Z-statistics for a sample datase\n",
        " import numpy as np\n",
        "from scipy.stats import norm\n",
        "sample_data = np.array([78, 74, 77, 72, 76, 80, 79, 73, 75, 77])\n",
        "population_mean = 75\n",
        "sample_mean = np.mean(sample_data)\n",
        "sample_std = np.std(sample_data, ddof=1)  # use ddof=1 for sample std\n",
        "n = len(sample_data)\n",
        "std_error = sample_std / np.sqrt(n)\n",
        "z_stat = (sample_mean - population_mean) / std_error\n",
        "p_value = 2 * (1 - norm.cdf(abs(z_stat)))\n",
        "alpha = 0.05\n",
        "print(f\"Sample Mean: {sample_mean:.2f}\")\n",
        "print(f\"Z-statistic: {z_stat:.2f}\")\n",
        "print(f\"P-value: {p_value:.4f}\")\n",
        "if p_value < alpha:\n",
        "    print(\"Reject the null hypothesis: Sample mean is significantly different from population mean.\")\n",
        "else:\n",
        "    print(\"Fail to reject the null hypothesis: No significant difference found.\")"
      ],
      "metadata": {
        "colab": {
          "base_uri": "https://localhost:8080/"
        },
        "id": "ra1ltg4kZJlK",
        "outputId": "67a8b85d-c9e7-45bc-a81f-1971caba9aeb"
      },
      "execution_count": 35,
      "outputs": [
        {
          "output_type": "stream",
          "name": "stdout",
          "text": [
            "Sample Mean: 76.10\n",
            "Z-statistic: 1.34\n",
            "P-value: 0.1811\n",
            "Fail to reject the null hypothesis: No significant difference found.\n"
          ]
        }
      ]
    },
    {
      "cell_type": "code",
      "source": [
        "#Create a confidence interval for a dataset using Python and interpret the result.\n",
        "import numpy as np\n",
        "from scipy.stats import norm\n",
        "\n",
        "# Sample dataset (e.g., test scores)\n",
        "data = np.array([68, 72, 75, 70, 69, 74, 73, 71, 76, 77])\n",
        "\n",
        "# Sample statistics\n",
        "sample_mean = np.mean(data)\n",
        "sample_std = np.std(data, ddof=1)\n",
        "n = len(data)\n",
        "\n",
        "# Confidence level\n",
        "confidence = 0.95\n",
        "z_critical = norm.ppf((1 + confidence) / 2)\n",
        "\n",
        "# Standard error\n",
        "standard_error = sample_std / np.sqrt(n)\n",
        "\n",
        "# Margin of error\n",
        "margin_of_error = z_critical * standard_error\n",
        "\n",
        "# Confidence interval\n",
        "lower_bound = sample_mean - margin_of_error\n",
        "upper_bound = sample_mean + margin_of_error\n",
        "\n",
        "# Output\n",
        "print(f\"Sample Mean: {sample_mean:.2f}\")\n",
        "print(f\"95% Confidence Interval: ({lower_bound:.2f}, {upper_bound:.2f})\")\n"
      ],
      "metadata": {
        "colab": {
          "base_uri": "https://localhost:8080/"
        },
        "id": "IR6lkhQPZkep",
        "outputId": "b0814814-c97c-40f3-f4bf-0fc38c8359ed"
      },
      "execution_count": 36,
      "outputs": [
        {
          "output_type": "stream",
          "name": "stdout",
          "text": [
            "Sample Mean: 72.50\n",
            "95% Confidence Interval: (70.62, 74.38)\n"
          ]
        }
      ]
    },
    {
      "cell_type": "code",
      "source": [
        "#Generate data from a normal distribution, then calculate and interpret the confidence interval for its mean\n",
        "\n",
        "\n",
        "import numpy as np\n",
        "from scipy.stats import norm\n",
        "\n",
        "# Step 1: Generate data from a normal distribution\n",
        "mean = 100       # population mean\n",
        "std_dev = 15     # population standard deviation\n",
        "sample_size = 50 # sample size\n",
        "\n",
        "# Simulated sample\n",
        "data = np.random.normal(loc=mean, scale=std_dev, size=sample_size)\n",
        "\n",
        "# Step 2: Calculate confidence interval for the sample mean\n",
        "sample_mean = np.mean(data)\n",
        "sample_std = np.std(data, ddof=1)\n",
        "standard_error = sample_std / np.sqrt(sample_size)\n",
        "\n",
        "# 95% confidence level\n",
        "z_critical = norm.ppf(0.975)  # two-tailed for 95%\n",
        "margin_of_error = z_critical * standard_error\n",
        "\n",
        "lower_bound = sample_mean - margin_of_error\n",
        "upper_bound = sample_mean + margin_of_error\n",
        "\n",
        "# Step 3: Output and interpretation\n",
        "print(f\"Sample Mean: {sample_mean:.2f}\")\n",
        "print(f\"95% Confidence Interval: ({lower_bound:.2f}, {upper_bound:.2f})\")\n",
        "\n",
        "# Interpretation\n",
        "print(\"\\nInterpretation:\")\n",
        "print(\"We are 95% confident that the true population mean lies within this interval.\")\n"
      ],
      "metadata": {
        "colab": {
          "base_uri": "https://localhost:8080/"
        },
        "id": "pwQ4CJwgZxEh",
        "outputId": "8011faaf-230a-4dff-e40d-604864576864"
      },
      "execution_count": 37,
      "outputs": [
        {
          "output_type": "stream",
          "name": "stdout",
          "text": [
            "Sample Mean: 103.11\n",
            "95% Confidence Interval: (98.96, 107.25)\n",
            "\n",
            "Interpretation:\n",
            "We are 95% confident that the true population mean lies within this interval.\n"
          ]
        }
      ]
    },
    {
      "cell_type": "code",
      "source": [
        "#Write a Python script to calculate and visualize the probability density function (PDF) of a normal distribution.\n",
        "import numpy as np\n",
        "import matplotlib.pyplot as plt\n",
        "from scipy.stats import norm\n",
        "\n",
        "# Parameters for the normal distribution\n",
        "mean = 0\n",
        "std_dev = 1\n",
        "\n",
        "# Generate x values over a range\n",
        "x = np.linspace(mean - 4*std_dev, mean + 4*std_dev, 1000)\n",
        "\n",
        "# Calculate PDF values\n",
        "pdf_values = norm.pdf(x, loc=mean, scale=std_dev)\n",
        "\n",
        "# Plot the PDF\n",
        "plt.figure(figsize=(8, 4))\n",
        "plt.plot(x, pdf_values, color='blue', linewidth=2)\n",
        "plt.title(\"Probability Density Function (PDF) of a Normal Distribution\")\n",
        "plt.xlabel(\"x\")\n",
        "plt.ylabel(\"Density\")\n",
        "plt.grid(True, linestyle='--', alpha=0.7)\n",
        "plt.tight_layout()\n",
        "plt.show()\n"
      ],
      "metadata": {
        "id": "LGJ4NjlraAK4"
      },
      "execution_count": null,
      "outputs": []
    },
    {
      "cell_type": "code",
      "source": [
        " #Use Python to calculate and interpret the cumulative distribution function (CDF) of a Poisson distribution.\n",
        " import numpy as np\n",
        "import matplotlib.pyplot as plt\n",
        "from scipy.stats import poisson\n",
        "\n",
        "# Parameters for the Poisson distribution\n",
        "mu = 4  # average number of events\n",
        "\n",
        "# Range of x values (number of events)\n",
        "x = np.arange(0, 15)\n",
        "\n",
        "# Calculate the CDF for each x\n",
        "cdf_values = poisson.cdf(x, mu)\n",
        "\n",
        "# Display the CDF values\n",
        "for xi, cdf in zip(x, cdf_values):\n",
        "    print(f\"P(X ≤ {xi}) = {cdf:.4f}\")\n",
        "\n",
        "# Plot the CDF\n",
        "plt.figure(figsize=(8, 4))\n",
        "plt.step(x, cdf_values, where='mid', color='purple', linewidth=2)\n",
        "plt.scatter(x, cdf_values, color='red')\n",
        "plt.title(\"CDF of Poisson Distribution (μ = 4)\")\n",
        "plt.xlabel(\"Number of Events (X)\")\n",
        "plt.ylabel(\"P(X ≤ x)\")\n",
        "plt.grid(True, linestyle='--', alpha=0.7)\n",
        "plt.tight_layout()\n",
        "plt.show()\n"
      ],
      "metadata": {
        "id": "ErbnZL2AaPlA"
      },
      "execution_count": null,
      "outputs": []
    },
    {
      "cell_type": "code",
      "source": [
        " #Simulate a random variable using a continuous uniform distribution and calculate its expected value\n",
        " import numpy as np\n",
        "# Define the range for the continuous uniform distribution\n",
        "a = 10  # lower bound\n",
        "b = 20  # upper bound\n",
        "size = 10000  # number of samples\n",
        "\n",
        "# Simulate random variable from continuous uniform distribution\n",
        "samples = np.random.uniform(low=a, high=b, size=size)\n",
        "\n",
        "# Calculate the expected value (theoretical)\n",
        "expected_value_theoretical = (a + b) / 2\n",
        "\n",
        "# Calculate the expected value (empirical mean from samples)\n",
        "expected_value_empirical = np.mean(samples)\n",
        "\n",
        "# Display results\n",
        "print(f\"Theoretical Expected Value: {expected_value_theoretical}\")\n",
        "print(f\"Empirical Expected Value (from simulation): {expected_value_empirical:.4f}\")\n"
      ],
      "metadata": {
        "colab": {
          "base_uri": "https://localhost:8080/"
        },
        "id": "2LItdtEyaYVm",
        "outputId": "302e2b85-3481-45bc-d8b2-93f4f895c658"
      },
      "execution_count": 38,
      "outputs": [
        {
          "output_type": "stream",
          "name": "stdout",
          "text": [
            "Theoretical Expected Value: 15.0\n",
            "Empirical Expected Value (from simulation): 15.0577\n"
          ]
        }
      ]
    },
    {
      "cell_type": "code",
      "source": [
        "#Write a Python program to compare the standard deviations of two datasets and visualize the difference\n",
        "import numpy as np\n",
        "import matplotlib.pyplot as plt\n",
        "data1 = np.random.normal(loc=50, scale=10, size=1000)\n",
        "#Write a Python program to compare the standard deviations of two datasets and visualize the difference\n",
        "import numpy as np\n",
        "import matplotlib.pyplot as plt\n",
        "data1 = np.random.normal(loc=50, scale=10, size=1000)\n",
        "data2 = np.random.normal(loc=50, scale=15, size=1000)\n",
        "std1 = np.std(data1, ddof=1)\n",
        "std2 = np.std(data2, ddof=1)\n",
        "print(f\"Standard Deviation of Dataset 1: {std1:.2f}\")\n",
        "print(f\"Standard Deviation of Dataset 2: {std2:.2f}\")\n",
        "plt.figure(figsize=(8, 5))\n",
        "plt.hist(data1, bins=30, alpha=0.6, label=f'Dataset 1 (std={std1:.2f})', color='skyblue', edgecolor='black')\n",
        "plt.hist(data2, bins=30, alpha=0.6, label=f'Dataset 2 (std={std2:.2f})', color='salmon', edgecolor='black')\n",
        "plt.title(\"Comparison of Standard Deviations Between Two Datasets\")\n",
        "plt.xlabel(\"Value\")\n",
        "plt.ylabel(\"Frequency\")\n",
        "plt.legend()\n",
        "plt.grid(True, linestyle='--', alpha=0.6)\n",
        "plt.tight_layout()\n",
        "plt.show()\n",
        "plt.hist(data1, bins=30, alpha=0.6, label=f'Dataset 1 (std={std1:.2f})', color='skyblue', edgecolor='black')\n",
        "plt.hist(data2, bins=30, alpha=0.6, label=f'Dataset 2 (std={std2:.2f})', color='salmon', edgecolor='black')\n",
        "plt.title(\"Comparison of Standard Deviations Between Two Datasets\")\n",
        "plt.xlabel(\"Value\")\n",
        "plt.ylabel(\"Frequency\")\n",
        "plt.legend()\n",
        "plt.grid(True, linestyle='--', alpha=0.6)\n",
        "plt.tight_layout()\n",
        "plt.show()"
      ],
      "metadata": {
        "id": "_mq4InBEagjk"
      },
      "execution_count": null,
      "outputs": []
    },
    {
      "cell_type": "code",
      "source": [
        "#Calculate the range and interquartile range (IQR) of a dataset generated from a normal distribution\n",
        "import numpy as np\n",
        "\n",
        "# Generate dataset from a normal distribution\n",
        "data = np.random.normal(loc=100, scale=15, size=1000)\n",
        "\n",
        "# Calculate range\n",
        "data_range = np.max(data) - np.min(data)\n",
        "\n",
        "# Calculate IQR (Interquartile Range)\n",
        "q1 = np.percentile(data, 25)\n",
        "q3 = np.percentile(data, 75)\n",
        "iqr = q3 - q1\n",
        "\n",
        "# Output results\n",
        "print(f\"Range: {data_range:.2f}\")\n",
        "print(f\"Interquartile Range (IQR): {iqr:.2f}\")\n"
      ],
      "metadata": {
        "id": "n4INtaUObBry"
      },
      "execution_count": null,
      "outputs": []
    },
    {
      "cell_type": "code",
      "source": [
        "#Implement Z-score normalization on a dataset and visualize its transformation.\n",
        "import numpy as np\n",
        "import matplotlib.pyplot as plt\n",
        "from scipy.stats import zscore\n",
        "\n",
        "# Generate sample data (normal distribution, mean=50, std=15)\n",
        "data = np.random.normal(loc=50, scale=15, size=500)\n",
        "\n",
        "# Perform Z-score normalization\n",
        "data_normalized = zscore(data)\n",
        "\n",
        "# Plot before and after normalization\n",
        "plt.figure(figsize=(12, 5))\n",
        "\n",
        "plt.subplot(1, 2, 1)\n",
        "plt.hist(data, bins=30, color='lightcoral', edgecolor='black')\n",
        "plt.title(\"Original Data Distribution\")\n",
        "plt.xlabel(\"Value\")\n",
        "plt.ylabel(\"Frequency\")\n",
        "\n",
        "plt.subplot(1, 2, 2)\n",
        "plt.hist(data_normalized, bins=30, color='skyblue', edgecolor='black')\n",
        "plt.title(\"Z-score Normalized Data Distribution\")\n",
        "plt.xlabel(\"Z-score\")\n",
        "plt.ylabel(\"Frequency\")\n",
        "\n",
        "plt.tight_layout()\n",
        "plt.show()\n"
      ],
      "metadata": {
        "id": "kB15edVXbLRP"
      },
      "execution_count": null,
      "outputs": []
    },
    {
      "cell_type": "code",
      "source": [
        "'''Write a Python function to calculate the skewness and kurtosis of a dataset generated from a normal\n",
        "distribution.'''\n",
        "import numpy as np\n",
        "from scipy.stats import skew, kurtosis\n",
        "\n",
        "def calculate_skewness_kurtosis(data):\n",
        "    \"\"\"\n",
        "    Calculate and return skewness and kurtosis of the dataset.\n",
        "\n",
        "    Parameters:\n",
        "    data (array-like): Dataset to analyze\n",
        "\n",
        "    Returns:\n",
        "    tuple: (skewness, kurtosis)\n",
        "    \"\"\"\n",
        "    skewness = skew(data)\n",
        "    kurt = kurtosis(data)  # Excess kurtosis (normal dist = 0)\n",
        "\n",
        "    return skewness, kurt\n",
        "\n",
        "# Generate sample data from a normal distribution\n",
        "np.random.seed(42)\n",
        "sample_data = np.random.normal(loc=0, scale=1, size=1000)\n",
        "\n",
        "# Calculate skewness and kurtosis\n",
        "skewness_value, kurtosis_value = calculate_skewness_kurtosis(sample_data)\n",
        "\n",
        "print(f\"Skewness: {skewness_value:.4f}\")\n",
        "print(f\"Kurtosis (excess): {kurtosis_value:.4f}\")\n"
      ],
      "metadata": {
        "colab": {
          "base_uri": "https://localhost:8080/"
        },
        "id": "GW0FvFE-bWR6",
        "outputId": "19edd8df-bffe-44bd-a912-88981f1f554f"
      },
      "execution_count": 43,
      "outputs": [
        {
          "output_type": "stream",
          "name": "stdout",
          "text": [
            "Skewness: 0.1168\n",
            "Kurtosis (excess): 0.0662\n"
          ]
        }
      ]
    },
    {
      "cell_type": "code",
      "source": [
        "'''Write a Python program to perform a Z-test for comparing a sample mean to a known population mean and\n",
        "interpret the results'''\n",
        "import numpy as np\n",
        "from scipy.stats import norm\n",
        "\n",
        "# Simulate data\n",
        "np.random.seed(42)\n",
        "sample = np.random.normal(loc=50, scale=10, size=100)  # mean=50, std=10, n=100\n",
        "\n",
        "# Known population parameters\n",
        "pop_mean = 52\n",
        "pop_std = 10\n",
        "\n",
        "# Calculate sample statistics\n",
        "sample_mean = np.mean(sample)\n",
        "n = len(sample)\n",
        "\n",
        "# Z-test statistic\n",
        "z = (sample_mean - pop_mean) / (pop_std / np.sqrt(n))\n",
        "p_value = 2 * (1 - norm.cdf(abs(z)))\n",
        "\n",
        "print(f\"Sample Mean = {sample_mean:.2f}\")\n",
        "print(f\"Z-statistic = {z:.2f}\")\n",
        "print(f\"P-value = {p_value:.4f}\")\n",
        "\n",
        "# Interpretation\n",
        "alpha = 0.05\n",
        "if p_value < alpha:\n",
        "    print(\"Reject the null hypothesis: The sample mean is significantly different from the population mean.\")\n",
        "else:\n",
        "    print(\"Fail to reject the null hypothesis: No significant difference between sample and population means.\")\n"
      ],
      "metadata": {
        "id": "1--hgJp_bgTK"
      },
      "execution_count": null,
      "outputs": []
    },
    {
      "cell_type": "code",
      "source": [
        "#Simulate random data to perform hypothesis testing and calculate the corresponding P-value using Python.\n",
        "import numpy as np\n",
        "from scipy.stats import norm\n",
        "\n",
        "# Simulate random data (e.g., test scores)\n",
        "np.random.seed(123)\n",
        "sample_data = np.random.normal(loc=75, scale=8, size=50)  # sample mean ~75, std=8\n",
        "\n",
        "# Population parameters\n",
        "population_mean = 78\n",
        "population_std = 8  # assume known\n",
        "\n",
        "# Sample statistics\n",
        "sample_mean = np.mean(sample_data)\n",
        "n = len(sample_data)\n",
        "\n",
        "# Z-test\n",
        "z_score = (sample_mean - population_mean) / (population_std / np.sqrt(n))\n",
        "p_value = 2 * (1 - norm.cdf(abs(z_score)))\n",
        "\n",
        "print(f\"Sample Mean: {sample_mean:.2f}\")\n",
        "print(f\"Z-score: {z_score:.2f}\")\n",
        "print(f\"P-value: {p_value:.4f}\")\n",
        "\n",
        "# Hypothesis interpretation\n",
        "alpha = 0.05\n",
        "if p_value < alpha:\n",
        "    print(\"Reject the null hypothesis: Sample mean is significantly different.\")\n",
        "else:\n",
        "    print(\"Fail to reject the null hypothesis: No significant difference.\")\n"
      ],
      "metadata": {
        "id": "G6E-_AmIb8fW"
      },
      "execution_count": null,
      "outputs": []
    },
    {
      "cell_type": "code",
      "source": [
        "#Implement a one-sample Z-test using Python to compare the sample mean with the population mean.\n",
        "from scipy.stats import norm\n",
        "import numpy as np\n",
        "\n",
        "def one_sample_z_test(sample, pop_mean, pop_std, alpha=0.05):\n",
        "    n = len(sample)\n",
        "    sample_mean = np.mean(sample)\n",
        "    z_stat = (sample_mean - pop_mean) / (pop_std / np.sqrt(n))\n",
        "    p_value = 2 * (1 - norm.cdf(abs(z_stat)))\n",
        "\n",
        "    print(f\"Sample Mean: {sample_mean:.2f}\")\n",
        "    print(f\"Z-statistic: {z_stat:.2f}\")\n",
        "    print(f\"P-value: {p_value:.4f}\")\n",
        "\n",
        "    if p_value < alpha:\n",
        "        print(\"Reject the null hypothesis: Significant difference.\")\n",
        "    else:\n",
        "        print(\"Fail to reject the null hypothesis: No significant difference.\")\n",
        "\n",
        "# Example usage\n",
        "np.random.seed(0)\n",
        "sample = np.random.normal(loc=100, scale=15, size=30)\n",
        "one_sample_z_test(sample, pop_mean=105, pop_std=15)\n"
      ],
      "metadata": {
        "id": "kShaHMh5cFwR"
      },
      "execution_count": null,
      "outputs": []
    },
    {
      "cell_type": "code",
      "source": [
        "#Perform a two-tailed Z-test using Python and visualize the decision region on a plot\n",
        "import matplotlib.pyplot as plt\n",
        "\n",
        "def visualize_z_test(z_stat, alpha=0.05):\n",
        "    x = np.linspace(-4, 4, 1000)\n",
        "    y = norm.pdf(x)\n",
        "\n",
        "    # Critical Z-values for two-tailed test\n",
        "    z_critical = norm.ppf(1 - alpha/2)\n",
        "\n",
        "    plt.figure(figsize=(10, 6))\n",
        "    plt.plot(x, y, label='Standard Normal Distribution')\n",
        "    plt.fill_between(x, y, where=(x <= -z_critical) | (x >= z_critical), color='red', alpha=0.5, label='Rejection Region')\n",
        "    plt.axvline(z_stat, color='blue', linestyle='--', label=f'Z = {z_stat:.2f}')\n",
        "    plt.axvline(-z_critical, color='black', linestyle=':', label=f'±Z Critical = ±{z_critical:.2f}')\n",
        "    plt.axvline(z_critical, color='black', linestyle=':')\n",
        "    plt.title('Two-Tailed Z-Test Decision Region')\n",
        "    plt.legend()\n",
        "    plt.xlabel('Z-score')\n",
        "    plt.ylabel('Probability Density')\n",
        "    plt.grid()\n",
        "    plt.show()\n",
        "\n",
        "# Visualize for an example Z-statistic\n",
        "visualize_z_test(z_stat=-2.1, alpha=0.05)\n"
      ],
      "metadata": {
        "id": "bBdlbLMUcP1W"
      },
      "execution_count": null,
      "outputs": []
    },
    {
      "cell_type": "code",
      "source": [
        "#Create a Python function that calculates and visualizes Type 1 and Type 2 errors during hypothesis testing\n",
        "def type1_type2_errors(mu0, mu1, sigma, n, alpha=0.05):\n",
        "    x = np.linspace(mu0 - 4*sigma, mu1 + 4*sigma, 1000)\n",
        "    se = sigma / np.sqrt(n)\n",
        "\n",
        "    # Critical values under H0\n",
        "    z_critical = norm.ppf(1 - alpha/2)\n",
        "    lower_crit = mu0 - z_critical * se\n",
        "    upper_crit = mu0 + z_critical * se\n",
        "\n",
        "    # PDF under H0 and H1\n",
        "    pdf_H0 = norm.pdf(x, mu0, se)\n",
        "    pdf_H1 = norm.pdf(x, mu1, se)\n",
        "\n",
        "    plt.figure(figsize=(10, 6))\n",
        "    plt.plot(x, pdf_H0, label='H0 Distribution', color='blue')\n",
        "    plt.plot(x, pdf_H1, label='H1 Distribution', color='green')\n",
        "\n",
        "    plt.fill_between(x, pdf_H0, where=(x <= lower_crit) | (x >= upper_crit), color='red', alpha=0.4, label='Type I Error (α)')\n",
        "    plt.fill_between(x, pdf_H1, where=(x > lower_crit) & (x < upper_crit), color='orange', alpha=0.4, label='Type II Error (β)')\n",
        "\n",
        "    plt.axvline(lower_crit, color='black', linestyle='--')\n",
        "    plt.axvline(upper_crit, color='black', linestyle='--')\n",
        "    plt.title('Type I and Type II Errors')\n",
        "    plt.legend()\n",
        "    plt.xlabel('Sample Mean')\n",
        "    plt.ylabel('Density')\n",
        "    plt.grid()\n",
        "    plt.show()\n",
        "\n",
        "# Example visualization\n",
        "type1_type2_errors(mu0=100, mu1=105, sigma=15, n=30)\n"
      ],
      "metadata": {
        "id": "x8dX7RyacXoC"
      },
      "execution_count": null,
      "outputs": []
    },
    {
      "cell_type": "code",
      "source": [
        "#Write a Python program to perform an independent T-test and interpret the results\n",
        "from scipy.stats import ttest_ind\n",
        "import numpy as np\n",
        "\n",
        "# Simulate two independent samples\n",
        "np.random.seed(10)\n",
        "group1 = np.random.normal(loc=70, scale=10, size=30)\n",
        "group2 = np.random.normal(loc=75, scale=12, size=30)\n",
        "\n",
        "# Perform independent two-sample T-test\n",
        "t_stat, p_value = ttest_ind(group1, group2)\n",
        "\n",
        "print(f\"T-statistic: {t_stat:.2f}\")\n",
        "print(f\"P-value: {p_value:.4f}\")\n",
        "\n",
        "if p_value < 0.05:\n",
        "    print(\"Reject the null hypothesis: The group means are significantly different.\")\n",
        "else:\n",
        "    print(\"Fail to reject the null hypothesis: No significant difference between group means.\")\n"
      ],
      "metadata": {
        "id": "bBwHAUHHccw1"
      },
      "execution_count": null,
      "outputs": []
    },
    {
      "cell_type": "code",
      "source": [
        "#Perform a paired sample T-test using Python and visualize the comparison results\n",
        "from scipy.stats import ttest_rel\n",
        "import matplotlib.pyplot as plt\n",
        "\n",
        "# Simulate paired data (before and after)\n",
        "np.random.seed(42)\n",
        "before = np.random.normal(100, 10, 30)\n",
        "after = before + np.random.normal(-5, 5, 30)  # small shift\n",
        "\n",
        "# Paired T-test\n",
        "t_stat, p_value = ttest_rel(before, after)\n",
        "\n",
        "print(f\"T-statistic: {t_stat:.2f}\")\n",
        "print(f\"P-value: {p_value:.4f}\")\n",
        "\n",
        "if p_value < 0.05:\n",
        "    print(\"Reject the null hypothesis: Significant difference in paired samples.\")\n",
        "else:\n",
        "    print(\"Fail to reject the null hypothesis.\")\n",
        "\n",
        "# Visualization\n",
        "plt.figure(figsize=(8, 4))\n",
        "plt.plot(before, label='Before', marker='o')\n",
        "plt.plot(after, label='After', marker='o')\n",
        "plt.title('Paired Sample Comparison')\n",
        "plt.legend()\n",
        "plt.grid()\n",
        "plt.show()\n"
      ],
      "metadata": {
        "id": "xHmSDrIjcqLe"
      },
      "execution_count": null,
      "outputs": []
    },
    {
      "cell_type": "code",
      "source": [
        "#Simulate data and perform both Z-test and T-test, then compare the results using Python.\n",
        "from scipy.stats import ttest_1samp\n",
        "\n",
        "# Simulate data\n",
        "np.random.seed(1)\n",
        "sample = np.random.normal(loc=50, scale=10, size=30)\n",
        "pop_mean = 52\n",
        "pop_std = 10\n",
        "\n",
        "# Z-test (known std)\n",
        "z_stat = (np.mean(sample) - pop_mean) / (pop_std / np.sqrt(len(sample)))\n",
        "z_p = 2 * (1 - norm.cdf(abs(z_stat)))\n",
        "\n",
        "# T-test (unknown std)\n",
        "t_stat, t_p = ttest_1samp(sample, pop_mean)\n",
        "\n",
        "print(\"Z-test Results:\")\n",
        "print(f\"  Z = {z_stat:.2f}, P-value = {z_p:.4f}\")\n",
        "\n",
        "print(\"T-test Results:\")\n",
        "print(f\"  T = {t_stat:.2f}, P-value = {t_p:.4f}\")\n",
        "\n",
        "if z_p < 0.05:\n",
        "    print(\"Z-test: Reject H0\")\n",
        "else:\n",
        "    print(\"Z-test: Fail to reject H0\")\n",
        "\n",
        "if t_p < 0.05:\n",
        "    print(\"T-test: Reject H0\")\n",
        "else:\n",
        "    print(\"T-test: Fail to reject H0\")\n"
      ],
      "metadata": {
        "id": "Uy-3fzCacxBH"
      },
      "execution_count": null,
      "outputs": []
    },
    {
      "cell_type": "code",
      "source": [
        " #9.Write a Python function to calculate the confidence interval for a sample mean and explain its significance\n",
        " from scipy.stats import t\n",
        "\n",
        "def confidence_interval(sample, confidence=0.95):\n",
        "    n = len(sample)\n",
        "    mean = np.mean(sample)\n",
        "    se = np.std(sample, ddof=1) / np.sqrt(n)\n",
        "    margin = t.ppf((1 + confidence) / 2, df=n-1) * se\n",
        "    return mean - margin, mean + margin\n",
        "\n",
        "# Example\n",
        "sample = np.random.normal(100, 15, 40)\n",
        "ci = confidence_interval(sample, confidence=0.95)\n",
        "print(f\"95% Confidence Interval for the mean: {ci[0]:.2f} to {ci[1]:.2f}\")\n"
      ],
      "metadata": {
        "id": "Jyf2FJuIc3Z9"
      },
      "execution_count": null,
      "outputs": []
    },
    {
      "cell_type": "code",
      "source": [
        "#10.Write a Python program to calculate the margin of error for a given confidence level using sample data\n",
        "def margin_of_error(sample, confidence=0.95):\n",
        "    n = len(sample)\n",
        "    se = np.std(sample, ddof=1) / np.sqrt(n)\n",
        "    t_critical = t.ppf((1 + confidence) / 2, df=n - 1)\n",
        "    return t_critical * se\n",
        "\n",
        "# Example\n",
        "sample = np.random.normal(50, 5, 30)\n",
        "me = margin_of_error(sample)\n",
        "print(f\"Margin of Error (95% CI): ±{me:.2f}\")\n"
      ],
      "metadata": {
        "id": "aPMQniy2c-6T"
      },
      "execution_count": null,
      "outputs": []
    },
    {
      "cell_type": "code",
      "source": [
        " #11.Implement a Bayesian inference method using Bayes' Theorem in Python and explain the process\n",
        " def bayes_theorem(prior_A, prob_B_given_A, prob_B_given_not_A):\n",
        "    prob_not_A = 1 - prior_A\n",
        "    prob_B = (prob_B_given_A * prior_A) + (prob_B_given_not_A * prob_not_A)\n",
        "    posterior_A = (prob_B_given_A * prior_A) / prob_B\n",
        "    return posterior_A\n",
        "\n",
        "# Example: Disease testing\n",
        "prior_disease = 0.01       # 1% prior probability\n",
        "sensitivity = 0.95         # P(positive | disease)\n",
        "false_positive = 0.05      # P(positive | no disease)\n",
        "\n",
        "posterior = bayes_theorem(prior_disease, sensitivity, false_positive)\n",
        "print(f\"Posterior probability of disease given a positive test: {posterior:.4f}\")\n"
      ],
      "metadata": {
        "id": "mn9EUFETdFLX"
      },
      "execution_count": null,
      "outputs": []
    },
    {
      "cell_type": "code",
      "source": [
        "#12.Perform a Chi-square test for independence between two categorical variables in Python\n",
        "import pandas as pd\n",
        "from scipy.stats import chi2_contingency\n",
        "\n",
        "# Create a contingency table\n",
        "data = pd.DataFrame({\n",
        "    'Smoker': [20, 30],\n",
        "    'Non-Smoker': [80, 70]\n",
        "}, index=['Male', 'Female'])\n",
        "\n",
        "chi2, p, dof, expected = chi2_contingency(data)\n",
        "\n",
        "print(\"Chi-Square Statistic:\", chi2)\n",
        "print(\"P-value:\", p)\n",
        "print(\"Degrees of Freedom:\", dof)\n",
        "print(\"Expected Frequencies:\\n\", expected)\n",
        "\n",
        "if p < 0.05:\n",
        "    print(\"Reject H0: There is a significant association between gender and smoking.\")\n",
        "else:\n",
        "    print(\"Fail to reject H0: No significant association.\")\n"
      ],
      "metadata": {
        "id": "1jTVqzH4dM29"
      },
      "execution_count": null,
      "outputs": []
    },
    {
      "cell_type": "code",
      "source": [
        "#13.Write a Python program to calculate the expected frequencies for a Chi-square test based on observed\n",
        "#data\n",
        "import pandas as pd\n",
        "from scipy.stats import chi2_contingency\n",
        "\n",
        "# Create a contingency table (re-define data)\n",
        "data = pd.DataFrame({\n",
        "    'Smoker': [20, 30],\n",
        "    'Non-Smoker': [80, 70]\n",
        "}, index=['Male', 'Female'])\n",
        "\n",
        "# Using the same contingency table from before (now defined in this cell)\n",
        "_, _, _, expected_freqs = chi2_contingency(data)\n",
        "print(\"Expected Frequencies:\\n\", expected_freqs)\n"
      ],
      "metadata": {
        "colab": {
          "base_uri": "https://localhost:8080/"
        },
        "id": "QKXDzIgOdS1g",
        "outputId": "94c163db-4f14-4c5c-be62-2e7ea08b3f9b"
      },
      "execution_count": 46,
      "outputs": [
        {
          "output_type": "stream",
          "name": "stdout",
          "text": [
            "Expected Frequencies:\n",
            " [[25. 75.]\n",
            " [25. 75.]]\n"
          ]
        }
      ]
    },
    {
      "cell_type": "code",
      "source": [
        "#14 Perform a goodness-of-fit test using Python to compare the observed data to an expected distribution.\n",
        "import numpy as np # Import numpy for array operations\n",
        "from scipy.stats import chisquare\n",
        "\n",
        "# Observed vs Expected frequencies\n",
        "observed = np.array([30, 50, 20])\n",
        "# Ensure the sum of expected frequencies equals the sum of observed frequencies\n",
        "expected = np.array([np.sum(observed)/3, np.sum(observed)/3, np.sum(observed)/3])  # uniform distribution with sum equal to observed sum\n",
        "\n",
        "chi2_stat, p_val = chisquare(f_obs=observed, f_exp=expected)\n",
        "\n",
        "print(f\"Chi-square Statistic: {chi2_stat:.2f}\")\n",
        "print(f\"P-value: {p_val:.4f}\")\n",
        "\n",
        "if p_val < 0.05:\n",
        "    print(\"Reject H0: The observed distribution differs from expected.\")\n",
        "else:\n",
        "    print(\"Fail to reject H0: Observed data fits the expected distribution.\")"
      ],
      "metadata": {
        "colab": {
          "base_uri": "https://localhost:8080/"
        },
        "id": "02s695R8dmC5",
        "outputId": "48955eae-100e-48ac-ba03-d6b7ab3c0519"
      },
      "execution_count": 48,
      "outputs": [
        {
          "output_type": "stream",
          "name": "stdout",
          "text": [
            "Chi-square Statistic: 14.00\n",
            "P-value: 0.0009\n",
            "Reject H0: The observed distribution differs from expected.\n"
          ]
        }
      ]
    }
  ]
}