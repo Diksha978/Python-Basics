{
  "nbformat": 4,
  "nbformat_minor": 0,
  "metadata": {
    "colab": {
      "provenance": []
    },
    "kernelspec": {
      "name": "python3",
      "display_name": "Python 3"
    },
    "language_info": {
      "name": "python"
    }
  },
  "cells": [
    {
      "cell_type": "markdown",
      "source": [
        "1. What is a RESTful API?\n",
        "A RESTful API is an API that follows the principles of REST (Representational State Transfer), using HTTP methods (GET, POST, PUT, DELETE) to interact with resources identified by URLs."
      ],
      "metadata": {
        "id": "0K5zdwpLzIli"
      }
    },
    {
      "cell_type": "markdown",
      "source": [
        "2. Explain the concept of API specification.\n",
        "An API specification is a detailed document that defines how an API works, including endpoints, request/response formats, parameters, authentication, and error codes."
      ],
      "metadata": {
        "id": "8F7C2wDOzKY6"
      }
    },
    {
      "cell_type": "markdown",
      "source": [
        "3. What is Flask, and why is it popular for building APIs?\n",
        "Flask is a lightweight Python web framework. It’s popular for APIs due to its simplicity, minimalism, flexibility, and built-in development server."
      ],
      "metadata": {
        "id": "qfu7YzLpzLiG"
      }
    },
    {
      "cell_type": "markdown",
      "source": [
        "4. What is routing in Flask?\n",
        "Routing in Flask is the process of mapping URLs to specific functions (views) that handle the request and return a response.\n",
        "\n"
      ],
      "metadata": {
        "id": "2MqnxdiwzMkP"
      }
    },
    {
      "cell_type": "markdown",
      "source": [
        "5. How do you create a simple Flask application?\n",
        "from flask import Flask\n",
        "app = Flask(__name__)\n",
        "\n",
        "@app.route('/')\n",
        "def home():\n",
        "    return 'Hello, Flask!'\n",
        "\n",
        "if __name__ == '__main__':\n",
        "    app.run()\n"
      ],
      "metadata": {
        "id": "gaF_GuPuzNti"
      }
    },
    {
      "cell_type": "markdown",
      "source": [
        "6. What are HTTP methods used in RESTful APIs?\n",
        "GET, POST, PUT, DELETE, PATCH, HEAD, OPTIONS."
      ],
      "metadata": {
        "id": "_MZ02JU-zQ8e"
      }
    },
    {
      "cell_type": "markdown",
      "source": [
        "7. What is the purpose of the @app.route() decorator in Flask?\n",
        "It binds a URL path to a Python function, making it an endpoint.\n",
        "\n"
      ],
      "metadata": {
        "id": "PDd1jbM-zSoZ"
      }
    },
    {
      "cell_type": "markdown",
      "source": [
        "8. What is the difference between GET and POST HTTP methods?\n",
        "GET retrieves data; POST sends data to the server (often to create or update resources)."
      ],
      "metadata": {
        "id": "kgCTI3PWzTvZ"
      }
    },
    {
      "cell_type": "markdown",
      "source": [
        "9. How do you handle errors in Flask APIs?\n",
        "Using @app.errorhandler() decorators or try-except blocks.\n",
        "Example:@app.errorhandler(404)\n",
        "def not_found(e):\n",
        "    return 'Page not found', 404\n"
      ],
      "metadata": {
        "id": "rI9Q9wrOzU4p"
      }
    },
    {
      "cell_type": "markdown",
      "source": [
        "10. How do you connect Flask to a SQL database?\n",
        "Using Flask-SQLAlchemy:from flask_sqlalchemy import SQLAlchemy\n",
        "\n",
        "app.config['SQLALCHEMY_DATABASE_URI'] = 'sqlite:///data.db'\n",
        "db = SQLAlchemy(app)\n"
      ],
      "metadata": {
        "id": "eZnWiJYUzXCc"
      }
    },
    {
      "cell_type": "markdown",
      "source": [
        "11. What is the role of Flask-SQLAlchemy?\n",
        "It’s an ORM that allows interaction with databases using Python classes instead of SQL queries."
      ],
      "metadata": {
        "id": "GVYRCh86zZOj"
      }
    },
    {
      "cell_type": "markdown",
      "source": [
        "12. What are Flask blueprints, and how are they useful?\n",
        "Blueprints help organize Flask applications into smaller, reusable modules (e.g., routes for auth, users, etc.)."
      ],
      "metadata": {
        "id": "u0NnZVSMzami"
      }
    },
    {
      "cell_type": "markdown",
      "source": [
        "13. What is the purpose of Flask's request object?\n",
        "To access incoming request data like form inputs, JSON, headers, and files.\n",
        "\n"
      ],
      "metadata": {
        "id": "PoMWA3ZLzbwZ"
      }
    },
    {
      "cell_type": "markdown",
      "source": [
        "14. How do you create a RESTful API endpoint using Flask?\n",
        "@app.route('/api/data', methods=['GET'])\n",
        "def get_data():\n",
        "    return jsonify({'message': 'success'})\n"
      ],
      "metadata": {
        "id": "l-ypdXdlzdyi"
      }
    },
    {
      "cell_type": "markdown",
      "source": [
        "15. What is the purpose of Flask's jsonify() function?\n",
        "It converts Python dictionaries/lists into a JSON response with correct headers."
      ],
      "metadata": {
        "id": "j0yh8i_5zhdf"
      }
    },
    {
      "cell_type": "markdown",
      "source": [
        "16. Explain Flask’s url_for() function.\n",
        "It dynamically builds a URL for a given function name, useful for redirects and links."
      ],
      "metadata": {
        "id": "SjKeZaIuziv4"
      }
    },
    {
      "cell_type": "markdown",
      "source": [
        "17. How does Flask handle static files (CSS, JavaScript, etc.)?\n",
        "Flask serves them from a /static folder. Example: /static/style.css."
      ],
      "metadata": {
        "id": "4AzRuPH1zkIR"
      }
    },
    {
      "cell_type": "markdown",
      "source": [
        "18. What is an API specification, and how does it help in building a Flask API?\n",
        "It defines the structure and rules of the API, ensuring consistency and easing client integration."
      ],
      "metadata": {
        "id": "iSEsjkxezlvP"
      }
    },
    {
      "cell_type": "markdown",
      "source": [
        "19. What are HTTP status codes, and why are they important in a Flask API?\n",
        "They indicate the result of an HTTP request (e.g., 200 OK, 404 Not Found). They help clients understand the response.\n",
        "\n"
      ],
      "metadata": {
        "id": "scbJrQLazmSG"
      }
    },
    {
      "cell_type": "markdown",
      "source": [
        "20. How do you handle POST requests in Flask?\n",
        "\n",
        "python\n",
        "Copy\n",
        "Edit\n",
        "@app.route('/submit', methods=['POST'])\n",
        "def submit():\n",
        "    data = request.json\n",
        "    return jsonify(data)"
      ],
      "metadata": {
        "id": "6AaIhWbOznlC"
      }
    },
    {
      "cell_type": "markdown",
      "source": [
        "21. How would you secure a Flask API?\n",
        "Using HTTPS, API keys, token-based auth (JWT), input validation, and rate limiting."
      ],
      "metadata": {
        "id": "e3w5ppOwzo5R"
      }
    },
    {
      "cell_type": "markdown",
      "source": [
        "22. What is the significance of the Flask-RESTful extension?\n",
        "It simplifies building REST APIs in Flask with support for resource routing, input parsing, and more."
      ],
      "metadata": {
        "id": "U_HHA7jRzqX6"
      }
    },
    {
      "cell_type": "markdown",
      "source": [
        "23. What is the role of Flask’s session object?\n",
        "To store user data (like login info) across requests using cookies."
      ],
      "metadata": {
        "id": "0lcP_gAFzrqT"
      }
    },
    {
      "cell_type": "code",
      "source": [
        "#1. How do you create a basic Flask application?\n",
        "# from flask import Flask\n",
        "app = Flask(__name__)\n",
        "\n",
        "@app.route('/')\n",
        "def home():\n",
        "    return 'Hello, Flask!'\n",
        "\n",
        "if __name__ == '__main__':\n",
        "    app.run()"
      ],
      "metadata": {
        "id": "HRJtPlC6z7Cr"
      },
      "execution_count": null,
      "outputs": []
    },
    {
      "cell_type": "code",
      "source": [
        "#2How do you serve static files like images or CSS in Flask?\n",
        "# Flask serves static files from a folder named 'static' by default.\n",
        "# You can link to them in your HTML templates using url_for.\n",
        "# Example in an HTML file:\n",
        "# <link rel=\"stylesheet\" href=\"{{ url_for('static', filename='style.css') }}\">\n",
        "# <img src=\"{{ url_for('static', filename='logo.png') }}\" alt=\"Logo\">\n"
      ],
      "metadata": {
        "id": "qaYnu1Cn0EXD"
      },
      "execution_count": 5,
      "outputs": []
    },
    {
      "cell_type": "code",
      "source": [
        "#3. How do you define different routes with different HTTP methods in Flask?\n",
        "\n",
        "python\n",
        "Copy\n",
        "Edit\n",
        "@app.route('/data', methods=['GET', 'POST'])\n",
        "def handle_data():\n",
        "    if request.method == 'POST':\n",
        "        return 'POST method'\n",
        "    return 'GET method'"
      ],
      "metadata": {
        "id": "qU4JwsLU0Gdr"
      },
      "execution_count": null,
      "outputs": []
    },
    {
      "cell_type": "code",
      "source": [
        "#4. How do you render HTML templates in Flask?\n",
        "Using render_template() and placing HTML files in the templates/ folder.\n",
        "\n",
        "python\n",
        "Copy\n",
        "Edit\n",
        "from flask import render_template\n",
        "@app.route('/')\n",
        "def home():\n",
        "    return render_template('index.html')"
      ],
      "metadata": {
        "id": "LSi776x90KPC"
      },
      "execution_count": null,
      "outputs": []
    },
    {
      "cell_type": "code",
      "source": [
        "#5.How can you generate URLs for routes in Flask using url_for?\n",
        "\n",
        "python\n",
        "Copy\n",
        "Edit\n",
        "url_for('home')  # Generates URL for function named 'home'"
      ],
      "metadata": {
        "id": "YH27Ay2C0jK-"
      },
      "execution_count": null,
      "outputs": []
    },
    {
      "cell_type": "code",
      "source": [
        "#6. How do you handle forms in Flask?\n",
        "#Using request.form to retrieve data from submitted HTML forms.\n",
        "from flask import Flask, request, render_template\n",
        "\n",
        "app = Flask(__name__)\n",
        "\n",
        "@app.route('/form', methods=['GET', 'POST'])\n",
        "def form():\n",
        "    if request.method == 'POST':\n",
        "        name = request.form['name']\n",
        "        return f'Hello, {name}!'\n",
        "    return render_template('form.html')\n",
        "\n",
        "if __name__ == '__main__':\n",
        "    app.run(debug=True)\n",
        "\n",
        "# HTML template would be in a separate form.html file\n",
        "# <form method=\"POST\" action=\"/form\">\n",
        "#   <input type=\"text\" name=\"name\" placeholder=\"Enter your name\">\n",
        "#6. How do you handle forms in Flask?\n",
        "#Using request.form to retrieve data from submitted HTML forms.\n",
        "from flask import Flask, request, render_template\n",
        "\n",
        "app = Flask(__name__)\n",
        "\n",
        "@app.route('/form', methods=['GET', 'POST'])\n",
        "def form():\n",
        "    if request.method == 'POST':\n",
        "        name = request.form['name']\n",
        "        return f'Hello, {name}!'\n",
        "    return render_template('form.html')\n",
        "\n",
        "#6. How do you handle forms in Flask?\n",
        "#Using request.form to retrieve data from submitted HTML forms.\n",
        "from flask import Flask, request, render_template\n",
        "\n",
        "app = Flask(__name__)\n",
        "\n",
        "@app.route('/form', methods=['GET', 'POST'])\n",
        "def form():\n",
        "    if request.method == 'POST':\n",
        "        name = request.form['name']\n",
        "        return f'Hello, {name}!'\n",
        "    return render_template('form.html')\n",
        "\n",
        "if __name__ == '__main__':\n",
        "    app.run(debug=True)\n",
        "\n",
        "# HTML template would be in a separate form.html file\n",
        "# <form method=\"POST\" action=\"/form\">\n",
        "#   <input type=\"text\" name=\"name\" placeholder=\"Enter your name\">\n",
        "#   <input type=\"submit\" value=\"Submit\">\n",
        "# </form>"
      ],
      "metadata": {
        "id": "Rn8W816X0pmW"
      },
      "execution_count": null,
      "outputs": []
    },
    {
      "cell_type": "code",
      "source": [
        "#7 How can you validate form data in Flask?\n",
        "#Manually or using Flask-WTF:\n",
        "\n",
        "!pip install Flask-WTF\n",
        "from flask_wtf import FlaskForm\n",
        "from wtforms import StringField\n",
        "from wtforms.validators import DataRequired"
      ],
      "metadata": {
        "id": "_6oTiE-z0sou"
      },
      "execution_count": null,
      "outputs": []
    },
    {
      "cell_type": "code",
      "source": [
        "#8. How do you manage sessions in Flask?\n",
        "#Set secret key and use session to store user data:\n",
        "app.secret_key = 'secret'\n",
        "session['username'] = 'user'"
      ],
      "metadata": {
        "id": "azvpuYMY1Cid"
      },
      "execution_count": null,
      "outputs": []
    },
    {
      "cell_type": "code",
      "source": [
        "#9, How do you redirect to a different route in Flask?\n",
        "#Using redirect() and url_for():\n",
        "return redirect(url_for('home'))\n"
      ],
      "metadata": {
        "id": "C5XB7XUG1LFA"
      },
      "execution_count": null,
      "outputs": []
    },
    {
      "cell_type": "code",
      "source": [
        "#10.How do you handle errors in Flask (e.g., 404)?\n",
        "@app.errorhandler(404)\n",
        "def not_found(e):\n",
        "    return 'Page not found', 404\n"
      ],
      "metadata": {
        "id": "5RPWozuQ1Sup"
      },
      "execution_count": null,
      "outputs": []
    },
    {
      "cell_type": "code",
      "source": [
        "#10. How do you structure a Flask app using Blueprints?\n",
        "#Create a blueprint in a separate file:\n",
        "from flask import Blueprint\n",
        "\n",
        "auth_bp = Blueprint('auth', __name__)\n",
        "\n",
        "@auth_bp.route('/login')\n",
        "def login():\n",
        "    return 'Login Page'\n",
        "    app.register_blueprint(auth_bp)\n"
      ],
      "metadata": {
        "id": "V0Ghlk161c2k"
      },
      "execution_count": null,
      "outputs": []
    },
    {
      "cell_type": "code",
      "source": [
        "#11.How do you define a custom Jinja filter in Flask?\n",
        "@app.template_filter('reverse')\n",
        "def reverse_filter(s):\n",
        "    return s[::-1]\n"
      ],
      "metadata": {
        "id": "VxEYlB0M1hn3"
      },
      "execution_count": null,
      "outputs": []
    },
    {
      "cell_type": "code",
      "source": [
        "#12.How can you redirect with query parameters in Flask?\n",
        "return redirect(url_for('search', q='flask'))\n"
      ],
      "metadata": {
        "id": "bl8s8Zty173X"
      },
      "execution_count": null,
      "outputs": []
    },
    {
      "cell_type": "code",
      "source": [
        "#13.How do you return JSON responses in Flask?\n",
        "#Using jsonify():\n",
        "return jsonify({'message': 'Hello'})\n"
      ],
      "metadata": {
        "id": "ZR0Na4l11_c_"
      },
      "execution_count": null,
      "outputs": []
    },
    {
      "cell_type": "code",
      "source": [
        "#14.How do you capture URL parameters in Flask?\n",
        "@app.route('/user/<username>')\n",
        "def show_user(username):\n",
        "    return f'User: {username}'\n"
      ],
      "metadata": {
        "id": "lBD7cYKc2Et4"
      },
      "execution_count": null,
      "outputs": []
    }
  ]
}