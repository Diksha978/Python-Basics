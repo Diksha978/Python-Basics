{
  "nbformat": 4,
  "nbformat_minor": 0,
  "metadata": {
    "colab": {
      "provenance": []
    },
    "kernelspec": {
      "name": "python3",
      "display_name": "Python 3"
    },
    "language_info": {
      "name": "python"
    }
  },
  "cells": [
    {
      "cell_type": "markdown",
      "source": [
        "# Data Toolkit Assignment"
      ],
      "metadata": {
        "id": "4xrO6-UspUEh"
      }
    },
    {
      "cell_type": "markdown",
      "source": [
        "1. What is NumPy, and why is it widely used in Python\n",
        "  -> NumPy is a library for numerical computing in Python, known for its fast array operations and support for large, multi-dimensional arrays.\n"
      ],
      "metadata": {
        "id": "q2fBebXQpV83"
      }
    },
    {
      "cell_type": "markdown",
      "source": [
        "2. How does broadcasting work in NumPy\n",
        "  -> Broadcasting allows NumPy to perform operations on arrays of different shapes as if they had compatible shapes.\n"
      ],
      "metadata": {
        "id": "Dm4D9sfopbDN"
      }
    },
    {
      "cell_type": "markdown",
      "source": [
        "3. What is a Pandas DataFrame\n",
        "  -> A DataFrame is a 2D, labeled data structure in Pandas, similar to a table in a database or an Excel spreadsheet\n"
      ],
      "metadata": {
        "id": "M3EpkoclpgW_"
      }
    },
    {
      "cell_type": "markdown",
      "source": [
        "4. Explain the use of the groupby() method in Pandas\n",
        "  -> groupby() is used to split data into groups, apply a function, and combine results, useful for aggregation.\n"
      ],
      "metadata": {
        "id": "o-SiIrirpkDf"
      }
    },
    {
      "cell_type": "markdown",
      "source": [
        "5. Why is Seaborn preferred for statistical visualizations\n",
        "  -> Seaborn simplifies complex visualizations and integrates well with Pandas, offering attractive default styles.\n"
      ],
      "metadata": {
        "id": "TxiCrg9LppYf"
      }
    },
    {
      "cell_type": "markdown",
      "source": [
        "6. What are the differences between NumPy arrays and Python lists\n",
        "  -> NumPy arrays are faster, more compact, support element-wise operations, and have more functionality than Python lists.\n"
      ],
      "metadata": {
        "id": "nDfVkwGept92"
      }
    },
    {
      "cell_type": "markdown",
      "source": [
        "7. What is a heatmap, and when should it be used\n",
        "  -> A heatmap visualizes data using color in a matrix format, ideal for showing correlation or intensity of variables.\n"
      ],
      "metadata": {
        "id": "m1Yzb0hFpxEB"
      }
    },
    {
      "cell_type": "markdown",
      "source": [
        "8. What does the term “vectorized operation” mean in NumPy\n",
        "  -> It means performing operations on entire arrays without using explicit loops, leading to faster computations.\n"
      ],
      "metadata": {
        "id": "V4VZB4G-p0Du"
      }
    },
    {
      "cell_type": "markdown",
      "source": [
        "9. How does Matplotlib differ from Plotly\n",
        "  -> Matplotlib is static and low-level, while Plotly is interactive and better for complex, web-based visualizations.\n"
      ],
      "metadata": {
        "id": "k8UnHfPjp3YH"
      }
    },
    {
      "cell_type": "markdown",
      "source": [
        "10. What is the significance of hierarchical indexing in Pandas\n",
        " -> It allows multiple index levels on axes, enabling better data organization and easier access to data subsets.\n"
      ],
      "metadata": {
        "id": "yoQ9MkH5p6Z_"
      }
    },
    {
      "cell_type": "markdown",
      "source": [
        "11. What is the role of Seaborn’s pairplot() function\n",
        " -> pairplot() creates a matrix of scatter plots to visualize pairwise relationships in a dataset.\n"
      ],
      "metadata": {
        "id": "ZonFHQuep-BY"
      }
    },
    {
      "cell_type": "markdown",
      "source": [
        "12. What is the purpose of the describe() function in Pandas\n",
        "  -> describe() generates summary statistics of numerical columns like mean, std, min, and percentiles.\n"
      ],
      "metadata": {
        "id": "Ti4uY1JYqBNx"
      }
    },
    {
      "cell_type": "markdown",
      "source": [
        "13. Why is handling missing data important in Pandas\n",
        "  -> It ensures data quality and prevents errors during analysis or model training.\n"
      ],
      "metadata": {
        "id": "52tJyfW-qEdU"
      }
    },
    {
      "cell_type": "markdown",
      "source": [
        "14. What are the benefits of using Plotly for data visualization\n",
        "  -> Plotly offers interactive plots, easy integration with web apps, and wide support for charts.\n"
      ],
      "metadata": {
        "id": "u3bhuoGyqHjq"
      }
    },
    {
      "cell_type": "markdown",
      "source": [
        "15. How does NumPy handle multidimensional arrays\n",
        " -> NumPy supports n-dimensional arrays (ndarrays) with efficient operations across dimensions.\n"
      ],
      "metadata": {
        "id": "0CCTNlYOqLax"
      }
    },
    {
      "cell_type": "markdown",
      "source": [
        "16. What is the role of Bokeh in data visualization\n",
        "  -> Bokeh is used for creating interactive, web-based plots with high flexibility and real-time updates.\n"
      ],
      "metadata": {
        "id": "cbqUC0dBqO0u"
      }
    },
    {
      "cell_type": "markdown",
      "source": [
        "17. Explain the difference between apply() and map() in Pandas\n",
        " -> apply() can be used on DataFrames or Series with functions, while map() is used only on Series.\n"
      ],
      "metadata": {
        "id": "q8HRLhNeqTNm"
      }
    },
    {
      "cell_type": "markdown",
      "source": [
        "18. What are some advanced features of NumPy\n",
        " -> Features include broadcasting, vectorization, masking, linear algebra, Fourier transforms, and random number generation.\n"
      ],
      "metadata": {
        "id": "AjiKuoTsqXM6"
      }
    },
    {
      "cell_type": "markdown",
      "source": [
        "19. How does Pandas simplify time series analysis\n",
        " -> It provides datetime indexing, resampling, and frequency conversion tools built-in.\n"
      ],
      "metadata": {
        "id": "DMh_vWnrqa_Z"
      }
    },
    {
      "cell_type": "markdown",
      "source": [
        "20. What is the role of a pivot table in Pandas\n",
        " -> A pivot table summarizes data using groupings, making it easier to analyze patterns.\n"
      ],
      "metadata": {
        "id": "MBH8cOmcqemn"
      }
    },
    {
      "cell_type": "markdown",
      "source": [
        "21. Why is NumPy’s array slicing faster than Python’s list slicing\n",
        " -> NumPy slicing accesses memory more efficiently due to contiguous storage and lower overhead.\n"
      ],
      "metadata": {
        "id": "2-ID2Avxqhza"
      }
    },
    {
      "cell_type": "markdown",
      "source": [
        "22. What are some common use cases for Seaborn?\n",
        "  -> Common uses include correlation heatmaps, distribution plots, categorical plots, and pairwise relationships.\n"
      ],
      "metadata": {
        "id": "fsZe_BcAqkzq"
      }
    },
    {
      "cell_type": "markdown",
      "source": [
        "# Practical Questions"
      ],
      "metadata": {
        "id": "Oy475iCzqojS"
      }
    },
    {
      "cell_type": "code",
      "source": [
        "#1. How do you create a 2D NumPy array and calculate the sum of each row\n",
        "import numpy as np\n",
        "arr = np.array([[1, 2], [3, 4]])\n",
        "row_sums = np.sum(arr, axis=1)\n"
      ],
      "metadata": {
        "id": "Kwsx4Ckbqr12"
      },
      "execution_count": null,
      "outputs": []
    },
    {
      "cell_type": "code",
      "source": [
        "#2. Write a Pandas script to find the mean of a specific column in a DataFrame\n",
        "import pandas as pd\n",
        "df = pd.DataFrame({'A': [1, 2, 3], 'B': [4, 5, 6]})\n",
        "mean_b = df['B'].mean()\n"
      ],
      "metadata": {
        "id": "dFiU1O6pqw3f"
      },
      "execution_count": null,
      "outputs": []
    },
    {
      "cell_type": "code",
      "source": [
        "#3. Create a scatter plot using Matplotlib\n",
        "import matplotlib.pyplot as plt\n",
        "x = [1, 2, 3]\n",
        "y = [4, 5, 6]\n",
        "plt.scatter(x, y)\n",
        "plt.show()\n"
      ],
      "metadata": {
        "id": "J9T0iCrHq2oB"
      },
      "execution_count": null,
      "outputs": []
    },
    {
      "cell_type": "code",
      "source": [
        "#4. How do you calculate the correlation matrix using Seaborn and visualize it with a heatmap\n",
        "import seaborn as sns\n",
        "import pandas as pd\n",
        "import matplotlib.pyplot as plt\n",
        "df = pd.DataFrame(...)  # your data\n",
        "corr = df.corr()\n",
        "sns.heatmap(corr, annot=True)\n",
        "plt.show()"
      ],
      "metadata": {
        "id": "RdbklFi1q5Wq"
      },
      "execution_count": null,
      "outputs": []
    },
    {
      "cell_type": "code",
      "source": [
        "#5. Generate a bar plot using Plotly\n",
        "import plotly.express as px\n",
        "data = {'x': ['A', 'B', 'C'], 'y': [10, 20, 15]}\n",
        "fig = px.bar(data, x='x', y='y')\n",
        "fig.show()"
      ],
      "metadata": {
        "id": "OM7xvOC0rMLs"
      },
      "execution_count": null,
      "outputs": []
    },
    {
      "cell_type": "code",
      "source": [
        "#6. Create a DataFrame and add a new column based on an existing column\n",
        "import pandas as pd\n",
        "df = pd.DataFrame({'A': [1, 2, 3]})\n",
        "df['B'] = df['A'] * 2\n"
      ],
      "metadata": {
        "id": "wbIvzKEhq8XC"
      },
      "execution_count": null,
      "outputs": []
    },
    {
      "cell_type": "code",
      "source": [
        "#7. Write a program to perform element-wise multiplication of two NumPy arrays\n",
        "import numpy as np\n",
        "a = np.array([1, 2, 3])\n",
        "b = np.array([4, 5, 6])\n",
        "result = a * b\n"
      ],
      "metadata": {
        "id": "5-wBvmbMrYHH"
      },
      "execution_count": null,
      "outputs": []
    },
    {
      "cell_type": "code",
      "source": [
        "#8. Create a line plot with multiple lines using Matplotlib\n",
        "import matplotlib.pyplot as plt\n",
        "x = [1, 2, 3]\n",
        "y1 = [2, 4, 6]\n",
        "y2 = [1, 2, 3]\n",
        "plt.plot(x, y1, label='Line 1')\n",
        "plt.plot(x, y2, label='Line 2')\n",
        "plt.legend()\n",
        "plt.show()\n"
      ],
      "metadata": {
        "id": "KtTY5LS9rcJQ"
      },
      "execution_count": null,
      "outputs": []
    },
    {
      "cell_type": "code",
      "source": [
        "#9. Generate a Pandas DataFrame and filter rows where a column value is greater than a threshold\n",
        "import pandas as pd\n",
        "df = pd.DataFrame({'A': [1, 2, 3, 4]})\n",
        "filtered_df = df[df['A'] > 2]\n"
      ],
      "metadata": {
        "id": "xycA7bDlrfUm"
      },
      "execution_count": null,
      "outputs": []
    },
    {
      "cell_type": "code",
      "source": [
        "#10.Create a histogram using Seaborn to visualize a distribution\n",
        "import seaborn as sns\n",
        "data = [1, 2, 2, 3, 3, 3, 4]\n",
        "sns.histplot(data, kde=True)\n"
      ],
      "metadata": {
        "id": "KHyX3jEuriS0"
      },
      "execution_count": null,
      "outputs": []
    },
    {
      "cell_type": "code",
      "source": [
        "#11. Perform matrix multiplication using NumPy\n",
        "import numpy as np\n",
        "a = np.array([[1, 2], [3, 4]])\n",
        "b = np.array([[5, 6], [7, 8]])\n",
        "result = np.dot(a, b)\n"
      ],
      "metadata": {
        "id": "BFx5jyW6rk8r"
      },
      "execution_count": null,
      "outputs": []
    },
    {
      "cell_type": "code",
      "source": [
        "#12. Use Pandas to load a CSV file and display its first 5 rows\n",
        "import pandas as pd\n",
        "df = pd.read_csv('file.csv')\n",
        "print(df.head())\n"
      ],
      "metadata": {
        "id": "a7mofMGprrZZ"
      },
      "execution_count": null,
      "outputs": []
    },
    {
      "cell_type": "code",
      "source": [
        "#13. Create a 3D scatter plot using Plotly\n",
        "import plotly.express as px\n",
        "df = px.data.iris()\n",
        "fig = px.scatter_3d(df, x='sepal_length', y='sepal_width', z='petal_length', color='species')\n",
        "fig.show()\n"
      ],
      "metadata": {
        "id": "5CEK2Jzbru6O"
      },
      "execution_count": null,
      "outputs": []
    }
  ]
}