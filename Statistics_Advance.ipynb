{
  "nbformat": 4,
  "nbformat_minor": 0,
  "metadata": {
    "colab": {
      "provenance": []
    },
    "kernelspec": {
      "name": "python3",
      "display_name": "Python 3"
    },
    "language_info": {
      "name": "python"
    }
  },
  "cells": [
    {
      "cell_type": "markdown",
      "source": [
        "Q1. What is a random variable in probability theory?\n",
        " -> A random variable is a numerical outcome of a random process or experiment. It assigns a real number to each outcome in a sample space. For example, when tossing a coin, we can define a random variable X that assigns 1 to heads and 0 to tails. This helps quantify outcomes in probabilistic terms."
      ],
      "metadata": {
        "id": "r05BhGM3LZjT"
      }
    },
    {
      "cell_type": "markdown",
      "source": [
        "Q2. What are the types of random variables?\n",
        " -> Random variables are mainly of two types: discrete and continuous. A discrete random variable takes a finite or countable number of values, like the number of children in a family. A continuous random variable can take any value within a given range, like the height of people in a city."
      ],
      "metadata": {
        "id": "gUBlfjLvLq9T"
      }
    },
    {
      "cell_type": "markdown",
      "source": [
        "Q3. What is the difference between discrete and continuous distributions?\n",
        "  - Discrete distributions are associated with discrete random variables and have specific probabilities assigned to each possible value (e.g., binomial distribution). Continuous distributions are linked to continuous random variables, where probabilities are described over intervals using probability density functions (e.g., normal distribution)."
      ],
      "metadata": {
        "id": "xA7bmdGiL2Aa"
      }
    },
    {
      "cell_type": "markdown",
      "source": [
        "Q4. What are probability distribution functions (PDF)?\n",
        " - A Probability Distribution Function describes how probabilities are distributed over the values of the random variable. For discrete variables, it's called the probability mass function (PMF), while for continuous variables, the PDF gives the likelihood of a value within a specific interval. For example, the normal distribution’s bell-shaped curve is a PDF."
      ],
      "metadata": {
        "id": "RPuhXr3DL8kh"
      }
    },
    {
      "cell_type": "markdown",
      "source": [
        "Q5. How do cumulative distribution functions (CDF) differ from probability distribution functions (PDF)?\n",
        "-The CDF gives the probability that a random variable is less than or equal to a certain value. It is derived from the PDF and is always non-decreasing. While the PDF shows the density at each point, the CDF shows the accumulated probability up to that point."
      ],
      "metadata": {
        "id": "j2i4NPpzMCsW"
      }
    },
    {
      "cell_type": "markdown",
      "source": [
        "6. What is a discrete uniform distribution?\n",
        "  - A discrete uniform distribution is one where all outcomes are equally likely. For example, rolling a fair die results in each number (1 to 6) having a probability of 1/6. It is often used in games and simulations."
      ],
      "metadata": {
        "id": "vSSX82EDMcfL"
      }
    },
    {
      "cell_type": "markdown",
      "source": [
        "7. What are the key properties of a Bernoulli distribution?\n",
        "A Bernoulli distribution models a random experiment with exactly two outcomes: success (1) and failure (0). The probability of success is\n",
        "𝑝\n",
        "p and failure is\n",
        "1\n",
        "−\n",
        "𝑝\n",
        "1−p. It's a basic building block for other distributions like the binomial."
      ],
      "metadata": {
        "id": "oRJ3vVqgMiIq"
      }
    },
    {
      "cell_type": "markdown",
      "source": [
        "8. What is the binomial distribution, and how is it used in probability?\n",
        "The binomial distribution models the number of successes in a fixed number of independent Bernoulli trials. For example, the probability of getting 3 heads in 5 coin tosses follows a binomial distribution. It's useful in quality control, medical trials, and decision-making.\n",
        "\n"
      ],
      "metadata": {
        "id": "oIUuU6ysMtLu"
      }
    },
    {
      "cell_type": "markdown",
      "source": [
        "9. What is the Poisson distribution and where is it applied?\n",
        "The Poisson distribution describes the probability of a given number of events occurring in a fixed interval of time or space. It's used when events occur independently, like the number of calls received at a call center in an hour.\n",
        "\n"
      ],
      "metadata": {
        "id": "sVU-K7gvMvst"
      }
    },
    {
      "cell_type": "markdown",
      "source": [
        "10. What is a continuous uniform distribution?\n",
        "A continuous uniform distribution is when all values within a range are equally likely. For example, if you randomly pick a number between 0 and 1, each number has an equal chance of being selected. It’s commonly used in simulations and modeling random processes.\n",
        "\n"
      ],
      "metadata": {
        "id": "9fQmzuE6Mxfy"
      }
    },
    {
      "cell_type": "markdown",
      "source": [
        "11. What are the characteristics of a normal distribution?\n",
        "A normal distribution is symmetric and bell-shaped, centered around the mean. Most data points cluster around the mean, with probabilities tapering off as you move away. It’s defined by its mean and standard deviation and is fundamental in statistics due to the Central Limit Theorem.\n",
        "\n"
      ],
      "metadata": {
        "id": "yD6d9NuLMzSa"
      }
    },
    {
      "cell_type": "markdown",
      "source": [
        "12. What is the standard normal distribution, and why is it important?\n",
        "The standard normal distribution is a special case of the normal distribution with a mean of 0 and a standard deviation of 1. It allows for easy comparison of data using Z-scores and is used extensively in hypothesis testing and confidence interval estimation.\n",
        "\n"
      ],
      "metadata": {
        "id": "QFF52BBjM1U6"
      }
    },
    {
      "cell_type": "markdown",
      "source": [
        "13. What is the Central Limit Theorem (CLT), and why is it critical in statistics?\n",
        "The CLT states that the distribution of the sample mean approaches a normal distribution as the sample size increases, regardless of the population's original distribution. This is crucial because it allows us to use normal probability models for inference even when the data isn’t normally distributed."
      ],
      "metadata": {
        "id": "CHgTr2DDM328"
      }
    },
    {
      "cell_type": "markdown",
      "source": [
        "14. How does the Central Limit Theorem relate to the normal distribution?\n",
        "The CLT explains why the normal distribution appears so often in statistics. It ensures that the mean of large samples from any population will follow a normal distribution, enabling the use of Z-tests and confidence intervals.\n",
        "\n"
      ],
      "metadata": {
        "id": "cDX2nD01M-Fm"
      }
    },
    {
      "cell_type": "markdown",
      "source": [
        "15. What is the application of Z statistics in hypothesis testing?\n",
        "Z statistics are used to determine how far a sample statistic is from the population parameter under the null hypothesis. In hypothesis testing, Z-scores help assess whether to reject the null hypothesis, especially in large samples.\n",
        "\n"
      ],
      "metadata": {
        "id": "8pU5_w-sM-uT"
      }
    },
    {
      "cell_type": "markdown",
      "source": [
        "16. How do you calculate a Z-score, and what does it represent?\n",
        "A Z-score is calculated as\n",
        "𝑍\n",
        "=\n",
        "𝑋\n",
        "−\n",
        "𝜇\n",
        "𝜎\n",
        "Z=\n",
        "σ\n",
        "X−μ\n",
        "​\n",
        " , where\n",
        "𝑋\n",
        "X is the value,\n",
        "𝜇\n",
        "μ is the mean, and\n",
        "𝜎\n",
        "σ is the standard deviation. It tells us how many standard deviations a value is from the mean. For instance, a Z-score of 2 means the value is two standard deviations above the mean.\n",
        "\n"
      ],
      "metadata": {
        "id": "Vd3sD_CRNAQy"
      }
    },
    {
      "cell_type": "markdown",
      "source": [
        "17. What are point estimates and interval estimates in statistics?\n",
        "A point estimate provides a single value as an estimate of a population parameter (e.g., sample mean). An interval estimate gives a range of values, like a confidence interval, which is more informative as it accounts for variability in the data."
      ],
      "metadata": {
        "id": "PK5JccKMNCM6"
      }
    },
    {
      "cell_type": "markdown",
      "source": [
        "18. What is the significance of confidence intervals in statistical analysis?\n",
        "Confidence intervals provide a range within which the true population parameter is likely to lie, with a certain level of confidence (e.g., 95%). They are important for understanding the precision of estimates and making informed decisions."
      ],
      "metadata": {
        "id": "fViatNCtNEVS"
      }
    },
    {
      "cell_type": "markdown",
      "source": [
        "19. What is the relationship between a Z-score and a confidence interval?\n",
        "Z-scores define the boundaries of confidence intervals in standard normal distributions. For example, a 95% confidence interval uses Z-scores of ±1.96, meaning we expect the true parameter to fall within this range 95% of the time.\n",
        "\n"
      ],
      "metadata": {
        "id": "tbpZQ2eMNGJV"
      }
    },
    {
      "cell_type": "markdown",
      "source": [
        "20. How are Z-scores used to compare different distributions?\n",
        "Z-scores standardize different distributions, allowing comparison of values from different scales. For example, a test score with a Z of 1.5 on one exam and 2.0 on another indicates the second score is relatively better compared to its peers."
      ],
      "metadata": {
        "id": "vEQz6LUINIwq"
      }
    },
    {
      "cell_type": "markdown",
      "source": [
        "21. What are the assumptions for applying the Central Limit Theorem?\n",
        "Key assumptions include: samples are independent, identically distributed, and sufficiently large (usually n ≥ 30). The population should have a finite variance. These ensure that the sampling distribution of the mean is approximately normal."
      ],
      "metadata": {
        "id": "cR6C3PtNNKg6"
      }
    },
    {
      "cell_type": "markdown",
      "source": [
        "22. What is the concept of expected value in a probability distribution?\n",
        "The expected value is the average outcome of a random variable if the experiment is repeated many times. It’s calculated as the sum of each value times its probability. For example, in a dice roll, the expected value is\n",
        "(\n",
        "1+2+3+4+5+6)/6=3.5\n",
        "(1+2+3+4+5+6)/6=3.5."
      ],
      "metadata": {
        "id": "xNF8vE8ZNR3a"
      }
    },
    {
      "cell_type": "markdown",
      "source": [
        "23. How does a probability distribution relate to the expected outcome of a random variable?\n",
        "A probability distribution provides the likelihood of each outcome of a random variable, which is used to compute the expected value. The expected outcome reflects the average result considering all possible values weighted by their probabilities.\n",
        "\n"
      ],
      "metadata": {
        "id": "FxxrcR-fNgve"
      }
    },
    {
      "cell_type": "markdown",
      "source": [],
      "metadata": {
        "id": "Cb7clvvBMnUK"
      }
    }
  ]
}