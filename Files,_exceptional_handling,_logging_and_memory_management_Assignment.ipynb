{
  "nbformat": 4,
  "nbformat_minor": 0,
  "metadata": {
    "colab": {
      "provenance": []
    },
    "kernelspec": {
      "name": "python3",
      "display_name": "Python 3"
    },
    "language_info": {
      "name": "python"
    }
  },
  "cells": [
    {
      "cell_type": "markdown",
      "source": [
        "Files, exceptional handling, logging and    \n",
        "memory management Questions"
      ],
      "metadata": {
        "id": "UTpOl0EMPhkF"
      }
    },
    {
      "cell_type": "markdown",
      "source": [
        "1. What is the difference between interpreted and compiled languages?\n",
        " -> Compiled languages are translated into machine code before execution using a compiler, resulting in a standalone executable. They offer faster performance but require compilation after each change.\n",
        "Examples: C, C++, Rust\n",
        "Interpreted languages are executed line-by-line at runtime by an interpreter. They allow quicker development and easier debugging, but are generally slower.\n",
        "Examples: Python, JavaScript, Ruby"
      ],
      "metadata": {
        "id": "BC6ZUR6MPxwx"
      }
    },
    {
      "cell_type": "markdown",
      "source": [
        "2. What is exception handling in Python?\n",
        "-> Exception handling in Python allows the program to respond to runtime errors gracefully using try, except, else, and finally blocks."
      ],
      "metadata": {
        "id": "e7kjRwCYQS6w"
      }
    },
    {
      "cell_type": "markdown",
      "source": [
        "3. What is the purpose of the finally block in exception handling?\n",
        "\n",
        "The finally block executes code regardless of whether an exception occurred, commonly used for cleanup actions."
      ],
      "metadata": {
        "id": "Zy9us6p6RlA4"
      }
    },
    {
      "cell_type": "markdown",
      "source": [
        "4. What is logging in Python?\n",
        "\n",
        "Logging is the process of tracking events that happen during a program's execution. Python’s logging module allows recording of debug messages, warnings, errors, etc."
      ],
      "metadata": {
        "id": "T9o2aKjrRnrj"
      }
    },
    {
      "cell_type": "markdown",
      "source": [
        "5. What is the significance of the __del__ method in Python?\n",
        "\n",
        "__del__ is a destructor method that is called when an object is about to be destroyed, used for cleanup."
      ],
      "metadata": {
        "id": "wMQiqDJRRrjk"
      }
    },
    {
      "cell_type": "markdown",
      "source": [
        "6. What is the difference between import and from ... import in Python?\n",
        "\n",
        "import module: Imports the whole module.\n",
        "\n",
        "from module import func: Imports only specific attributes or functions."
      ],
      "metadata": {
        "id": "-zx2Nc1QRunH"
      }
    },
    {
      "cell_type": "markdown",
      "source": [
        "7. How can you handle multiple exceptions in Python?\n",
        "\n",
        "Use multiple except blocks or combine them using tuples:\n",
        "try:\n",
        "    pass\n",
        "except (TypeError, ValueError) as e:\n",
        "    print(e)"
      ],
      "metadata": {
        "id": "s43X13A4R0Tv"
      }
    },
    {
      "cell_type": "markdown",
      "source": [
        "8. What is the purpose of the with statement when handling files in Python?\n",
        "\n",
        "The with statement ensures that files are properly closed after being accessed, even if an error occurs."
      ],
      "metadata": {
        "id": "_wdEoZQbR45H"
      }
    },
    {
      "cell_type": "markdown",
      "source": [
        "9. What is the difference between multithreading and multiprocessing?\n",
        "\n",
        "Multithreading: Multiple threads share the same memory.\n",
        "\n",
        "Multiprocessing: Multiple processes have separate memory, useful for CPU-bound tasks."
      ],
      "metadata": {
        "id": "ehbx2NnvR7or"
      }
    },
    {
      "cell_type": "markdown",
      "source": [
        "10. What are the advantages of using logging in a program?\n",
        "\n",
        "Easier debugging\n",
        "\n",
        "Records runtime events\n",
        "\n",
        "Allows tracking issues in production\n",
        "\n",
        "Better than using print statements"
      ],
      "metadata": {
        "id": "_RaQ4vjoSBAg"
      }
    },
    {
      "cell_type": "markdown",
      "source": [
        "11. What is memory management in Python?\n",
        "\n",
        "Python uses automatic memory management, including reference counting and garbage collection."
      ],
      "metadata": {
        "id": "QQyWJqaASEZg"
      }
    },
    {
      "cell_type": "markdown",
      "source": [
        "What are the basic steps involved in exception handling in Python?\n",
        "\n",
        "Try block\n",
        "\n",
        "Except block(s)\n",
        "\n",
        "Optional else block\n",
        "\n",
        "Optional finally block"
      ],
      "metadata": {
        "id": "92VcZ-J1SIXX"
      }
    },
    {
      "cell_type": "markdown",
      "source": [
        "13. Why is memory management important in Python?\n",
        "\n",
        "Efficient memory management ensures optimal performance and prevents memory leaks."
      ],
      "metadata": {
        "id": "6pv3pkXbSKua"
      }
    },
    {
      "cell_type": "markdown",
      "source": [
        "14. What is the role of try and except in exception handling?\n",
        "\n",
        "try lets you test a block for errors. except lets you handle the error."
      ],
      "metadata": {
        "id": "tyGLAexpSMc3"
      }
    },
    {
      "cell_type": "markdown",
      "source": [
        "15. How does Python's garbage collection system work?\n",
        "\n",
        "Python uses reference counting and a cyclic garbage collector to reclaim unused memory."
      ],
      "metadata": {
        "id": "mFoXQFBVSQo3"
      }
    },
    {
      "cell_type": "markdown",
      "source": [
        "16. What is the purpose of the else block in exception handling?\n",
        "\n",
        "The else block runs if no exceptions are raised in the try block."
      ],
      "metadata": {
        "id": "H62z6Lc1SSTm"
      }
    },
    {
      "cell_type": "markdown",
      "source": [
        "17. What are the common logging levels in Python?\n",
        "Debug, info, warning, error and critical\n"
      ],
      "metadata": {
        "id": "NAbelImBSUT3"
      }
    },
    {
      "cell_type": "markdown",
      "source": [
        "18. What is the difference between os.fork() and multiprocessing in Python?\n",
        "\n",
        "os.fork() creates a child process at the OS level (Unix only).\n",
        "\n",
        "multiprocessing is cross-platform and uses an API for process-based parallelism."
      ],
      "metadata": {
        "id": "WKzlriY0SWJv"
      }
    },
    {
      "cell_type": "markdown",
      "source": [
        "19. What is the importance of closing a file in Python?\n",
        "\n",
        "Closing a file releases system resources and ensures that all data is written."
      ],
      "metadata": {
        "id": "EoPZYoiVSYZ7"
      }
    },
    {
      "cell_type": "markdown",
      "source": [
        "20. What is the difference between file.read() and file.readline()?\n",
        "\n",
        "file.read(): Reads the entire file.\n",
        "\n",
        "file.readline(): Reads one line at a time."
      ],
      "metadata": {
        "id": "V_SeP8zoSbMT"
      }
    },
    {
      "cell_type": "markdown",
      "source": [
        "21. What is the logging module in Python used for?\n",
        "\n",
        "It is used for tracking events and debugging by writing logs to console or files."
      ],
      "metadata": {
        "id": "e2KRFD7nSeDn"
      }
    },
    {
      "cell_type": "markdown",
      "source": [
        "22. What is the os module in Python used for in file handling?\n",
        "\n",
        "Used for interacting with the operating system, such as checking file existence, renaming, deleting files, etc."
      ],
      "metadata": {
        "id": "GT7qNyLbSge3"
      }
    },
    {
      "cell_type": "markdown",
      "source": [
        "23. What are the challenges associated with memory management in Python?\n",
        "\n",
        "Cyclic references\n",
        "\n",
        "Memory fragmentation\n",
        "\n",
        "Managing large objects"
      ],
      "metadata": {
        "id": "HqL1uX7kSh-_"
      }
    },
    {
      "cell_type": "markdown",
      "source": [
        "24. How do you raise an exception manually in Python?\n",
        "raise ValueError(\"This is a manually raised exception\")"
      ],
      "metadata": {
        "id": "j_xs2wGvSkKj"
      }
    },
    {
      "cell_type": "markdown",
      "source": [
        "25. Why is it important to use multithreading in certain applications?\n",
        "\n",
        "Multithreading allows concurrent execution, improving performance in I/O-bound applications."
      ],
      "metadata": {
        "id": "_roGHlFXSol-"
      }
    },
    {
      "cell_type": "markdown",
      "source": [
        "# Practical Questions"
      ],
      "metadata": {
        "id": "VxUQrjh8Sqdu"
      }
    },
    {
      "cell_type": "code",
      "source": [
        "#1. How can you open a file for writing in Python and write a string to it\n",
        "with open(\"example.txt\", \"w\") as file:\n",
        "    file.write(\"Hello, this is a test string.\")"
      ],
      "metadata": {
        "id": "bB7o8Kf5S3-6"
      },
      "execution_count": 2,
      "outputs": []
    },
    {
      "cell_type": "code",
      "source": [
        "#2. Write a Python program to read the contents of a file and print each line\n",
        "with open(\"example.txt\", \"r\") as file:\n",
        "    for line in file:\n",
        "        print(line.strip())"
      ],
      "metadata": {
        "colab": {
          "base_uri": "https://localhost:8080/"
        },
        "id": "yxHYjAemUKd-",
        "outputId": "76790194-f3aa-4846-e3bb-6f08a9e83d1c"
      },
      "execution_count": 3,
      "outputs": [
        {
          "output_type": "stream",
          "name": "stdout",
          "text": [
            "Hello, this is a test string.\n"
          ]
        }
      ]
    },
    {
      "cell_type": "code",
      "source": [
        "#3.  How would you handle a case where the file doesn't exist while trying to open it for reading?\n",
        "try:\n",
        "    with open(\"nonexistent.txt\", \"r\") as file:\n",
        "        print(file.read())\n",
        "except FileNotFoundError:\n",
        "    print(\"File does not exist\")"
      ],
      "metadata": {
        "colab": {
          "base_uri": "https://localhost:8080/"
        },
        "id": "whhKSZxjUZSj",
        "outputId": "7aabd5d0-f65e-4c18-ef52-66eb7f34a1a9"
      },
      "execution_count": 5,
      "outputs": [
        {
          "output_type": "stream",
          "name": "stdout",
          "text": [
            "File does not exist\n"
          ]
        }
      ]
    },
    {
      "cell_type": "code",
      "source": [
        "#4 Write a Python script that reads from one file and writes its content to another file?\n",
        "source_file = \"input.txt\"\n",
        "destination_file = \"output.txt\"\n",
        "\n",
        "try:\n",
        "    with open(source_file, \"r\") as source:\n",
        "        content = source.read()\n",
        "\n",
        "    with open(destination_file, \"w\") as destination:\n",
        "        destination.write(content)\n",
        "\n",
        "    print(\"File copied successfully.\")\n",
        "except FileNotFoundError:\n",
        "    print(f\"The file {source_file} does not exist.\")\n",
        "except Exception as e:\n",
        "    print(f\"An error occurred: {e}\")"
      ],
      "metadata": {
        "colab": {
          "base_uri": "https://localhost:8080/"
        },
        "id": "a1DhPzANUzku",
        "outputId": "778f8f7d-fb9b-485b-d5d8-2289d1c59e52"
      },
      "execution_count": 25,
      "outputs": [
        {
          "output_type": "stream",
          "name": "stdout",
          "text": [
            "The file input.txt does not exist.\n"
          ]
        }
      ]
    },
    {
      "cell_type": "code",
      "source": [
        "#5 How would you catch and handle division by zero error in Python?\n",
        "try:\n",
        "    result = 10 / 0\n",
        "except ZeroDivisionError:\n",
        "    print(\"Cannot divide by zero\")"
      ],
      "metadata": {
        "colab": {
          "base_uri": "https://localhost:8080/"
        },
        "id": "RgzgUTDmVjDl",
        "outputId": "34d18c5e-41e0-4ac5-f886-0610644d09ed"
      },
      "execution_count": 6,
      "outputs": [
        {
          "output_type": "stream",
          "name": "stdout",
          "text": [
            "Cannot divide by zero\n"
          ]
        }
      ]
    },
    {
      "cell_type": "code",
      "source": [
        " #6. Write a Python program that logs an error message to a log file when a division by zero exception occurs?\n",
        " import logging\n",
        "logging.basicConfig(filename='error.log', level=logging.ERROR)\n",
        "\n",
        "try:\n",
        "    result = 10 / 0\n",
        "except ZeroDivisionError as e:\n",
        "    logging.error(f\"Division error: {e}\")"
      ],
      "metadata": {
        "colab": {
          "base_uri": "https://localhost:8080/"
        },
        "id": "eApj50qLVndu",
        "outputId": "0621eead-2e40-4e6f-e9c9-22a1b40457a6"
      },
      "execution_count": 7,
      "outputs": [
        {
          "output_type": "stream",
          "name": "stderr",
          "text": [
            "ERROR:root:Division error: division by zero\n"
          ]
        }
      ]
    },
    {
      "cell_type": "code",
      "source": [
        "#7 How do you log information at different levels (INFO, ERROR, WARNING) in Python using the logging module?\n",
        "logging.basicConfig(level=logging.DEBUG)\n",
        "logging.debug(\"Debug message\")\n",
        "logging.info(\"Info message\")\n",
        "logging.warning(\"Warning message\")\n",
        "logging.error(\"Error message\")"
      ],
      "metadata": {
        "colab": {
          "base_uri": "https://localhost:8080/"
        },
        "id": "7kleKN2_V_gG",
        "outputId": "10feb352-0560-4954-b555-dc4e317cf697"
      },
      "execution_count": 8,
      "outputs": [
        {
          "output_type": "stream",
          "name": "stderr",
          "text": [
            "WARNING:root:Warning message\n",
            "ERROR:root:Error message\n"
          ]
        }
      ]
    },
    {
      "cell_type": "code",
      "source": [
        "#8.Write a program to handle a file opening error using exception handling?\n",
        "try:\n",
        "    with open(\"unknown.txt\", \"r\") as f:\n",
        "        content = f.read()\n",
        "except FileNotFoundError:\n",
        "    print(\"File not found\")"
      ],
      "metadata": {
        "colab": {
          "base_uri": "https://localhost:8080/"
        },
        "id": "xDxENM50WJae",
        "outputId": "e8c5953a-6751-4c17-e9a6-9b6f569f54f9"
      },
      "execution_count": 9,
      "outputs": [
        {
          "output_type": "stream",
          "name": "stdout",
          "text": [
            "File not found\n"
          ]
        }
      ]
    },
    {
      "cell_type": "code",
      "source": [
        "#9.How can you read a file line by line and store its content in a list in Python?\n",
        "with open(\"example.txt\", \"r\") as file:\n",
        "    lines = [line.strip() for line in file]"
      ],
      "metadata": {
        "id": "U9pC9oeDWXav"
      },
      "execution_count": 10,
      "outputs": []
    },
    {
      "cell_type": "code",
      "source": [
        " #10. How can you append data to an existing file in Python?\n",
        " with open(\"example.txt\", \"a\") as file:\n",
        "    file.write(\"\\nNew appended line\")"
      ],
      "metadata": {
        "id": "n9tH1uVRWdei"
      },
      "execution_count": 11,
      "outputs": []
    },
    {
      "cell_type": "code",
      "source": [
        "#11.Write a Python program that uses a try-except block to handle an error when attempting to access a\n",
        "#dictionary key that doesn't exist.\n",
        "try:\n",
        "    data = {\"name\": \"Alice\"}\n",
        "    print(data[\"age\"])\n",
        "except KeyError:\n",
        "    print(\"Key not found\")"
      ],
      "metadata": {
        "colab": {
          "base_uri": "https://localhost:8080/"
        },
        "id": "LMoIoc3yWvJt",
        "outputId": "23e39fd8-a517-44fe-b410-e24b3a9f3bd9"
      },
      "execution_count": 12,
      "outputs": [
        {
          "output_type": "stream",
          "name": "stdout",
          "text": [
            "Key not found\n"
          ]
        }
      ]
    },
    {
      "cell_type": "code",
      "source": [
        "#12.Write a program that demonstrates using multiple except blocks to handle different types of exceptions.\n",
        "try:\n",
        "    lst = [1, 2]\n",
        "    print(lst[5])\n",
        "except IndexError:\n",
        "    print(\"Index error\")\n",
        "except KeyError:\n",
        "    print(\"Key error\")"
      ],
      "metadata": {
        "colab": {
          "base_uri": "https://localhost:8080/"
        },
        "id": "J2JVOBAHW3cN",
        "outputId": "6df5f34a-18eb-4583-ac1b-449ba8490565"
      },
      "execution_count": 13,
      "outputs": [
        {
          "output_type": "stream",
          "name": "stdout",
          "text": [
            "Index error\n"
          ]
        }
      ]
    },
    {
      "cell_type": "code",
      "source": [
        " #13. How would you check if a file exists before attempting to read it in Python?\n",
        " import os\n",
        "if os.path.exists(\"example.txt\"):\n",
        "    with open(\"example.txt\", \"r\") as f:\n",
        "        print(f.read())"
      ],
      "metadata": {
        "colab": {
          "base_uri": "https://localhost:8080/"
        },
        "id": "ICgXzAvMXB89",
        "outputId": "7749b01f-feb3-4cbc-ecbf-0f6538e92182"
      },
      "execution_count": 14,
      "outputs": [
        {
          "output_type": "stream",
          "name": "stdout",
          "text": [
            "Hello, this is a test string.\n",
            "New appended line\n"
          ]
        }
      ]
    },
    {
      "cell_type": "code",
      "source": [
        "#14. Write a program that uses the logging module to log both informational and error messages.\n",
        "logging.basicConfig(filename='app.log', level=logging.INFO)\n",
        "logging.info(\"Program started\")\n",
        "try:\n",
        "    x = 1 / 0\n",
        "except ZeroDivisionError:\n",
        "    logging.error(\"ZeroDivisionError occurred\")"
      ],
      "metadata": {
        "colab": {
          "base_uri": "https://localhost:8080/"
        },
        "id": "XwCuGxOpXRqB",
        "outputId": "4ef92a07-e21d-45dc-cbdd-d1a60641e5e5"
      },
      "execution_count": 15,
      "outputs": [
        {
          "output_type": "stream",
          "name": "stderr",
          "text": [
            "ERROR:root:ZeroDivisionError occurred\n"
          ]
        }
      ]
    },
    {
      "cell_type": "code",
      "source": [
        "#15. Write a Python program that prints the content of a file and handles the case when the file is empty.\n",
        "with open(\"example.txt\", \"r\") as f:\n",
        "    content = f.read()\n",
        "    if content:\n",
        "        print(content)\n",
        "    else:\n",
        "        print(\"File is empty\")"
      ],
      "metadata": {
        "colab": {
          "base_uri": "https://localhost:8080/"
        },
        "id": "w9AyCmjWXazC",
        "outputId": "50c8a70a-46ab-485c-b33b-a59bb42cd398"
      },
      "execution_count": 16,
      "outputs": [
        {
          "output_type": "stream",
          "name": "stdout",
          "text": [
            "Hello, this is a test string.\n",
            "New appended line\n"
          ]
        }
      ]
    },
    {
      "cell_type": "code",
      "source": [
        "#16. Demonstrate how to use memory profiling to check the memory usage of a small program.\n",
        "#pip install memory_profiler\n",
        "from memory_profiler import profile\n",
        "\n",
        "@profile\n",
        "def create_large_list():\n",
        "    a = [i for i in range(100000)]  # Simulating memory usage\n",
        "    return a\n",
        "\n",
        "if __name__ == \"__main__\":\n",
        "    create_large_list()\n",
        "!python -m memory_profiler your_script.py\n",
        "@profile\n",
        "def create_large_list():\n",
        "    a = [i for i in range(100000)]  # Simulating memory usage\n",
        "    return a\n",
        "\n",
        "if __name__ == \"__main__\":\n",
        "    create_large_list()\n",
        "python -m memory_profiler your_script.py"
      ],
      "metadata": {
        "id": "yzadzFAqXkAd"
      },
      "execution_count": null,
      "outputs": []
    },
    {
      "cell_type": "code",
      "source": [
        "#17. Write a Python program to create and write a list of numbers to a file, one number per line.\n",
        "with open(\"numbers.txt\", \"w\") as file:\n",
        "    for i in range(10):\n",
        "        file.write(f\"{i}\\n\")"
      ],
      "metadata": {
        "id": "mownj9zwXrbq"
      },
      "execution_count": 18,
      "outputs": []
    },
    {
      "cell_type": "code",
      "source": [
        "#18.How would you implement a basic logging setup that logs to a file with rotation after 1MB.\n",
        "import logging\n",
        "from logging.handlers import RotatingFileHandler\n",
        "\n",
        "handler = RotatingFileHandler(\"rotated.log\", maxBytes=1024*1024, backupCount=3)\n",
        "logging.basicConfig(handlers=[handler], level=logging.INFO)\n",
        "logging.info(\"Rotating log example\")"
      ],
      "metadata": {
        "id": "d8VY8L6VX6_B"
      },
      "execution_count": 19,
      "outputs": []
    },
    {
      "cell_type": "code",
      "source": [
        "#19. Write a program that handles both IndexError and KeyError using a try-except block.\n",
        "try:\n",
        "    lst = [1]\n",
        "    print(lst[5])\n",
        "except IndexError:\n",
        "    print(\"Index out of range\")\n",
        "\n",
        "try:\n",
        "    d = {\"a\": 1}\n",
        "    print(d[\"b\"])\n",
        "except KeyError:\n",
        "    print(\"Key not found\")"
      ],
      "metadata": {
        "colab": {
          "base_uri": "https://localhost:8080/"
        },
        "id": "K3FfI-FgYCAS",
        "outputId": "ad2e5439-5066-4393-aed2-e1d2d9a2c934"
      },
      "execution_count": 20,
      "outputs": [
        {
          "output_type": "stream",
          "name": "stdout",
          "text": [
            "Index out of range\n",
            "Key not found\n"
          ]
        }
      ]
    },
    {
      "cell_type": "code",
      "source": [
        "#20. How would you open a file and read its contents using a context manager in Python?\n",
        "with open(\"example.txt\", \"r\") as file:\n",
        "    print(file.read())"
      ],
      "metadata": {
        "colab": {
          "base_uri": "https://localhost:8080/"
        },
        "id": "gFtV12Y_YJN5",
        "outputId": "404441fc-f9d8-43f3-d25b-f1f48bcc9db6"
      },
      "execution_count": 21,
      "outputs": [
        {
          "output_type": "stream",
          "name": "stdout",
          "text": [
            "Hello, this is a test string.\n",
            "New appended line\n"
          ]
        }
      ]
    },
    {
      "cell_type": "code",
      "source": [
        "#21. Write a Python program that reads a file and prints the number of occurrences of a specific word.\n",
        "word = \"Python\"\n",
        "count = 0\n",
        "with open(\"example.txt\", \"r\") as file:\n",
        "    for line in file:\n",
        "        count += line.count(word)\n",
        "print(f\"'{word}' found {count} times\")"
      ],
      "metadata": {
        "colab": {
          "base_uri": "https://localhost:8080/"
        },
        "id": "xtflbLFzYSTa",
        "outputId": "8690c94a-fcbf-42d0-8785-303ef285f0cd"
      },
      "execution_count": 22,
      "outputs": [
        {
          "output_type": "stream",
          "name": "stdout",
          "text": [
            "'Python' found 0 times\n"
          ]
        }
      ]
    },
    {
      "cell_type": "code",
      "source": [
        "#22. How can you check if a file is empty before attempting to read its contents.\n",
        "import os\n",
        "if os.path.getsize(\"example.txt\") == 0:\n",
        "    print(\"File is empty\")\n",
        "else:\n",
        "    print(\"File is not empty\")"
      ],
      "metadata": {
        "colab": {
          "base_uri": "https://localhost:8080/"
        },
        "id": "XR66j_NDYb5C",
        "outputId": "4b428125-06f6-47d1-b838-b48afdfc7b63"
      },
      "execution_count": 23,
      "outputs": [
        {
          "output_type": "stream",
          "name": "stdout",
          "text": [
            "File is not empty\n"
          ]
        }
      ]
    },
    {
      "cell_type": "code",
      "source": [
        "#23.Write a Python program that writes to a log file when an error occurs during file handling.\n",
        "try:\n",
        "    with open(\"missing.txt\", \"r\") as f:\n",
        "        print(f.read())\n",
        "except Exception as e:\n",
        "    logging.error(f\"File handling error: {e}\")"
      ],
      "metadata": {
        "colab": {
          "base_uri": "https://localhost:8080/"
        },
        "id": "E1K29IRyYiUE",
        "outputId": "0437d626-d6a6-4ae5-bd76-6036041244ca"
      },
      "execution_count": 24,
      "outputs": [
        {
          "output_type": "stream",
          "name": "stderr",
          "text": [
            "ERROR:root:File handling error: [Errno 2] No such file or directory: 'missing.txt'\n"
          ]
        }
      ]
    }
  ]
}